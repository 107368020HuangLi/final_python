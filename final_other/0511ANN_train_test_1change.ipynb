{
 "cells": [
  {
   "cell_type": "code",
   "execution_count": 1,
   "metadata": {},
   "outputs": [],
   "source": [
    "from sklearn import datasets\n",
    "from sklearn.model_selection import train_test_split\n",
    "import matplotlib.pyplot as plt\n",
    "%matplotlib inline"
   ]
  },
  {
   "cell_type": "code",
   "execution_count": 2,
   "metadata": {},
   "outputs": [
    {
     "name": "stderr",
     "output_type": "stream",
     "text": [
      "Using TensorFlow backend.\n"
     ]
    }
   ],
   "source": [
    "import numpy as np\n",
    "import pandas as pd\n",
    "from sklearn import preprocessing\n",
    "import tensorflow as tf \n",
    "from tensorflow import keras\n",
    "from sklearn.metrics import precision_recall_fscore_support as score\n",
    "from keras.utils import np_utils\n",
    "from sklearn.utils import shuffle"
   ]
  },
  {
   "cell_type": "code",
   "execution_count": 3,
   "metadata": {},
   "outputs": [],
   "source": [
    "num = 1"
   ]
  },
  {
   "cell_type": "code",
   "execution_count": 4,
   "metadata": {},
   "outputs": [],
   "source": [
    "#train = pd.read_csv('0424new_train_'+str(num)+'.csv')\n",
    "#test = pd.read_csv('0424new_test_'+str(num)+'.csv')"
   ]
  },
  {
   "cell_type": "code",
   "execution_count": 5,
   "metadata": {},
   "outputs": [],
   "source": [
    "#train = pd.read_csv('0424new_train_'+str(num)+'bb.csv')\n",
    "#test = pd.read_csv('0424new_test_'+str(num)+'bb.csv')"
   ]
  },
  {
   "cell_type": "code",
   "execution_count": 6,
   "metadata": {},
   "outputs": [],
   "source": [
    "#train = pd.read_csv('0424new_train_'+str(num)+'cc.csv')\n",
    "#test = pd.read_csv('0424new_test_'+str(num)+'cc.csv')"
   ]
  },
  {
   "cell_type": "code",
   "execution_count": null,
   "metadata": {},
   "outputs": [],
   "source": []
  },
  {
   "cell_type": "code",
   "execution_count": 7,
   "metadata": {},
   "outputs": [],
   "source": [
    "#train = pd.read_csv('0427new_train_'+str(num)+'.csv')\n",
    "#test = pd.read_csv('0427new_test_'+str(num)+'.csv')"
   ]
  },
  {
   "cell_type": "code",
   "execution_count": 8,
   "metadata": {},
   "outputs": [],
   "source": [
    "train = pd.read_csv('0503new_train_'+str(num)+'_change.csv')\n",
    "test = pd.read_csv('0503new_test_'+str(num)+'_change.csv')"
   ]
  },
  {
   "cell_type": "code",
   "execution_count": 9,
   "metadata": {},
   "outputs": [],
   "source": [
    "#train = pd.read_csv('0504new_train_'+str(num)+'_change.csv')\n",
    "#test = pd.read_csv('0504new_test_'+str(num)+'_change.csv')"
   ]
  },
  {
   "cell_type": "code",
   "execution_count": 10,
   "metadata": {},
   "outputs": [],
   "source": [
    "#train = pd.read_csv('0505new_train_'+str(num)+'_change.csv')\n",
    "#test = pd.read_csv('0505new_test_'+str(num)+'_change.csv')"
   ]
  },
  {
   "cell_type": "code",
   "execution_count": 11,
   "metadata": {},
   "outputs": [],
   "source": [
    "#train = pd.read_csv('0424upsample.csv')\n",
    "#test = pd.read_csv('0424new_test_'+str(num)+'dd.csv')"
   ]
  },
  {
   "cell_type": "code",
   "execution_count": 12,
   "metadata": {},
   "outputs": [],
   "source": [
    "#train['HOSDAY'] = train['HOSDAY'].map({\"A\": 0, \"B\":1, \"C\":2, \"D\":3, \"E\":4 }).astype(int)\n",
    "#test['HOSDAY'] = test['HOSDAY'].map({\"A\": 0, \"B\":1, \"C\":2, \"D\":3, \"E\":4 }).astype(int)"
   ]
  },
  {
   "cell_type": "code",
   "execution_count": 13,
   "metadata": {},
   "outputs": [],
   "source": [
    "train['HOSDAY'] = train['HOSDAY'].map({\"A\": 0, \"B\":1, \"C\":2, \"D\":3 }).astype(int)\n",
    "test['HOSDAY'] = test['HOSDAY'].map({\"A\": 0, \"B\":1, \"C\":2, \"D\":3 }).astype(int)"
   ]
  },
  {
   "cell_type": "code",
   "execution_count": 14,
   "metadata": {},
   "outputs": [],
   "source": [
    "train = shuffle(train)\n",
    "#test = shuffle(test)"
   ]
  },
  {
   "cell_type": "code",
   "execution_count": 15,
   "metadata": {},
   "outputs": [],
   "source": [
    "#test"
   ]
  },
  {
   "cell_type": "code",
   "execution_count": 16,
   "metadata": {},
   "outputs": [],
   "source": [
    "train_feature = train.columns[1:]\n",
    "train_target = train.columns[0]\n",
    "train_feature = train[train_feature]\n",
    "train_y = train[train_target]\n",
    "train_y = train_y.values\n",
    "train_y = np_utils.to_categorical(train_y, num_classes = 4)"
   ]
  },
  {
   "cell_type": "code",
   "execution_count": 17,
   "metadata": {},
   "outputs": [],
   "source": [
    "#train_feature"
   ]
  },
  {
   "cell_type": "code",
   "execution_count": null,
   "metadata": {},
   "outputs": [],
   "source": []
  },
  {
   "cell_type": "code",
   "execution_count": 18,
   "metadata": {},
   "outputs": [],
   "source": [
    "#test.reset_index( drop=True, inplace=True )\n",
    "test_feature = test.columns[1:]\n",
    "test_target = test.columns[0]\n",
    "test_feature = test[test_feature]\n",
    "test_y = test[test_target]\n",
    "test_y = test_y.values\n",
    "test_y = np_utils.to_categorical(test_y, num_classes = 4)"
   ]
  },
  {
   "cell_type": "code",
   "execution_count": null,
   "metadata": {},
   "outputs": [],
   "source": []
  },
  {
   "cell_type": "code",
   "execution_count": 19,
   "metadata": {},
   "outputs": [],
   "source": [
    "new_all_feature = preprocessing.scale(train_feature)\n",
    "test_feature  = ( ( test_feature - train_feature.mean(axis=0) ) / train_feature.std(axis=0) )"
   ]
  },
  {
   "cell_type": "code",
   "execution_count": 20,
   "metadata": {},
   "outputs": [],
   "source": [
    "#new_all_feature"
   ]
  },
  {
   "cell_type": "code",
   "execution_count": null,
   "metadata": {},
   "outputs": [],
   "source": []
  },
  {
   "cell_type": "code",
   "execution_count": 21,
   "metadata": {},
   "outputs": [],
   "source": [
    "from keras.models import Sequential\n",
    "from keras.layers import Dense\n",
    "from keras.layers import Dropout\n",
    "from keras import regularizers"
   ]
  },
  {
   "cell_type": "code",
   "execution_count": 22,
   "metadata": {},
   "outputs": [],
   "source": [
    "model = tf.keras.models.Sequential()"
   ]
  },
  {
   "cell_type": "code",
   "execution_count": 23,
   "metadata": {},
   "outputs": [],
   "source": [
    "model.add( tf.keras.layers.Dense(units=64, input_shape=[40],            #52,47\n",
    "           kernel_initializer='he_normal',\n",
    "           kernel_regularizer= regularizers.l2(0.1),  #0.04   #0.04   #1層  0.02\n",
    "#           bias_regularizer = regularizers.l2(0.05),  #0.05\n",
    "#           activity_regularizer=regularizers.l2(0.0001),                      \n",
    "           activation='relu') )"
   ]
  },
  {
   "cell_type": "code",
   "execution_count": 24,
   "metadata": {},
   "outputs": [],
   "source": [
    "model.add(tf.keras.layers.Dropout(0.4))  #ep 300"
   ]
  },
  {
   "cell_type": "code",
   "execution_count": 25,
   "metadata": {},
   "outputs": [],
   "source": [
    "model.add(tf.keras.layers.Dense(units=32,\n",
    "               kernel_initializer='he_normal',  #he_normal\n",
    "               kernel_regularizer= regularizers.l2(0.1),   #0.06\n",
    "#               bias_regularizer = regularizers.l2(0.05),                \n",
    "#               activity_regularizer=regularizers.l2(0.001),\n",
    "               activation='relu'))   #relu"
   ]
  },
  {
   "cell_type": "code",
   "execution_count": 26,
   "metadata": {},
   "outputs": [],
   "source": [
    "model.add(tf.keras.layers.Dropout(0.4))  #ep 100    #0.5  #0.3"
   ]
  },
  {
   "cell_type": "code",
   "execution_count": 27,
   "metadata": {},
   "outputs": [],
   "source": [
    "#model.add(tf.keras.layers.Dense(units=32,\n",
    "#               kernel_initializer='he_normal',  #he_normal\n",
    "#               kernel_regularizer= regularizers.l2(0.07),   #0.06  #0.07\n",
    "##               kernel_regularizer= regularizers.l1_l2(0.07),           \n",
    "##               bias_regularizer = regularizers.l2(0.05),                \n",
    "#               activity_regularizer=regularizers.l2(0.001),\n",
    "#               activation='relu'))   #relu"
   ]
  },
  {
   "cell_type": "code",
   "execution_count": 28,
   "metadata": {},
   "outputs": [],
   "source": [
    "#model.add(tf.keras.layers.Dropout(0.2))  #ep 100"
   ]
  },
  {
   "cell_type": "code",
   "execution_count": 29,
   "metadata": {},
   "outputs": [],
   "source": [
    "model.add(tf.keras.layers.Dense(units=4, \n",
    "#                                kernel_initializer='normal',\n",
    "                                activation='softmax'))    # kernel_initializer='normal',"
   ]
  },
  {
   "cell_type": "code",
   "execution_count": 30,
   "metadata": {},
   "outputs": [],
   "source": [
    "adam = keras.optimizers.Adam( lr=0.001 ,beta_1=0.9, beta_2=0.999, epsilon=1e-08 )\n",
    "#adam = keras.optimizers.Adam( lr=0.001 ,beta_1=0.9, beta_2=0.999, epsilon=1e-08 )"
   ]
  },
  {
   "cell_type": "code",
   "execution_count": 31,
   "metadata": {},
   "outputs": [],
   "source": [
    "#sgd = keras.optimizers.SGD(lr=0.1, momentum=0.0, decay=0.01, nesterov=False)"
   ]
  },
  {
   "cell_type": "code",
   "execution_count": 32,
   "metadata": {},
   "outputs": [],
   "source": [
    "model.compile( optimizer = adam , loss = 'categorical_crossentropy', metrics=['accuracy'])"
   ]
  },
  {
   "cell_type": "code",
   "execution_count": 33,
   "metadata": {},
   "outputs": [],
   "source": [
    "#model.compile( optimizer = sgd , loss = 'categorical_crossentropy', metrics=['accuracy'])"
   ]
  },
  {
   "cell_type": "code",
   "execution_count": 34,
   "metadata": {
    "scrolled": true
   },
   "outputs": [
    {
     "name": "stdout",
     "output_type": "stream",
     "text": [
      "Epoch 1/50\n",
      " - 0s - loss: 16.5739 - acc: 0.1988\n",
      "Epoch 2/50\n",
      " - 0s - loss: 15.2687 - acc: 0.3216\n",
      "Epoch 3/50\n",
      " - 0s - loss: 14.0104 - acc: 0.3977\n",
      "Epoch 4/50\n",
      " - 0s - loss: 12.9673 - acc: 0.3743\n",
      "Epoch 5/50\n",
      " - 0s - loss: 12.0012 - acc: 0.4327\n",
      "Epoch 6/50\n",
      " - 0s - loss: 11.1984 - acc: 0.4444\n",
      "Epoch 7/50\n",
      " - 0s - loss: 10.4158 - acc: 0.4503\n",
      "Epoch 8/50\n",
      " - 0s - loss: 9.7226 - acc: 0.3743\n",
      "Epoch 9/50\n",
      " - 0s - loss: 9.0143 - acc: 0.4620\n",
      "Epoch 10/50\n",
      " - 0s - loss: 8.3383 - acc: 0.4620\n",
      "Epoch 11/50\n",
      " - 0s - loss: 7.7416 - acc: 0.5088\n",
      "Epoch 12/50\n",
      " - 0s - loss: 7.1051 - acc: 0.5497\n",
      "Epoch 13/50\n",
      " - 0s - loss: 6.6639 - acc: 0.4854\n",
      "Epoch 14/50\n",
      " - 0s - loss: 6.1991 - acc: 0.4795\n",
      "Epoch 15/50\n",
      " - 0s - loss: 5.7659 - acc: 0.5322\n",
      "Epoch 16/50\n",
      " - 0s - loss: 5.3464 - acc: 0.5088\n",
      "Epoch 17/50\n",
      " - 0s - loss: 4.9924 - acc: 0.5439\n",
      "Epoch 18/50\n",
      " - 0s - loss: 4.6450 - acc: 0.5263\n",
      "Epoch 19/50\n",
      " - 0s - loss: 4.3448 - acc: 0.5497\n",
      "Epoch 20/50\n",
      " - 0s - loss: 4.0201 - acc: 0.5789\n",
      "Epoch 21/50\n",
      " - 0s - loss: 3.7771 - acc: 0.6140\n",
      "Epoch 22/50\n",
      " - 0s - loss: 3.5371 - acc: 0.6140\n",
      "Epoch 23/50\n",
      " - 0s - loss: 3.3617 - acc: 0.5789\n",
      "Epoch 24/50\n",
      " - 0s - loss: 3.1427 - acc: 0.5673\n",
      "Epoch 25/50\n",
      " - 0s - loss: 2.9379 - acc: 0.5673\n",
      "Epoch 26/50\n",
      " - 0s - loss: 2.7854 - acc: 0.5906\n",
      "Epoch 27/50\n",
      " - 0s - loss: 2.5964 - acc: 0.6199\n",
      "Epoch 28/50\n",
      " - 0s - loss: 2.4747 - acc: 0.5673\n",
      "Epoch 29/50\n",
      " - 0s - loss: 2.3601 - acc: 0.6023\n",
      "Epoch 30/50\n",
      " - 0s - loss: 2.2131 - acc: 0.6023\n",
      "Epoch 31/50\n",
      " - 0s - loss: 2.1309 - acc: 0.5731\n",
      "Epoch 32/50\n",
      " - 0s - loss: 2.0332 - acc: 0.5731\n",
      "Epoch 33/50\n",
      " - 0s - loss: 1.9557 - acc: 0.5614\n",
      "Epoch 34/50\n",
      " - 0s - loss: 1.8687 - acc: 0.5906\n",
      "Epoch 35/50\n",
      " - 0s - loss: 1.7822 - acc: 0.5965\n",
      "Epoch 36/50\n",
      " - 0s - loss: 1.7310 - acc: 0.6082\n",
      "Epoch 37/50\n",
      " - 0s - loss: 1.6782 - acc: 0.6023\n",
      "Epoch 38/50\n",
      " - 0s - loss: 1.6363 - acc: 0.5906\n",
      "Epoch 39/50\n",
      " - 0s - loss: 1.5827 - acc: 0.5965\n",
      "Epoch 40/50\n",
      " - 0s - loss: 1.5460 - acc: 0.5673\n",
      "Epoch 41/50\n",
      " - 0s - loss: 1.4696 - acc: 0.6082\n",
      "Epoch 42/50\n",
      " - 0s - loss: 1.4433 - acc: 0.5789\n",
      "Epoch 43/50\n",
      " - 0s - loss: 1.4273 - acc: 0.5965\n",
      "Epoch 44/50\n",
      " - 0s - loss: 1.3764 - acc: 0.5906\n",
      "Epoch 45/50\n",
      " - 0s - loss: 1.4014 - acc: 0.5789\n",
      "Epoch 46/50\n",
      " - 0s - loss: 1.3228 - acc: 0.5965\n",
      "Epoch 47/50\n",
      " - 0s - loss: 1.3015 - acc: 0.5965\n",
      "Epoch 48/50\n",
      " - 0s - loss: 1.2910 - acc: 0.6199\n",
      "Epoch 49/50\n",
      " - 0s - loss: 1.2672 - acc: 0.6140\n",
      "Epoch 50/50\n",
      " - 0s - loss: 1.2508 - acc: 0.5906\n"
     ]
    }
   ],
   "source": [
    "train_history = model.fit(new_all_feature , train_y,  \n",
    "                          epochs = 50, batch_size = 15, verbose=2)   #一層500  三層1500 #15  #150 epoch"
   ]
  },
  {
   "cell_type": "code",
   "execution_count": 35,
   "metadata": {},
   "outputs": [],
   "source": [
    "import matplotlib.pyplot as plt\n",
    "def show_train_history(train_history,train):\n",
    "    plt.plot(train_history.history[train])\n",
    "    #plt.plot(train_history.history[validation])\n",
    "    plt.title('Train History')\n",
    "    plt.ylabel(train)\n",
    "    plt.xlabel('Epoch')\n",
    "    plt.legend(['train','validation'],loc='upper left')\n",
    "    plt.show()"
   ]
  },
  {
   "cell_type": "code",
   "execution_count": 36,
   "metadata": {},
   "outputs": [
    {
     "data": {
      "image/png": "[encoded data removed]",
      "text/plain": [
       "<Figure size 432x288 with 1 Axes>"
      ]
     },
     "metadata": {
      "needs_background": "light"
     },
     "output_type": "display_data"
    }
   ],
   "source": [
    "show_train_history(train_history,'acc')"
   ]
  },
  {
   "cell_type": "code",
   "execution_count": 37,
   "metadata": {},
   "outputs": [
    {
     "data": {
      "image/png": "[encoded data removed]",
      "text/plain": [
       "<Figure size 432x288 with 1 Axes>"
      ]
     },
     "metadata": {
      "needs_background": "light"
     },
     "output_type": "display_data"
    }
   ],
   "source": [
    "show_train_history(train_history,'loss')"
   ]
  },
  {
   "cell_type": "code",
   "execution_count": null,
   "metadata": {},
   "outputs": [],
   "source": []
  },
  {
   "cell_type": "code",
   "execution_count": 38,
   "metadata": {},
   "outputs": [],
   "source": [
    "test_out =  model.predict_classes(test_feature)"
   ]
  },
  {
   "cell_type": "code",
   "execution_count": 39,
   "metadata": {},
   "outputs": [
    {
     "data": {
      "text/plain": [
       "array([0, 0, 0, 0, 0, 0, 0, 0, 0, 0, 0, 1, 0, 0, 0, 1, 0, 1, 0, 0],\n",
       "      dtype=int64)"
      ]
     },
     "execution_count": 39,
     "metadata": {},
     "output_type": "execute_result"
    }
   ],
   "source": [
    "test_out"
   ]
  },
  {
   "cell_type": "code",
   "execution_count": 40,
   "metadata": {},
   "outputs": [],
   "source": [
    "prob = model.predict_proba(test_feature)"
   ]
  },
  {
   "cell_type": "code",
   "execution_count": 41,
   "metadata": {},
   "outputs": [
    {
     "data": {
      "text/plain": [
       "array([[0.5588846 , 0.22875318, 0.12749037, 0.0848719 ],\n",
       "       [0.5832857 , 0.22369616, 0.1175382 , 0.07547987],\n",
       "       [0.7203147 , 0.15225989, 0.0740159 , 0.05340957],\n",
       "       [0.42337596, 0.31942698, 0.16203742, 0.09515963],\n",
       "       [0.5197677 , 0.24606358, 0.14045413, 0.09371467],\n",
       "       [0.43154708, 0.27856228, 0.17324841, 0.11664224],\n",
       "       [0.551309  , 0.22405691, 0.13332593, 0.09130812],\n",
       "       [0.6530635 , 0.18917888, 0.09438913, 0.06336854],\n",
       "       [0.5419172 , 0.2472489 , 0.12725943, 0.08357452],\n",
       "       [0.5525788 , 0.26537496, 0.11425481, 0.06779131]], dtype=float32)"
      ]
     },
     "execution_count": 41,
     "metadata": {},
     "output_type": "execute_result"
    }
   ],
   "source": [
    "prob[0:10]"
   ]
  },
  {
   "cell_type": "code",
   "execution_count": 42,
   "metadata": {},
   "outputs": [
    {
     "data": {
      "text/plain": [
       "array([[0.69227356, 0.17705111, 0.08023452, 0.05044083],\n",
       "       [0.29417497, 0.4457613 , 0.171517  , 0.08854669],\n",
       "       [0.4676306 , 0.2865838 , 0.15321484, 0.09257073],\n",
       "       [0.6808683 , 0.1774046 , 0.0844422 , 0.05728485],\n",
       "       [0.51183295, 0.2554546 , 0.14026137, 0.0924511 ],\n",
       "       [0.3205481 , 0.40926167, 0.17710465, 0.09308551]], dtype=float32)"
      ]
     },
     "execution_count": 42,
     "metadata": {},
     "output_type": "execute_result"
    }
   ],
   "source": [
    "prob[10:16]"
   ]
  },
  {
   "cell_type": "code",
   "execution_count": 43,
   "metadata": {},
   "outputs": [
    {
     "data": {
      "text/plain": [
       "array([[0.38643464, 0.3501305 , 0.1673016 , 0.09613337],\n",
       "       [0.15043631, 0.6453474 , 0.14384161, 0.06037472],\n",
       "       [0.41397998, 0.33932158, 0.15675147, 0.08994682],\n",
       "       [0.4587835 , 0.31343338, 0.14457743, 0.08320566]], dtype=float32)"
      ]
     },
     "execution_count": 43,
     "metadata": {},
     "output_type": "execute_result"
    }
   ],
   "source": [
    "prob[16:]"
   ]
  },
  {
   "cell_type": "code",
   "execution_count": 44,
   "metadata": {},
   "outputs": [
    {
     "data": {
      "text/plain": [
       "array([0, 0, 0, 0, 0, 0, 0, 0, 0, 0, 1, 1, 1, 1, 1, 1, 2, 2, 2, 3])"
      ]
     },
     "execution_count": 44,
     "metadata": {},
     "output_type": "execute_result"
    }
   ],
   "source": [
    "test['HOSDAY'].values"
   ]
  },
  {
   "cell_type": "code",
   "execution_count": null,
   "metadata": {},
   "outputs": [],
   "source": []
  },
  {
   "cell_type": "code",
   "execution_count": 45,
   "metadata": {},
   "outputs": [
    {
     "data": {
      "text/html": [
       "<div>\n",
       "<style scoped>\n",
       "    .dataframe tbody tr th:only-of-type {\n",
       "        vertical-align: middle;\n",
       "    }\n",
       "\n",
       "    .dataframe tbody tr th {\n",
       "        vertical-align: top;\n",
       "    }\n",
       "\n",
       "    .dataframe thead th {\n",
       "        text-align: right;\n",
       "    }\n",
       "</style>\n",
       "<table border=\"1\" class=\"dataframe\">\n",
       "  <thead>\n",
       "    <tr style=\"text-align: right;\">\n",
       "      <th>Predicted Species</th>\n",
       "      <th>0</th>\n",
       "      <th>1</th>\n",
       "    </tr>\n",
       "    <tr>\n",
       "      <th>Actual Species</th>\n",
       "      <th></th>\n",
       "      <th></th>\n",
       "    </tr>\n",
       "  </thead>\n",
       "  <tbody>\n",
       "    <tr>\n",
       "      <th>0</th>\n",
       "      <td>10</td>\n",
       "      <td>0</td>\n",
       "    </tr>\n",
       "    <tr>\n",
       "      <th>1</th>\n",
       "      <td>4</td>\n",
       "      <td>2</td>\n",
       "    </tr>\n",
       "    <tr>\n",
       "      <th>2</th>\n",
       "      <td>2</td>\n",
       "      <td>1</td>\n",
       "    </tr>\n",
       "    <tr>\n",
       "      <th>3</th>\n",
       "      <td>1</td>\n",
       "      <td>0</td>\n",
       "    </tr>\n",
       "  </tbody>\n",
       "</table>\n",
       "</div>"
      ],
      "text/plain": [
       "Predicted Species   0  1\n",
       "Actual Species          \n",
       "0                  10  0\n",
       "1                   4  2\n",
       "2                   2  1\n",
       "3                   1  0"
      ]
     },
     "execution_count": 45,
     "metadata": {},
     "output_type": "execute_result"
    }
   ],
   "source": [
    "pd.crosstab( test['HOSDAY'].values, test_out, rownames=['Actual Species'], colnames=['Predicted Species'])"
   ]
  },
  {
   "cell_type": "code",
   "execution_count": 46,
   "metadata": {},
   "outputs": [
    {
     "data": {
      "text/plain": [
       "[1.3305230140686035, 0.6000000238418579]"
      ]
     },
     "execution_count": 46,
     "metadata": {},
     "output_type": "execute_result"
    }
   ],
   "source": [
    "score2 = model.evaluate(test_feature, test_y, verbose=2)\n",
    "score2"
   ]
  },
  {
   "cell_type": "code",
   "execution_count": 47,
   "metadata": {},
   "outputs": [],
   "source": [
    "#model.save('gggood.h5')"
   ]
  },
  {
   "cell_type": "code",
   "execution_count": null,
   "metadata": {},
   "outputs": [],
   "source": []
  },
  {
   "cell_type": "code",
   "execution_count": 48,
   "metadata": {},
   "outputs": [],
   "source": [
    "#model2 = tf.contrib.keras.models.load_model('ggg.h5')"
   ]
  },
  {
   "cell_type": "code",
   "execution_count": 49,
   "metadata": {},
   "outputs": [],
   "source": [
    "#scores = model2.evaluate(test_feature, test_y, verbose=2)"
   ]
  },
  {
   "cell_type": "code",
   "execution_count": 50,
   "metadata": {},
   "outputs": [],
   "source": [
    "#scores"
   ]
  },
  {
   "cell_type": "code",
   "execution_count": null,
   "metadata": {},
   "outputs": [],
   "source": []
  },
  {
   "cell_type": "code",
   "execution_count": 51,
   "metadata": {},
   "outputs": [],
   "source": [
    "#model3 = tf.contrib.keras.models.load_model('gggood.h5')"
   ]
  },
  {
   "cell_type": "code",
   "execution_count": 52,
   "metadata": {},
   "outputs": [],
   "source": [
    "#scores3 = model3.evaluate(test_feature, test_y, verbose=2)"
   ]
  },
  {
   "cell_type": "code",
   "execution_count": 53,
   "metadata": {},
   "outputs": [],
   "source": [
    "#scores3"
   ]
  },
  {
   "cell_type": "code",
   "execution_count": null,
   "metadata": {},
   "outputs": [],
   "source": []
  }
 ],
 "metadata": {
  "kernelspec": {
   "display_name": "Python 3",
   "language": "python",
   "name": "python3"
  },
  "language_info": {
   "codemirror_mode": {
    "name": "ipython",
    "version": 3
   },
   "file_extension": ".py",
   "mimetype": "text/x-python",
   "name": "python",
   "nbconvert_exporter": "python",
   "pygments_lexer": "ipython3",
   "version": "3.6.9"
  }
 },
 "nbformat": 4,
 "nbformat_minor": 2
}
