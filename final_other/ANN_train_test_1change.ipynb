{
 "cells": [
  {
   "cell_type": "code",
   "execution_count": 1,
   "metadata": {},
   "outputs": [],
   "source": [
    "from sklearn import datasets\n",
    "from sklearn.model_selection import train_test_split\n",
    "import matplotlib.pyplot as plt\n",
    "%matplotlib inline"
   ]
  },
  {
   "cell_type": "code",
   "execution_count": 2,
   "metadata": {},
   "outputs": [
    {
     "name": "stderr",
     "output_type": "stream",
     "text": [
      "Using TensorFlow backend.\n"
     ]
    }
   ],
   "source": [
    "import numpy as np\n",
    "import pandas as pd\n",
    "from sklearn import preprocessing\n",
    "import tensorflow as tf \n",
    "from tensorflow import keras\n",
    "from sklearn.metrics import precision_recall_fscore_support as score\n",
    "from keras.utils import np_utils\n",
    "from sklearn.utils import shuffle"
   ]
  },
  {
   "cell_type": "code",
   "execution_count": 3,
   "metadata": {},
   "outputs": [],
   "source": [
    "num = 1"
   ]
  },
  {
   "cell_type": "code",
   "execution_count": 4,
   "metadata": {},
   "outputs": [],
   "source": [
    "#train = pd.read_csv('0424new_train_'+str(num)+'.csv')\n",
    "#test = pd.read_csv('0424new_test_'+str(num)+'.csv')"
   ]
  },
  {
   "cell_type": "code",
   "execution_count": 5,
   "metadata": {},
   "outputs": [],
   "source": [
    "#train = pd.read_csv('0424new_train_'+str(num)+'bb.csv')\n",
    "#test = pd.read_csv('0424new_test_'+str(num)+'bb.csv')"
   ]
  },
  {
   "cell_type": "code",
   "execution_count": 6,
   "metadata": {},
   "outputs": [],
   "source": [
    "#train = pd.read_csv('0424new_train_'+str(num)+'cc.csv')\n",
    "#test = pd.read_csv('0424new_test_'+str(num)+'cc.csv')"
   ]
  },
  {
   "cell_type": "code",
   "execution_count": null,
   "metadata": {},
   "outputs": [],
   "source": []
  },
  {
   "cell_type": "code",
   "execution_count": 7,
   "metadata": {},
   "outputs": [],
   "source": [
    "#train = pd.read_csv('0427new_train_'+str(num)+'.csv')\n",
    "#test = pd.read_csv('0427new_test_'+str(num)+'.csv')"
   ]
  },
  {
   "cell_type": "code",
   "execution_count": 8,
   "metadata": {},
   "outputs": [],
   "source": [
    "train = pd.read_csv('0503new_train_'+str(num)+'_change.csv')\n",
    "test = pd.read_csv('0503new_test_'+str(num)+'_change.csv')"
   ]
  },
  {
   "cell_type": "code",
   "execution_count": 9,
   "metadata": {},
   "outputs": [],
   "source": [
    "#train = pd.read_csv('0504new_train_'+str(num)+'_change.csv')\n",
    "#test = pd.read_csv('0504new_test_'+str(num)+'_change.csv')"
   ]
  },
  {
   "cell_type": "code",
   "execution_count": 10,
   "metadata": {},
   "outputs": [],
   "source": [
    "#train = pd.read_csv('0505new_train_'+str(num)+'_change.csv')\n",
    "#test = pd.read_csv('0505new_test_'+str(num)+'_change.csv')"
   ]
  },
  {
   "cell_type": "code",
   "execution_count": 11,
   "metadata": {},
   "outputs": [],
   "source": [
    "#train = pd.read_csv('0424upsample.csv')\n",
    "#test = pd.read_csv('0424new_test_'+str(num)+'dd.csv')"
   ]
  },
  {
   "cell_type": "code",
   "execution_count": 12,
   "metadata": {},
   "outputs": [],
   "source": [
    "#train['HOSDAY'] = train['HOSDAY'].map({\"A\": 0, \"B\":1, \"C\":2, \"D\":3, \"E\":4 }).astype(int)\n",
    "#test['HOSDAY'] = test['HOSDAY'].map({\"A\": 0, \"B\":1, \"C\":2, \"D\":3, \"E\":4 }).astype(int)"
   ]
  },
  {
   "cell_type": "code",
   "execution_count": 13,
   "metadata": {},
   "outputs": [],
   "source": [
    "train['HOSDAY'] = train['HOSDAY'].map({\"A\": 0, \"B\":1, \"C\":2, \"D\":3 }).astype(int)\n",
    "test['HOSDAY'] = test['HOSDAY'].map({\"A\": 0, \"B\":1, \"C\":2, \"D\":3 }).astype(int)"
   ]
  },
  {
   "cell_type": "code",
   "execution_count": 14,
   "metadata": {},
   "outputs": [],
   "source": [
    "train = shuffle(train)\n",
    "#test = shuffle(test)"
   ]
  },
  {
   "cell_type": "code",
   "execution_count": 15,
   "metadata": {},
   "outputs": [],
   "source": [
    "#test"
   ]
  },
  {
   "cell_type": "code",
   "execution_count": 16,
   "metadata": {},
   "outputs": [],
   "source": [
    "train_feature = train.columns[1:]\n",
    "train_target = train.columns[0]\n",
    "train_feature = train[train_feature]\n",
    "train_y = train[train_target]\n",
    "train_y = train_y.values\n",
    "train_y = np_utils.to_categorical(train_y, num_classes = 4)"
   ]
  },
  {
   "cell_type": "code",
   "execution_count": 17,
   "metadata": {},
   "outputs": [],
   "source": [
    "#train_feature"
   ]
  },
  {
   "cell_type": "code",
   "execution_count": null,
   "metadata": {},
   "outputs": [],
   "source": []
  },
  {
   "cell_type": "code",
   "execution_count": 18,
   "metadata": {},
   "outputs": [],
   "source": [
    "#test.reset_index( drop=True, inplace=True )\n",
    "test_feature = test.columns[1:]\n",
    "test_target = test.columns[0]\n",
    "test_feature = test[test_feature]\n",
    "test_y = test[test_target]\n",
    "test_y = test_y.values\n",
    "test_y = np_utils.to_categorical(test_y, num_classes = 4)"
   ]
  },
  {
   "cell_type": "code",
   "execution_count": null,
   "metadata": {},
   "outputs": [],
   "source": []
  },
  {
   "cell_type": "code",
   "execution_count": 19,
   "metadata": {},
   "outputs": [],
   "source": [
    "new_all_feature = preprocessing.scale(train_feature)\n",
    "test_feature  = ( ( test_feature - train_feature.mean(axis=0) ) / train_feature.std(axis=0) )"
   ]
  },
  {
   "cell_type": "code",
   "execution_count": 20,
   "metadata": {},
   "outputs": [],
   "source": [
    "#new_all_feature"
   ]
  },
  {
   "cell_type": "code",
   "execution_count": null,
   "metadata": {},
   "outputs": [],
   "source": []
  },
  {
   "cell_type": "code",
   "execution_count": 21,
   "metadata": {},
   "outputs": [],
   "source": [
    "from keras.models import Sequential\n",
    "from keras.layers import Dense\n",
    "from keras.layers import Dropout\n",
    "from keras import regularizers"
   ]
  },
  {
   "cell_type": "code",
   "execution_count": 22,
   "metadata": {},
   "outputs": [],
   "source": [
    "model = tf.keras.models.Sequential()"
   ]
  },
  {
   "cell_type": "code",
   "execution_count": 23,
   "metadata": {},
   "outputs": [],
   "source": [
    "model.add( tf.keras.layers.Dense(units=128, input_shape=[40],            #52,47\n",
    "           kernel_initializer='he_normal',\n",
    "           kernel_regularizer= regularizers.l2(0.1),  #0.04   #0.04   #1層  0.02\n",
    "#           bias_regularizer = regularizers.l2(0.05),  #0.05\n",
    "#           activity_regularizer=regularizers.l2(0.0001),                      \n",
    "           activation='relu') )"
   ]
  },
  {
   "cell_type": "code",
   "execution_count": 24,
   "metadata": {},
   "outputs": [],
   "source": [
    "model.add(tf.keras.layers.Dropout(0.4))  #ep 300"
   ]
  },
  {
   "cell_type": "code",
   "execution_count": 25,
   "metadata": {},
   "outputs": [],
   "source": [
    "model.add(tf.keras.layers.Dense(units=64,\n",
    "               kernel_initializer='he_normal',  #he_normal\n",
    "               kernel_regularizer= regularizers.l2(0.1),   #0.06\n",
    "#               bias_regularizer = regularizers.l2(0.05),                \n",
    "#               activity_regularizer=regularizers.l2(0.001),\n",
    "               activation='relu'))   #relu"
   ]
  },
  {
   "cell_type": "code",
   "execution_count": 26,
   "metadata": {},
   "outputs": [],
   "source": [
    "model.add(tf.keras.layers.Dropout(0.4))  #ep 100    #0.5  #0.3"
   ]
  },
  {
   "cell_type": "code",
   "execution_count": 27,
   "metadata": {},
   "outputs": [],
   "source": [
    "#model.add(tf.keras.layers.Dense(units=32,\n",
    "#               kernel_initializer='he_normal',  #he_normal\n",
    "#               kernel_regularizer= regularizers.l2(0.07),   #0.06  #0.07\n",
    "##               kernel_regularizer= regularizers.l1_l2(0.07),           \n",
    "##               bias_regularizer = regularizers.l2(0.05),                \n",
    "#               activity_regularizer=regularizers.l2(0.001),\n",
    "#               activation='relu'))   #relu"
   ]
  },
  {
   "cell_type": "code",
   "execution_count": 28,
   "metadata": {},
   "outputs": [],
   "source": [
    "#model.add(tf.keras.layers.Dropout(0.2))  #ep 100"
   ]
  },
  {
   "cell_type": "code",
   "execution_count": 29,
   "metadata": {},
   "outputs": [],
   "source": [
    "model.add(tf.keras.layers.Dense(units=4, \n",
    "#                                kernel_initializer='normal',\n",
    "                                activation='softmax'))    # kernel_initializer='normal',"
   ]
  },
  {
   "cell_type": "code",
   "execution_count": 30,
   "metadata": {},
   "outputs": [],
   "source": [
    "adam = keras.optimizers.Adam( lr=0.001 ,beta_1=0.9, beta_2=0.999, epsilon=1e-08 )\n",
    "#adam = keras.optimizers.Adam( lr=0.001 ,beta_1=0.9, beta_2=0.999, epsilon=1e-08 )"
   ]
  },
  {
   "cell_type": "code",
   "execution_count": 31,
   "metadata": {},
   "outputs": [],
   "source": [
    "#sgd = keras.optimizers.SGD(lr=0.1, momentum=0.0, decay=0.01, nesterov=False)"
   ]
  },
  {
   "cell_type": "code",
   "execution_count": 32,
   "metadata": {},
   "outputs": [],
   "source": [
    "model.compile( optimizer = adam , loss = 'categorical_crossentropy', metrics=['accuracy'])"
   ]
  },
  {
   "cell_type": "code",
   "execution_count": 33,
   "metadata": {},
   "outputs": [],
   "source": [
    "#model.compile( optimizer = sgd , loss = 'categorical_crossentropy', metrics=['accuracy'])"
   ]
  },
  {
   "cell_type": "code",
   "execution_count": 34,
   "metadata": {
    "scrolled": true
   },
   "outputs": [
    {
     "name": "stdout",
     "output_type": "stream",
     "text": [
      "Epoch 1/50\n",
      " - 0s - loss: 30.4876 - acc: 0.2573\n",
      "Epoch 2/50\n",
      " - 0s - loss: 27.5630 - acc: 0.3743\n",
      "Epoch 3/50\n",
      " - 0s - loss: 25.1080 - acc: 0.4094\n",
      "Epoch 4/50\n",
      " - 0s - loss: 22.8153 - acc: 0.4912\n",
      "Epoch 5/50\n",
      " - 0s - loss: 20.6924 - acc: 0.5322\n",
      "Epoch 6/50\n",
      " - 0s - loss: 18.7991 - acc: 0.5556\n",
      "Epoch 7/50\n",
      " - 0s - loss: 17.1897 - acc: 0.4971\n",
      "Epoch 8/50\n",
      " - 0s - loss: 15.6031 - acc: 0.4854\n",
      "Epoch 9/50\n",
      " - 0s - loss: 14.1758 - acc: 0.5614\n",
      "Epoch 10/50\n",
      " - 0s - loss: 12.8015 - acc: 0.6023\n",
      "Epoch 11/50\n",
      " - 0s - loss: 11.6930 - acc: 0.5439\n",
      "Epoch 12/50\n",
      " - 0s - loss: 10.5964 - acc: 0.5614\n",
      "Epoch 13/50\n",
      " - 0s - loss: 9.6633 - acc: 0.5322\n",
      "Epoch 14/50\n",
      " - 0s - loss: 8.7586 - acc: 0.5906\n",
      "Epoch 15/50\n",
      " - 0s - loss: 7.9696 - acc: 0.5906\n",
      "Epoch 16/50\n",
      " - 0s - loss: 7.2858 - acc: 0.5789\n",
      "Epoch 17/50\n",
      " - 0s - loss: 6.6423 - acc: 0.5731\n",
      "Epoch 18/50\n",
      " - 0s - loss: 6.0522 - acc: 0.5673\n",
      "Epoch 19/50\n",
      " - 0s - loss: 5.5156 - acc: 0.6374\n",
      "Epoch 20/50\n",
      " - 0s - loss: 5.0713 - acc: 0.6140\n",
      "Epoch 21/50\n",
      " - 0s - loss: 4.6158 - acc: 0.6316\n",
      "Epoch 22/50\n",
      " - 0s - loss: 4.2862 - acc: 0.5906\n",
      "Epoch 23/50\n",
      " - 0s - loss: 3.9362 - acc: 0.6257\n",
      "Epoch 24/50\n",
      " - 0s - loss: 3.6383 - acc: 0.6199\n",
      "Epoch 25/50\n",
      " - 0s - loss: 3.3654 - acc: 0.5906\n",
      "Epoch 26/50\n",
      " - 0s - loss: 3.1183 - acc: 0.6433\n",
      "Epoch 27/50\n",
      " - 0s - loss: 2.8996 - acc: 0.5965\n",
      "Epoch 28/50\n",
      " - 0s - loss: 2.7298 - acc: 0.5965\n",
      "Epoch 29/50\n",
      " - 0s - loss: 2.5275 - acc: 0.6374\n",
      "Epoch 30/50\n",
      " - 0s - loss: 2.3605 - acc: 0.6433\n",
      "Epoch 31/50\n",
      " - 0s - loss: 2.2134 - acc: 0.6140\n",
      "Epoch 32/50\n",
      " - 0s - loss: 2.1351 - acc: 0.6491\n",
      "Epoch 33/50\n",
      " - 0s - loss: 1.9982 - acc: 0.6199\n",
      "Epoch 34/50\n",
      " - 0s - loss: 1.9176 - acc: 0.6374\n",
      "Epoch 35/50\n",
      " - 0s - loss: 1.8064 - acc: 0.6491\n",
      "Epoch 36/50\n",
      " - 0s - loss: 1.7464 - acc: 0.6374\n",
      "Epoch 37/50\n",
      " - 0s - loss: 1.6722 - acc: 0.6374\n",
      "Epoch 38/50\n",
      " - 0s - loss: 1.5943 - acc: 0.6608\n",
      "Epoch 39/50\n",
      " - 0s - loss: 1.5555 - acc: 0.6433\n",
      "Epoch 40/50\n",
      " - 0s - loss: 1.5043 - acc: 0.6199\n",
      "Epoch 41/50\n",
      " - 0s - loss: 1.4533 - acc: 0.6374\n",
      "Epoch 42/50\n",
      " - 0s - loss: 1.4202 - acc: 0.6374\n",
      "Epoch 43/50\n",
      " - 0s - loss: 1.3763 - acc: 0.6199\n",
      "Epoch 44/50\n",
      " - 0s - loss: 1.3527 - acc: 0.6374\n",
      "Epoch 45/50\n",
      " - 0s - loss: 1.3136 - acc: 0.6491\n",
      "Epoch 46/50\n",
      " - 0s - loss: 1.2893 - acc: 0.6550\n",
      "Epoch 47/50\n",
      " - 0s - loss: 1.2562 - acc: 0.6433\n",
      "Epoch 48/50\n",
      " - 0s - loss: 1.2231 - acc: 0.6374\n",
      "Epoch 49/50\n",
      " - 0s - loss: 1.2253 - acc: 0.6257\n",
      "Epoch 50/50\n",
      " - 0s - loss: 1.2033 - acc: 0.6491\n"
     ]
    }
   ],
   "source": [
    "train_history = model.fit(new_all_feature , train_y,  \n",
    "                          epochs = 50, batch_size = 15, verbose=2)   #一層500  三層1500 #15  #150 epoch"
   ]
  },
  {
   "cell_type": "code",
   "execution_count": 35,
   "metadata": {},
   "outputs": [],
   "source": [
    "import matplotlib.pyplot as plt\n",
    "def show_train_history(train_history,train):\n",
    "    plt.plot(train_history.history[train])\n",
    "    #plt.plot(train_history.history[validation])\n",
    "    plt.title('Train History')\n",
    "    plt.ylabel(train)\n",
    "    plt.xlabel('Epoch')\n",
    "    plt.legend(['train','validation'],loc='upper left')\n",
    "    plt.show()"
   ]
  },
  {
   "cell_type": "code",
   "execution_count": 36,
   "metadata": {},
   "outputs": [
    {
     "data": {
      "image/png": "[encoded data removed]",
      "text/plain": [
       "<Figure size 432x288 with 1 Axes>"
      ]
     },
     "metadata": {
      "needs_background": "light"
     },
     "output_type": "display_data"
    }
   ],
   "source": [
    "show_train_history(train_history,'acc')"
   ]
  },
  {
   "cell_type": "code",
   "execution_count": 37,
   "metadata": {},
   "outputs": [
    {
     "data": {
      "image/png": "[encoded data removed]",
      "text/plain": [
       "<Figure size 432x288 with 1 Axes>"
      ]
     },
     "metadata": {
      "needs_background": "light"
     },
     "output_type": "display_data"
    }
   ],
   "source": [
    "show_train_history(train_history,'loss')"
   ]
  },
  {
   "cell_type": "code",
   "execution_count": null,
   "metadata": {},
   "outputs": [],
   "source": []
  },
  {
   "cell_type": "code",
   "execution_count": 38,
   "metadata": {},
   "outputs": [],
   "source": [
    "test_out =  model.predict_classes(test_feature)"
   ]
  },
  {
   "cell_type": "code",
   "execution_count": 39,
   "metadata": {},
   "outputs": [
    {
     "data": {
      "text/plain": [
       "array([0, 0, 0, 0, 0, 0, 0, 0, 0, 0, 0, 1, 0, 0, 0, 1, 1, 1, 1, 0],\n",
       "      dtype=int64)"
      ]
     },
     "execution_count": 39,
     "metadata": {},
     "output_type": "execute_result"
    }
   ],
   "source": [
    "test_out"
   ]
  },
  {
   "cell_type": "code",
   "execution_count": 40,
   "metadata": {},
   "outputs": [],
   "source": [
    "prob = model.predict_proba(test_feature)"
   ]
  },
  {
   "cell_type": "code",
   "execution_count": 41,
   "metadata": {},
   "outputs": [
    {
     "data": {
      "text/plain": [
       "array([[0.5771099 , 0.21752119, 0.12676582, 0.07860316],\n",
       "       [0.6294334 , 0.20601833, 0.0977992 , 0.06674911],\n",
       "       [0.8001343 , 0.10165605, 0.05700364, 0.04120607],\n",
       "       [0.42489073, 0.3142455 , 0.16594553, 0.09491834],\n",
       "       [0.48014766, 0.26923427, 0.15723819, 0.09337991],\n",
       "       [0.37614012, 0.28531873, 0.2130188 , 0.12552235],\n",
       "       [0.54906106, 0.21742384, 0.14489502, 0.08862007],\n",
       "       [0.7215102 , 0.13948798, 0.08243888, 0.056563  ],\n",
       "       [0.5963433 , 0.20573851, 0.120824  , 0.07709428],\n",
       "       [0.6664161 , 0.21692753, 0.0706354 , 0.04602101]], dtype=float32)"
      ]
     },
     "execution_count": 41,
     "metadata": {},
     "output_type": "execute_result"
    }
   ],
   "source": [
    "prob[0:10]"
   ]
  },
  {
   "cell_type": "code",
   "execution_count": 42,
   "metadata": {},
   "outputs": [
    {
     "data": {
      "text/plain": [
       "array([[0.76096576, 0.14259796, 0.05758783, 0.03884846],\n",
       "       [0.21987338, 0.49546558, 0.19443724, 0.09022381],\n",
       "       [0.46054074, 0.29539183, 0.15148361, 0.09258377],\n",
       "       [0.7803888 , 0.11366132, 0.06419867, 0.04175121],\n",
       "       [0.48983645, 0.27392524, 0.14380795, 0.09243033],\n",
       "       [0.24932809, 0.44322026, 0.20558602, 0.1018656 ]], dtype=float32)"
      ]
     },
     "execution_count": 42,
     "metadata": {},
     "output_type": "execute_result"
    }
   ],
   "source": [
    "prob[10:16]"
   ]
  },
  {
   "cell_type": "code",
   "execution_count": 43,
   "metadata": {},
   "outputs": [
    {
     "data": {
      "text/plain": [
       "array([[0.32158864, 0.40542558, 0.17672203, 0.0962637 ],\n",
       "       [0.10040651, 0.6715376 , 0.16567443, 0.06238144],\n",
       "       [0.3542837 , 0.3845463 , 0.16913944, 0.09203052],\n",
       "       [0.46040657, 0.31910542, 0.13826293, 0.08222501]], dtype=float32)"
      ]
     },
     "execution_count": 43,
     "metadata": {},
     "output_type": "execute_result"
    }
   ],
   "source": [
    "prob[16:]"
   ]
  },
  {
   "cell_type": "code",
   "execution_count": 44,
   "metadata": {},
   "outputs": [
    {
     "data": {
      "text/plain": [
       "array([0, 0, 0, 0, 0, 0, 0, 0, 0, 0, 1, 1, 1, 1, 1, 1, 2, 2, 2, 3])"
      ]
     },
     "execution_count": 44,
     "metadata": {},
     "output_type": "execute_result"
    }
   ],
   "source": [
    "test['HOSDAY'].values"
   ]
  },
  {
   "cell_type": "code",
   "execution_count": null,
   "metadata": {},
   "outputs": [],
   "source": []
  },
  {
   "cell_type": "code",
   "execution_count": 45,
   "metadata": {},
   "outputs": [
    {
     "data": {
      "text/html": [
       "<div>\n",
       "<style scoped>\n",
       "    .dataframe tbody tr th:only-of-type {\n",
       "        vertical-align: middle;\n",
       "    }\n",
       "\n",
       "    .dataframe tbody tr th {\n",
       "        vertical-align: top;\n",
       "    }\n",
       "\n",
       "    .dataframe thead th {\n",
       "        text-align: right;\n",
       "    }\n",
       "</style>\n",
       "<table border=\"1\" class=\"dataframe\">\n",
       "  <thead>\n",
       "    <tr style=\"text-align: right;\">\n",
       "      <th>Predicted Species</th>\n",
       "      <th>0</th>\n",
       "      <th>1</th>\n",
       "    </tr>\n",
       "    <tr>\n",
       "      <th>Actual Species</th>\n",
       "      <th></th>\n",
       "      <th></th>\n",
       "    </tr>\n",
       "  </thead>\n",
       "  <tbody>\n",
       "    <tr>\n",
       "      <th>0</th>\n",
       "      <td>10</td>\n",
       "      <td>0</td>\n",
       "    </tr>\n",
       "    <tr>\n",
       "      <th>1</th>\n",
       "      <td>4</td>\n",
       "      <td>2</td>\n",
       "    </tr>\n",
       "    <tr>\n",
       "      <th>2</th>\n",
       "      <td>0</td>\n",
       "      <td>3</td>\n",
       "    </tr>\n",
       "    <tr>\n",
       "      <th>3</th>\n",
       "      <td>1</td>\n",
       "      <td>0</td>\n",
       "    </tr>\n",
       "  </tbody>\n",
       "</table>\n",
       "</div>"
      ],
      "text/plain": [
       "Predicted Species   0  1\n",
       "Actual Species          \n",
       "0                  10  0\n",
       "1                   4  2\n",
       "2                   0  3\n",
       "3                   1  0"
      ]
     },
     "execution_count": 45,
     "metadata": {},
     "output_type": "execute_result"
    }
   ],
   "source": [
    "pd.crosstab( test['HOSDAY'].values, test_out, rownames=['Actual Species'], colnames=['Predicted Species'])"
   ]
  },
  {
   "cell_type": "code",
   "execution_count": 46,
   "metadata": {},
   "outputs": [
    {
     "data": {
      "text/plain": [
       "[1.334974765777588, 0.6000000238418579]"
      ]
     },
     "execution_count": 46,
     "metadata": {},
     "output_type": "execute_result"
    }
   ],
   "source": [
    "score2 = model.evaluate(test_feature, test_y, verbose=2)\n",
    "score2"
   ]
  },
  {
   "cell_type": "code",
   "execution_count": 47,
   "metadata": {},
   "outputs": [],
   "source": [
    "#model.save('gggood.h5')"
   ]
  },
  {
   "cell_type": "code",
   "execution_count": null,
   "metadata": {},
   "outputs": [],
   "source": []
  },
  {
   "cell_type": "code",
   "execution_count": 48,
   "metadata": {},
   "outputs": [],
   "source": [
    "#model2 = tf.contrib.keras.models.load_model('ggg.h5')"
   ]
  },
  {
   "cell_type": "code",
   "execution_count": 49,
   "metadata": {},
   "outputs": [],
   "source": [
    "#scores = model2.evaluate(test_feature, test_y, verbose=2)"
   ]
  },
  {
   "cell_type": "code",
   "execution_count": 50,
   "metadata": {},
   "outputs": [],
   "source": [
    "#scores"
   ]
  },
  {
   "cell_type": "code",
   "execution_count": null,
   "metadata": {},
   "outputs": [],
   "source": []
  },
  {
   "cell_type": "code",
   "execution_count": 51,
   "metadata": {},
   "outputs": [],
   "source": [
    "#model3 = tf.contrib.keras.models.load_model('gggood.h5')"
   ]
  },
  {
   "cell_type": "code",
   "execution_count": 52,
   "metadata": {},
   "outputs": [],
   "source": [
    "#scores3 = model3.evaluate(test_feature, test_y, verbose=2)"
   ]
  },
  {
   "cell_type": "code",
   "execution_count": 53,
   "metadata": {},
   "outputs": [],
   "source": [
    "#scores3"
   ]
  },
  {
   "cell_type": "code",
   "execution_count": null,
   "metadata": {},
   "outputs": [],
   "source": []
  }
 ],
 "metadata": {
  "kernelspec": {
   "display_name": "Python 3",
   "language": "python",
   "name": "python3"
  },
  "language_info": {
   "codemirror_mode": {
    "name": "ipython",
    "version": 3
   },
   "file_extension": ".py",
   "mimetype": "text/x-python",
   "name": "python",
   "nbconvert_exporter": "python",
   "pygments_lexer": "ipython3",
   "version": "3.6.9"
  }
 },
 "nbformat": 4,
 "nbformat_minor": 2
}
