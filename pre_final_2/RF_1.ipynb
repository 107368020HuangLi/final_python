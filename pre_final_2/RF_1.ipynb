{
 "cells": [
  {
   "cell_type": "code",
   "execution_count": 1,
   "metadata": {},
   "outputs": [],
   "source": [
    "from sklearn import datasets\n",
    "from sklearn.model_selection import train_test_split\n",
    "import matplotlib.pyplot as plt\n",
    "%matplotlib inline"
   ]
  },
  {
   "cell_type": "code",
   "execution_count": 2,
   "metadata": {},
   "outputs": [],
   "source": [
    "import numpy as np\n",
    "import pandas as pd\n",
    "from sklearn import preprocessing\n",
    "import tensorflow as tf \n",
    "from tensorflow import keras\n",
    "#from sklearn import cross_validation, ensemble, preprocessing, metrics\n",
    "from sklearn.ensemble import RandomForestClassifier   ##分類\n",
    "#from sklearn.ensemble import RandomForestRegressor    ##回歸\n",
    "#from sklearn.metrics import roc_auc_score\n",
    "#還是要固定訓練資料和測試資料筆數\n",
    "from sklearn.metrics import precision_recall_fscore_support as score\n",
    "from sklearn.preprocessing import LabelBinarizer"
   ]
  },
  {
   "cell_type": "code",
   "execution_count": 3,
   "metadata": {},
   "outputs": [],
   "source": [
    "num = 1"
   ]
  },
  {
   "cell_type": "code",
   "execution_count": 4,
   "metadata": {},
   "outputs": [],
   "source": [
    "#train = pd.read_csv('0427new_train_'+str(num)+'_change.csv')\n",
    "#test = pd.read_csv('0427new_test_'+str(num)+'_change.csv')"
   ]
  },
  {
   "cell_type": "code",
   "execution_count": 5,
   "metadata": {},
   "outputs": [],
   "source": [
    "#train = pd.read_csv('0503new_train_'+str(num)+'_change.csv')\n",
    "#test = pd.read_csv('0503new_test_'+str(num)+'_change.csv')"
   ]
  },
  {
   "cell_type": "code",
   "execution_count": 6,
   "metadata": {},
   "outputs": [],
   "source": [
    "train = pd.read_csv('0504new_train_'+str(num)+'_change.csv')\n",
    "test = pd.read_csv('0504new_test_'+str(num)+'_change.csv')"
   ]
  },
  {
   "cell_type": "code",
   "execution_count": null,
   "metadata": {},
   "outputs": [],
   "source": []
  },
  {
   "cell_type": "code",
   "execution_count": 7,
   "metadata": {},
   "outputs": [],
   "source": [
    "#train['HOSDAY'] = train['HOSDAY'].map({\"A\": 0, \"B\":1, \"C\":2, \"D\":3, \"E\":4 }).astype(int)\n",
    "#test['HOSDAY'] = test['HOSDAY'].map({\"A\": 0, \"B\":1, \"C\":2, \"D\":3, \"E\":4 }).astype(int)"
   ]
  },
  {
   "cell_type": "code",
   "execution_count": 8,
   "metadata": {},
   "outputs": [],
   "source": [
    "train['HOSDAY'] = train['HOSDAY'].map({\"A\": 0, \"B\":1, \"C\":2, \"D\":3 }).astype(int)\n",
    "test['HOSDAY'] = test['HOSDAY'].map({\"A\": 0, \"B\":1, \"C\":2, \"D\":3 }).astype(int)"
   ]
  },
  {
   "cell_type": "code",
   "execution_count": 9,
   "metadata": {},
   "outputs": [],
   "source": [
    "train_feature = train.columns[1:]\n",
    "train_target = train.columns[0]\n",
    "train_feature = train[train_feature]\n",
    "train_y = train[train_target]\n",
    "train_y = train_y.values"
   ]
  },
  {
   "cell_type": "code",
   "execution_count": 10,
   "metadata": {},
   "outputs": [],
   "source": [
    "test_feature = test.columns[1:]\n",
    "test_target = test.columns[0]\n",
    "test_feature = test[test_feature]\n",
    "test_y = test[test_target]\n",
    "test_y = test_y.values"
   ]
  },
  {
   "cell_type": "code",
   "execution_count": 11,
   "metadata": {},
   "outputs": [],
   "source": [
    "#column = pd.read_csv('train_column_40.csv')"
   ]
  },
  {
   "cell_type": "code",
   "execution_count": 12,
   "metadata": {},
   "outputs": [],
   "source": [
    "column = pd.read_csv('train_column_28.csv')"
   ]
  },
  {
   "cell_type": "code",
   "execution_count": 13,
   "metadata": {},
   "outputs": [],
   "source": [
    "#categorical_variables = [\"occupation\",\"WHERE\",\"ANESTHESIA_TYPE\",\n",
    "#                        \"PATIENT_ORIGIN\",\"OP_TYPE\",\"PRE_DIAG\",\"POST_DIAG\"]"
   ]
  },
  {
   "cell_type": "code",
   "execution_count": 14,
   "metadata": {},
   "outputs": [],
   "source": [
    "#categorical_variables = [\"occupation\",\"WHERE\",\"PRE_DIAG\",\"POST_DIAG\"]"
   ]
  },
  {
   "cell_type": "code",
   "execution_count": 15,
   "metadata": {},
   "outputs": [],
   "source": [
    "categorical_variables = [\"occupation\",\"WHERE\"]"
   ]
  },
  {
   "cell_type": "code",
   "execution_count": 16,
   "metadata": {},
   "outputs": [],
   "source": [
    "def graph_feature_importances(model,feature_names,autoscale=True,headroom=0.01,width=10,summarized_columns=None):\n",
    "    if autoscale:\n",
    "        x_scale = model.feature_importances_.max() + headroom\n",
    "    else:\n",
    "        x_scale = 1\n",
    "    \n",
    "    feature_dict = dict(zip(feature_names, model.feature_importances_))\n",
    "   \n",
    "    if summarized_columns:\n",
    "        for col_name in summarized_columns:\n",
    "            sum_value = sum(x for i, x in feature_dict.items() if col_name in i )    #iteritems 改成 items  在python3\n",
    "            #print(sum_value) \n",
    "            keys_to_remove = [i for i in feature_dict.keys() if col_name in i ]\n",
    "            \n",
    "            for i in keys_to_remove:\n",
    "                feature_dict.pop(i)\n",
    "                #print(i),可查看合併哪些類別\n",
    "            feature_dict[col_name] = sum_value\n",
    "            #print(feature_dict[col_name])  ; 可查看合併哪些類別的數值\n",
    "    results = pd.Series(feature_dict, index = feature_dict.keys()) #本來就是values,因此前面feature_dict.values()改成feature_dict\n",
    "    #print(results)   ;可查看原始 Series()的數值     \n",
    "    new_sort = results.sort_values(ascending = True)   \n",
    "    print(new_sort.sort_values(ascending = False))   #可查看排序後 Series()的數值 \n",
    "    #print(sum(new_sort))   #看總和\n",
    "    new_sort.plot(kind=\"barh\", figsize= (width,len(new_sort)/2), xlim = (0,x_scale) )"
   ]
  },
  {
   "cell_type": "code",
   "execution_count": null,
   "metadata": {},
   "outputs": [],
   "source": []
  },
  {
   "cell_type": "code",
   "execution_count": 17,
   "metadata": {},
   "outputs": [],
   "source": [
    "#class_weight = { 0:0.52 ,1:0.82 ,2:1.78 ,3:3.89 }"
   ]
  },
  {
   "cell_type": "code",
   "execution_count": 18,
   "metadata": {},
   "outputs": [],
   "source": [
    "RF_normal_100 = RandomForestClassifier(n_estimators = 100, n_jobs = -1, max_depth = None,\n",
    "                                         max_features = \"auto\", oob_score = True ) #class_weight=\"balanced\" #,class_weight = class_weight "
   ]
  },
  {
   "cell_type": "code",
   "execution_count": 19,
   "metadata": {},
   "outputs": [
    {
     "data": {
      "text/plain": [
       "RandomForestClassifier(bootstrap=True, ccp_alpha=0.0, class_weight=None,\n",
       "                       criterion='gini', max_depth=None, max_features='auto',\n",
       "                       max_leaf_nodes=None, max_samples=None,\n",
       "                       min_impurity_decrease=0.0, min_impurity_split=None,\n",
       "                       min_samples_leaf=1, min_samples_split=2,\n",
       "                       min_weight_fraction_leaf=0.0, n_estimators=100,\n",
       "                       n_jobs=-1, oob_score=True, random_state=None, verbose=0,\n",
       "                       warm_start=False)"
      ]
     },
     "execution_count": 19,
     "metadata": {},
     "output_type": "execute_result"
    }
   ],
   "source": [
    "RF_normal_100.fit( train_feature , train_y )"
   ]
  },
  {
   "cell_type": "code",
   "execution_count": 20,
   "metadata": {},
   "outputs": [
    {
     "name": "stdout",
     "output_type": "stream",
     "text": [
      "OP_CODE       0.120979\n",
      "BUN           0.112344\n",
      "wBC           0.091117\n",
      "WHERE         0.087135\n",
      "AGE           0.084109\n",
      "P             0.080047\n",
      "T             0.075337\n",
      "occupation    0.074576\n",
      "BMI           0.073682\n",
      "PLATELETS     0.069665\n",
      "HEMOGLOBIN    0.068108\n",
      "HCT           0.062900\n",
      "dtype: float64\n"
     ]
    },
    {
     "data": {
      "image/png": "[encoded data removed]",
      "text/plain": [
       "<Figure size 720x432 with 1 Axes>"
      ]
     },
     "metadata": {
      "needs_background": "light"
     },
     "output_type": "display_data"
    }
   ],
   "source": [
    "graph_feature_importances( RF_normal_100 , column.columns, summarized_columns = categorical_variables)"
   ]
  },
  {
   "cell_type": "code",
   "execution_count": 21,
   "metadata": {},
   "outputs": [],
   "source": [
    "RF_normal_100_predict = RF_normal_100.predict(test_feature)"
   ]
  },
  {
   "cell_type": "code",
   "execution_count": 22,
   "metadata": {},
   "outputs": [
    {
     "data": {
      "text/plain": [
       "array([0, 0, 0, 0, 0, 3, 0, 0, 0, 0, 0, 1, 0, 0, 0, 1, 1, 1, 0, 0])"
      ]
     },
     "execution_count": 22,
     "metadata": {},
     "output_type": "execute_result"
    }
   ],
   "source": [
    "RF_normal_100_predict"
   ]
  },
  {
   "cell_type": "code",
   "execution_count": 23,
   "metadata": {},
   "outputs": [
    {
     "data": {
      "text/html": [
       "<div>\n",
       "<style scoped>\n",
       "    .dataframe tbody tr th:only-of-type {\n",
       "        vertical-align: middle;\n",
       "    }\n",
       "\n",
       "    .dataframe tbody tr th {\n",
       "        vertical-align: top;\n",
       "    }\n",
       "\n",
       "    .dataframe thead th {\n",
       "        text-align: right;\n",
       "    }\n",
       "</style>\n",
       "<table border=\"1\" class=\"dataframe\">\n",
       "  <thead>\n",
       "    <tr style=\"text-align: right;\">\n",
       "      <th>Predicted Species</th>\n",
       "      <th>0</th>\n",
       "      <th>1</th>\n",
       "      <th>3</th>\n",
       "    </tr>\n",
       "    <tr>\n",
       "      <th>Actual Species</th>\n",
       "      <th></th>\n",
       "      <th></th>\n",
       "      <th></th>\n",
       "    </tr>\n",
       "  </thead>\n",
       "  <tbody>\n",
       "    <tr>\n",
       "      <th>0</th>\n",
       "      <td>9</td>\n",
       "      <td>0</td>\n",
       "      <td>1</td>\n",
       "    </tr>\n",
       "    <tr>\n",
       "      <th>1</th>\n",
       "      <td>4</td>\n",
       "      <td>2</td>\n",
       "      <td>0</td>\n",
       "    </tr>\n",
       "    <tr>\n",
       "      <th>2</th>\n",
       "      <td>1</td>\n",
       "      <td>2</td>\n",
       "      <td>0</td>\n",
       "    </tr>\n",
       "    <tr>\n",
       "      <th>3</th>\n",
       "      <td>1</td>\n",
       "      <td>0</td>\n",
       "      <td>0</td>\n",
       "    </tr>\n",
       "  </tbody>\n",
       "</table>\n",
       "</div>"
      ],
      "text/plain": [
       "Predicted Species  0  1  3\n",
       "Actual Species            \n",
       "0                  9  0  1\n",
       "1                  4  2  0\n",
       "2                  1  2  0\n",
       "3                  1  0  0"
      ]
     },
     "execution_count": 23,
     "metadata": {},
     "output_type": "execute_result"
    }
   ],
   "source": [
    "pd.crosstab( test_y, RF_normal_100_predict, rownames=['Actual Species'], colnames=['Predicted Species'])"
   ]
  },
  {
   "cell_type": "code",
   "execution_count": 24,
   "metadata": {},
   "outputs": [
    {
     "data": {
      "text/plain": [
       "0.55"
      ]
     },
     "execution_count": 24,
     "metadata": {},
     "output_type": "execute_result"
    }
   ],
   "source": [
    "RF_normal_100.score(test_feature, test_y)"
   ]
  },
  {
   "cell_type": "code",
   "execution_count": 25,
   "metadata": {},
   "outputs": [
    {
     "data": {
      "text/plain": [
       "array([0, 0, 0, 0, 0, 0, 0, 0, 0, 0, 1, 1, 1, 1, 1, 1, 2, 2, 2, 3])"
      ]
     },
     "execution_count": 25,
     "metadata": {},
     "output_type": "execute_result"
    }
   ],
   "source": [
    "test_y"
   ]
  },
  {
   "cell_type": "code",
   "execution_count": 26,
   "metadata": {},
   "outputs": [
    {
     "name": "stdout",
     "output_type": "stream",
     "text": [
      "0.5\n",
      "0.55\n",
      "0.55\n",
      "0.55\n",
      "0.55\n",
      "0.55\n",
      "0.55\n",
      "0.55\n",
      "0.55\n",
      "0.55\n"
     ]
    }
   ],
   "source": [
    "for i in range(10):\n",
    "    RF_normal_100 = RandomForestClassifier(n_estimators = 100, n_jobs = -1, max_depth = None,\n",
    "                                           max_features = \"auto\", oob_score = True ) #, class_weight = class_weight \n",
    "    RF_normal_100.fit( train_feature , train_y )\n",
    "    #graph_feature_importances( RF_normal_100 , column.columns, summarized_columns = categorical_variables)\n",
    "    RF_normal_100_predict = RF_normal_100.predict(test_feature)\n",
    "    #pd.crosstab( test_y, RF_normal_100_predict, rownames=['Actual Species'], colnames=['Predicted Species'])\n",
    "    print(RF_normal_100.score(test_feature, test_y))"
   ]
  },
  {
   "cell_type": "code",
   "execution_count": 27,
   "metadata": {},
   "outputs": [],
   "source": [
    "#from keras.models import load_model"
   ]
  },
  {
   "cell_type": "code",
   "execution_count": 28,
   "metadata": {},
   "outputs": [
    {
     "data": {
      "text/plain": [
       "array([[0.64, 0.1 , 0.23, 0.03],\n",
       "       [0.78, 0.17, 0.04, 0.01],\n",
       "       [0.87, 0.09, 0.02, 0.02],\n",
       "       [0.43, 0.27, 0.26, 0.04],\n",
       "       [0.55, 0.25, 0.13, 0.07],\n",
       "       [0.12, 0.28, 0.2 , 0.4 ],\n",
       "       [0.69, 0.18, 0.09, 0.04],\n",
       "       [0.57, 0.32, 0.01, 0.1 ],\n",
       "       [0.55, 0.24, 0.09, 0.12],\n",
       "       [0.69, 0.19, 0.09, 0.03],\n",
       "       [0.79, 0.1 , 0.07, 0.04],\n",
       "       [0.27, 0.4 , 0.2 , 0.13],\n",
       "       [0.54, 0.31, 0.09, 0.06],\n",
       "       [0.9 , 0.04, 0.06, 0.  ],\n",
       "       [0.71, 0.15, 0.01, 0.13],\n",
       "       [0.08, 0.75, 0.13, 0.04],\n",
       "       [0.07, 0.7 , 0.16, 0.07],\n",
       "       [0.17, 0.43, 0.33, 0.07],\n",
       "       [0.34, 0.44, 0.2 , 0.02],\n",
       "       [0.42, 0.43, 0.1 , 0.05]])"
      ]
     },
     "execution_count": 28,
     "metadata": {},
     "output_type": "execute_result"
    }
   ],
   "source": [
    "RF_normal_100.predict_proba(test_feature)"
   ]
  },
  {
   "cell_type": "code",
   "execution_count": 29,
   "metadata": {},
   "outputs": [],
   "source": [
    "#import pickle"
   ]
  },
  {
   "cell_type": "code",
   "execution_count": 30,
   "metadata": {},
   "outputs": [],
   "source": [
    "#pickle.dump(RF_normal_100, open('0427new_train_1_change.csv', 'wb'))"
   ]
  },
  {
   "cell_type": "code",
   "execution_count": 31,
   "metadata": {},
   "outputs": [],
   "source": [
    "#loaded_model = pickle.load(open('0427new_train_1_change.csv', 'rb'))"
   ]
  },
  {
   "cell_type": "code",
   "execution_count": 32,
   "metadata": {},
   "outputs": [],
   "source": [
    "#result = loaded_model.score(test_feature, test_y)"
   ]
  },
  {
   "cell_type": "code",
   "execution_count": 33,
   "metadata": {},
   "outputs": [],
   "source": [
    "#result2 = loaded_model.predict_proba(test_feature)"
   ]
  },
  {
   "cell_type": "code",
   "execution_count": 34,
   "metadata": {},
   "outputs": [],
   "source": [
    "#result"
   ]
  },
  {
   "cell_type": "code",
   "execution_count": 35,
   "metadata": {},
   "outputs": [],
   "source": [
    "#result2"
   ]
  }
 ],
 "metadata": {
  "kernelspec": {
   "display_name": "Python 3",
   "language": "python",
   "name": "python3"
  },
  "language_info": {
   "codemirror_mode": {
    "name": "ipython",
    "version": 3
   },
   "file_extension": ".py",
   "mimetype": "text/x-python",
   "name": "python",
   "nbconvert_exporter": "python",
   "pygments_lexer": "ipython3",
   "version": "3.6.9"
  }
 },
 "nbformat": 4,
 "nbformat_minor": 2
}
