{
 "cells": [
  {
   "cell_type": "code",
   "execution_count": 1,
   "metadata": {},
   "outputs": [],
   "source": [
    "from sklearn import datasets\n",
    "from sklearn.model_selection import train_test_split\n",
    "import matplotlib.pyplot as plt\n",
    "%matplotlib inline"
   ]
  },
  {
   "cell_type": "code",
   "execution_count": 2,
   "metadata": {},
   "outputs": [
    {
     "name": "stderr",
     "output_type": "stream",
     "text": [
      "Using TensorFlow backend.\n"
     ]
    }
   ],
   "source": [
    "import numpy as np\n",
    "import pandas as pd\n",
    "from sklearn import preprocessing\n",
    "import tensorflow as tf \n",
    "from tensorflow import keras\n",
    "from sklearn.metrics import precision_recall_fscore_support as score\n",
    "from keras.utils import np_utils\n",
    "from sklearn.utils import shuffle"
   ]
  },
  {
   "cell_type": "code",
   "execution_count": 3,
   "metadata": {},
   "outputs": [],
   "source": [
    "num = 1"
   ]
  },
  {
   "cell_type": "code",
   "execution_count": 4,
   "metadata": {},
   "outputs": [],
   "source": [
    "#train = pd.read_csv('0424new_train_'+str(num)+'.csv')\n",
    "#test = pd.read_csv('0424new_test_'+str(num)+'.csv')"
   ]
  },
  {
   "cell_type": "code",
   "execution_count": 5,
   "metadata": {},
   "outputs": [],
   "source": [
    "#train = pd.read_csv('0424new_train_'+str(num)+'bb.csv')\n",
    "#test = pd.read_csv('0424new_test_'+str(num)+'bb.csv')"
   ]
  },
  {
   "cell_type": "code",
   "execution_count": 6,
   "metadata": {},
   "outputs": [],
   "source": [
    "#train = pd.read_csv('0424new_train_'+str(num)+'cc.csv')\n",
    "#test = pd.read_csv('0424new_test_'+str(num)+'cc.csv')"
   ]
  },
  {
   "cell_type": "code",
   "execution_count": null,
   "metadata": {},
   "outputs": [],
   "source": []
  },
  {
   "cell_type": "code",
   "execution_count": 7,
   "metadata": {},
   "outputs": [],
   "source": [
    "#train = pd.read_csv('0427new_train_'+str(num)+'.csv')\n",
    "#test = pd.read_csv('0427new_test_'+str(num)+'.csv')"
   ]
  },
  {
   "cell_type": "code",
   "execution_count": 8,
   "metadata": {},
   "outputs": [],
   "source": [
    "#train = pd.read_csv('0503new_train_'+str(num)+'_change.csv')\n",
    "#test = pd.read_csv('0503new_test_'+str(num)+'_change.csv')"
   ]
  },
  {
   "cell_type": "code",
   "execution_count": 9,
   "metadata": {},
   "outputs": [],
   "source": [
    "train = pd.read_csv('0504new_train_'+str(num)+'_change.csv')\n",
    "test = pd.read_csv('0504new_test_'+str(num)+'_change.csv')"
   ]
  },
  {
   "cell_type": "code",
   "execution_count": 10,
   "metadata": {},
   "outputs": [],
   "source": [
    "#train = pd.read_csv('0505new_train_'+str(num)+'_change.csv')\n",
    "#test = pd.read_csv('0505new_test_'+str(num)+'_change.csv')"
   ]
  },
  {
   "cell_type": "code",
   "execution_count": 11,
   "metadata": {},
   "outputs": [],
   "source": [
    "#train = pd.read_csv('0424upsample.csv')\n",
    "#test = pd.read_csv('0424new_test_'+str(num)+'dd.csv')"
   ]
  },
  {
   "cell_type": "code",
   "execution_count": 12,
   "metadata": {},
   "outputs": [],
   "source": [
    "#train['HOSDAY'] = train['HOSDAY'].map({\"A\": 0, \"B\":1, \"C\":2, \"D\":3, \"E\":4 }).astype(int)\n",
    "#test['HOSDAY'] = test['HOSDAY'].map({\"A\": 0, \"B\":1, \"C\":2, \"D\":3, \"E\":4 }).astype(int)"
   ]
  },
  {
   "cell_type": "code",
   "execution_count": 13,
   "metadata": {},
   "outputs": [],
   "source": [
    "train['HOSDAY'] = train['HOSDAY'].map({\"A\": 0, \"B\":1, \"C\":2, \"D\":3 }).astype(int)\n",
    "test['HOSDAY'] = test['HOSDAY'].map({\"A\": 0, \"B\":1, \"C\":2, \"D\":3 }).astype(int)"
   ]
  },
  {
   "cell_type": "code",
   "execution_count": 14,
   "metadata": {},
   "outputs": [],
   "source": [
    "train = shuffle(train)\n",
    "#test = shuffle(test)"
   ]
  },
  {
   "cell_type": "code",
   "execution_count": 15,
   "metadata": {},
   "outputs": [],
   "source": [
    "#test"
   ]
  },
  {
   "cell_type": "code",
   "execution_count": 16,
   "metadata": {},
   "outputs": [],
   "source": [
    "train_feature = train.columns[1:]\n",
    "train_target = train.columns[0]\n",
    "train_feature = train[train_feature]\n",
    "train_y = train[train_target]\n",
    "train_y = train_y.values\n",
    "train_y = np_utils.to_categorical(train_y, num_classes = 4)"
   ]
  },
  {
   "cell_type": "code",
   "execution_count": 17,
   "metadata": {},
   "outputs": [],
   "source": [
    "#train_feature"
   ]
  },
  {
   "cell_type": "code",
   "execution_count": null,
   "metadata": {},
   "outputs": [],
   "source": []
  },
  {
   "cell_type": "code",
   "execution_count": 18,
   "metadata": {},
   "outputs": [],
   "source": [
    "#test.reset_index( drop=True, inplace=True )\n",
    "test_feature = test.columns[1:]\n",
    "test_target = test.columns[0]\n",
    "test_feature = test[test_feature]\n",
    "test_y = test[test_target]\n",
    "test_y = test_y.values\n",
    "test_y = np_utils.to_categorical(test_y, num_classes = 4)"
   ]
  },
  {
   "cell_type": "code",
   "execution_count": null,
   "metadata": {},
   "outputs": [],
   "source": []
  },
  {
   "cell_type": "code",
   "execution_count": 19,
   "metadata": {},
   "outputs": [],
   "source": [
    "new_all_feature = preprocessing.scale(train_feature)\n",
    "test_feature  = ( ( test_feature - train_feature.mean(axis=0) ) / train_feature.std(axis=0) )"
   ]
  },
  {
   "cell_type": "code",
   "execution_count": 20,
   "metadata": {},
   "outputs": [],
   "source": [
    "#new_all_feature"
   ]
  },
  {
   "cell_type": "code",
   "execution_count": null,
   "metadata": {},
   "outputs": [],
   "source": []
  },
  {
   "cell_type": "code",
   "execution_count": 21,
   "metadata": {},
   "outputs": [],
   "source": [
    "from keras.models import Sequential\n",
    "from keras.layers import Dense\n",
    "from keras.layers import Dropout\n",
    "from keras import regularizers"
   ]
  },
  {
   "cell_type": "code",
   "execution_count": 22,
   "metadata": {},
   "outputs": [],
   "source": [
    "model = tf.keras.models.Sequential()"
   ]
  },
  {
   "cell_type": "code",
   "execution_count": 23,
   "metadata": {},
   "outputs": [],
   "source": [
    "model.add( tf.keras.layers.Dense(units=64, input_shape=[28],            #52,47  #28\n",
    "           kernel_initializer='he_normal',\n",
    "           kernel_regularizer= regularizers.l2(0.1),  #0.04   #0.04   #1層  0.02\n",
    "#           bias_regularizer = regularizers.l2(0.05),  #0.05\n",
    "#           activity_regularizer=regularizers.l2(0.0001),                      \n",
    "           activation='relu') )"
   ]
  },
  {
   "cell_type": "code",
   "execution_count": 24,
   "metadata": {},
   "outputs": [],
   "source": [
    "model.add(tf.keras.layers.Dropout(0.4))  #ep 300"
   ]
  },
  {
   "cell_type": "code",
   "execution_count": 25,
   "metadata": {},
   "outputs": [],
   "source": [
    "#model.add(tf.keras.layers.Dense(units=32,\n",
    "#               kernel_initializer='he_normal',  #he_normal\n",
    "#               kernel_regularizer= regularizers.l2(0.1),   #0.06\n",
    "##               bias_regularizer = regularizers.l2(0.05),                \n",
    "##               activity_regularizer=regularizers.l2(0.001),\n",
    "#               activation='relu'))   #relu"
   ]
  },
  {
   "cell_type": "code",
   "execution_count": 26,
   "metadata": {},
   "outputs": [],
   "source": [
    "#model.add(tf.keras.layers.Dropout(0.4))  #ep 100    #0.5  #0.3"
   ]
  },
  {
   "cell_type": "code",
   "execution_count": 27,
   "metadata": {},
   "outputs": [],
   "source": [
    "#model.add(tf.keras.layers.Dense(units=32,\n",
    "#               kernel_initializer='he_normal',  #he_normal\n",
    "#               kernel_regularizer= regularizers.l2(0.07),   #0.06  #0.07\n",
    "##               kernel_regularizer= regularizers.l1_l2(0.07),           \n",
    "##               bias_regularizer = regularizers.l2(0.05),                \n",
    "#               activity_regularizer=regularizers.l2(0.001),\n",
    "#               activation='relu'))   #relu"
   ]
  },
  {
   "cell_type": "code",
   "execution_count": 28,
   "metadata": {},
   "outputs": [],
   "source": [
    "#model.add(tf.keras.layers.Dropout(0.2))  #ep 100"
   ]
  },
  {
   "cell_type": "code",
   "execution_count": 29,
   "metadata": {},
   "outputs": [],
   "source": [
    "model.add(tf.keras.layers.Dense(units=4, \n",
    "#                                kernel_initializer='normal',\n",
    "                                activation='softmax'))    # kernel_initializer='normal',"
   ]
  },
  {
   "cell_type": "code",
   "execution_count": 30,
   "metadata": {},
   "outputs": [],
   "source": [
    "adam = keras.optimizers.Adam( lr=0.001 ,beta_1=0.9, beta_2=0.999, epsilon=1e-08 )\n",
    "#adam = keras.optimizers.Adam( lr=0.001 ,beta_1=0.9, beta_2=0.999, epsilon=1e-08 )"
   ]
  },
  {
   "cell_type": "code",
   "execution_count": 31,
   "metadata": {},
   "outputs": [],
   "source": [
    "#sgd = keras.optimizers.SGD(lr=0.1, momentum=0.0, decay=0.01, nesterov=False)"
   ]
  },
  {
   "cell_type": "code",
   "execution_count": 32,
   "metadata": {},
   "outputs": [],
   "source": [
    "model.compile( optimizer = adam , loss = 'categorical_crossentropy', metrics=['accuracy'])"
   ]
  },
  {
   "cell_type": "code",
   "execution_count": 33,
   "metadata": {},
   "outputs": [],
   "source": [
    "#model.compile( optimizer = sgd , loss = 'categorical_crossentropy', metrics=['accuracy'])"
   ]
  },
  {
   "cell_type": "code",
   "execution_count": 34,
   "metadata": {
    "scrolled": true
   },
   "outputs": [
    {
     "name": "stdout",
     "output_type": "stream",
     "text": [
      "Epoch 1/50\n",
      " - 0s - loss: 11.5558 - acc: 0.2164\n",
      "Epoch 2/50\n",
      " - 0s - loss: 10.7082 - acc: 0.2573\n",
      "Epoch 3/50\n",
      " - 0s - loss: 10.0443 - acc: 0.2398\n",
      "Epoch 4/50\n",
      " - 0s - loss: 9.3395 - acc: 0.3041\n",
      "Epoch 5/50\n",
      " - 0s - loss: 8.7999 - acc: 0.2749\n",
      "Epoch 6/50\n",
      " - 0s - loss: 8.0557 - acc: 0.4152\n",
      "Epoch 7/50\n",
      " - 0s - loss: 7.5485 - acc: 0.4327\n",
      "Epoch 8/50\n",
      " - 0s - loss: 7.0999 - acc: 0.4211\n",
      "Epoch 9/50\n",
      " - 0s - loss: 6.6927 - acc: 0.4737\n",
      "Epoch 10/50\n",
      " - 0s - loss: 6.2481 - acc: 0.4386\n",
      "Epoch 11/50\n",
      " - 0s - loss: 5.9130 - acc: 0.4795\n",
      "Epoch 12/50\n",
      " - 0s - loss: 5.5576 - acc: 0.4854\n",
      "Epoch 13/50\n",
      " - 0s - loss: 5.2045 - acc: 0.4737\n",
      "Epoch 14/50\n",
      " - 0s - loss: 4.9092 - acc: 0.5088\n",
      "Epoch 15/50\n",
      " - 0s - loss: 4.6463 - acc: 0.5556\n",
      "Epoch 16/50\n",
      " - 0s - loss: 4.4164 - acc: 0.4971\n",
      "Epoch 17/50\n",
      " - 0s - loss: 4.1195 - acc: 0.5673\n",
      "Epoch 18/50\n",
      " - 0s - loss: 3.8832 - acc: 0.5614\n",
      "Epoch 19/50\n",
      " - 0s - loss: 3.6933 - acc: 0.5614\n",
      "Epoch 20/50\n",
      " - 0s - loss: 3.4765 - acc: 0.5789\n",
      "Epoch 21/50\n",
      " - 0s - loss: 3.3060 - acc: 0.5322\n",
      "Epoch 22/50\n",
      " - 0s - loss: 3.1469 - acc: 0.5205\n",
      "Epoch 23/50\n",
      " - 0s - loss: 2.9080 - acc: 0.6082\n",
      "Epoch 24/50\n",
      " - 0s - loss: 2.7617 - acc: 0.6316\n",
      "Epoch 25/50\n",
      " - 0s - loss: 2.6640 - acc: 0.5906\n",
      "Epoch 26/50\n",
      " - 0s - loss: 2.5218 - acc: 0.6082\n",
      "Epoch 27/50\n",
      " - 0s - loss: 2.4391 - acc: 0.6140\n",
      "Epoch 28/50\n",
      " - 0s - loss: 2.3098 - acc: 0.6023\n",
      "Epoch 29/50\n",
      " - 0s - loss: 2.2051 - acc: 0.5789\n",
      "Epoch 30/50\n",
      " - 0s - loss: 2.1353 - acc: 0.6199\n",
      "Epoch 31/50\n",
      " - 0s - loss: 2.0167 - acc: 0.6550\n",
      "Epoch 32/50\n",
      " - 0s - loss: 1.9469 - acc: 0.5906\n",
      "Epoch 33/50\n",
      " - 0s - loss: 1.8709 - acc: 0.6491\n",
      "Epoch 34/50\n",
      " - 0s - loss: 1.7878 - acc: 0.6433\n",
      "Epoch 35/50\n",
      " - 0s - loss: 1.7512 - acc: 0.6374\n",
      "Epoch 36/50\n",
      " - 0s - loss: 1.6621 - acc: 0.6550\n",
      "Epoch 37/50\n",
      " - 0s - loss: 1.6100 - acc: 0.6374\n",
      "Epoch 38/50\n",
      " - 0s - loss: 1.5587 - acc: 0.6374\n",
      "Epoch 39/50\n",
      " - 0s - loss: 1.5125 - acc: 0.6374\n",
      "Epoch 40/50\n",
      " - 0s - loss: 1.4628 - acc: 0.6491\n",
      "Epoch 41/50\n",
      " - 0s - loss: 1.4319 - acc: 0.6374\n",
      "Epoch 42/50\n",
      " - 0s - loss: 1.4031 - acc: 0.6608\n",
      "Epoch 43/50\n",
      " - 0s - loss: 1.3499 - acc: 0.6550\n",
      "Epoch 44/50\n",
      " - 0s - loss: 1.3196 - acc: 0.6608\n",
      "Epoch 45/50\n",
      " - 0s - loss: 1.2843 - acc: 0.6667\n",
      "Epoch 46/50\n",
      " - 0s - loss: 1.2617 - acc: 0.6433\n",
      "Epoch 47/50\n",
      " - 0s - loss: 1.2406 - acc: 0.6667\n",
      "Epoch 48/50\n",
      " - 0s - loss: 1.2235 - acc: 0.6550\n",
      "Epoch 49/50\n",
      " - 0s - loss: 1.2072 - acc: 0.6725\n",
      "Epoch 50/50\n",
      " - 0s - loss: 1.1677 - acc: 0.6667\n"
     ]
    }
   ],
   "source": [
    "train_history = model.fit(new_all_feature , train_y,  \n",
    "                          epochs = 50, batch_size = 15, verbose=2)   #一層500  三層1500 #15  #150 epoch"
   ]
  },
  {
   "cell_type": "code",
   "execution_count": 35,
   "metadata": {},
   "outputs": [],
   "source": [
    "import matplotlib.pyplot as plt\n",
    "def show_train_history(train_history,train):\n",
    "    plt.plot(train_history.history[train])\n",
    "    #plt.plot(train_history.history[validation])\n",
    "    plt.title('Train History')\n",
    "    plt.ylabel(train)\n",
    "    plt.xlabel('Epoch')\n",
    "    plt.legend(['train','validation'],loc='upper left')\n",
    "    plt.show()"
   ]
  },
  {
   "cell_type": "code",
   "execution_count": 36,
   "metadata": {},
   "outputs": [
    {
     "data": {
      "image/png": "[encoded data removed]",
      "text/plain": [
       "<Figure size 432x288 with 1 Axes>"
      ]
     },
     "metadata": {
      "needs_background": "light"
     },
     "output_type": "display_data"
    }
   ],
   "source": [
    "show_train_history(train_history,'acc')"
   ]
  },
  {
   "cell_type": "code",
   "execution_count": 37,
   "metadata": {},
   "outputs": [
    {
     "data": {
      "image/png": "[encoded data removed]",
      "text/plain": [
       "<Figure size 432x288 with 1 Axes>"
      ]
     },
     "metadata": {
      "needs_background": "light"
     },
     "output_type": "display_data"
    }
   ],
   "source": [
    "show_train_history(train_history,'loss')"
   ]
  },
  {
   "cell_type": "code",
   "execution_count": null,
   "metadata": {},
   "outputs": [],
   "source": []
  },
  {
   "cell_type": "code",
   "execution_count": 38,
   "metadata": {},
   "outputs": [],
   "source": [
    "test_out =  model.predict_classes(test_feature)"
   ]
  },
  {
   "cell_type": "code",
   "execution_count": 39,
   "metadata": {},
   "outputs": [
    {
     "data": {
      "text/plain": [
       "array([0, 0, 0, 0, 0, 0, 0, 0, 0, 0, 0, 1, 0, 0, 0, 1, 1, 1, 0, 1],\n",
       "      dtype=int64)"
      ]
     },
     "execution_count": 39,
     "metadata": {},
     "output_type": "execute_result"
    }
   ],
   "source": [
    "test_out"
   ]
  },
  {
   "cell_type": "code",
   "execution_count": 40,
   "metadata": {},
   "outputs": [],
   "source": [
    "prob = model.predict_proba(test_feature)"
   ]
  },
  {
   "cell_type": "code",
   "execution_count": 41,
   "metadata": {},
   "outputs": [
    {
     "data": {
      "text/plain": [
       "array([[0.5880577 , 0.2570236 , 0.10700115, 0.04791754],\n",
       "       [0.63394636, 0.23672578, 0.05717792, 0.07214992],\n",
       "       [0.8329444 , 0.0962272 , 0.02904684, 0.04178153],\n",
       "       [0.35978794, 0.32381308, 0.21893047, 0.09746847],\n",
       "       [0.5612843 , 0.20074493, 0.14544307, 0.09252765],\n",
       "       [0.40025085, 0.2653717 , 0.21976829, 0.11460911],\n",
       "       [0.660934  , 0.18586949, 0.09768553, 0.05551104],\n",
       "       [0.720212  , 0.18206681, 0.052275  , 0.04544612],\n",
       "       [0.5363091 , 0.28095752, 0.11972154, 0.06301182],\n",
       "       [0.7429711 , 0.20172028, 0.0268507 , 0.02845797]], dtype=float32)"
      ]
     },
     "execution_count": 41,
     "metadata": {},
     "output_type": "execute_result"
    }
   ],
   "source": [
    "prob[0:10]"
   ]
  },
  {
   "cell_type": "code",
   "execution_count": 42,
   "metadata": {},
   "outputs": [
    {
     "data": {
      "text/plain": [
       "array([[0.689041  , 0.2584848 , 0.02629139, 0.02618275],\n",
       "       [0.21837048, 0.47080275, 0.25668064, 0.05414616],\n",
       "       [0.39490643, 0.3357062 , 0.13974446, 0.12964286],\n",
       "       [0.7341077 , 0.17099273, 0.06872143, 0.02617814],\n",
       "       [0.46095467, 0.3722498 , 0.09132501, 0.07547037],\n",
       "       [0.30645904, 0.41203693, 0.18725756, 0.09424646]], dtype=float32)"
      ]
     },
     "execution_count": 42,
     "metadata": {},
     "output_type": "execute_result"
    }
   ],
   "source": [
    "prob[10:16]"
   ]
  },
  {
   "cell_type": "code",
   "execution_count": 43,
   "metadata": {},
   "outputs": [
    {
     "data": {
      "text/plain": [
       "array([[0.28316632, 0.4413923 , 0.16181011, 0.11363122],\n",
       "       [0.1271165 , 0.59944993, 0.21950676, 0.05392684],\n",
       "       [0.38583717, 0.35649097, 0.15575686, 0.10191499],\n",
       "       [0.3602046 , 0.46784297, 0.12916145, 0.04279086]], dtype=float32)"
      ]
     },
     "execution_count": 43,
     "metadata": {},
     "output_type": "execute_result"
    }
   ],
   "source": [
    "prob[16:]"
   ]
  },
  {
   "cell_type": "code",
   "execution_count": 44,
   "metadata": {},
   "outputs": [
    {
     "data": {
      "text/plain": [
       "array([0, 0, 0, 0, 0, 0, 0, 0, 0, 0, 1, 1, 1, 1, 1, 1, 2, 2, 2, 3])"
      ]
     },
     "execution_count": 44,
     "metadata": {},
     "output_type": "execute_result"
    }
   ],
   "source": [
    "test['HOSDAY'].values"
   ]
  },
  {
   "cell_type": "code",
   "execution_count": null,
   "metadata": {},
   "outputs": [],
   "source": []
  },
  {
   "cell_type": "code",
   "execution_count": 45,
   "metadata": {},
   "outputs": [
    {
     "data": {
      "text/html": [
       "<div>\n",
       "<style scoped>\n",
       "    .dataframe tbody tr th:only-of-type {\n",
       "        vertical-align: middle;\n",
       "    }\n",
       "\n",
       "    .dataframe tbody tr th {\n",
       "        vertical-align: top;\n",
       "    }\n",
       "\n",
       "    .dataframe thead th {\n",
       "        text-align: right;\n",
       "    }\n",
       "</style>\n",
       "<table border=\"1\" class=\"dataframe\">\n",
       "  <thead>\n",
       "    <tr style=\"text-align: right;\">\n",
       "      <th>Predicted Species</th>\n",
       "      <th>0</th>\n",
       "      <th>1</th>\n",
       "    </tr>\n",
       "    <tr>\n",
       "      <th>Actual Species</th>\n",
       "      <th></th>\n",
       "      <th></th>\n",
       "    </tr>\n",
       "  </thead>\n",
       "  <tbody>\n",
       "    <tr>\n",
       "      <th>0</th>\n",
       "      <td>10</td>\n",
       "      <td>0</td>\n",
       "    </tr>\n",
       "    <tr>\n",
       "      <th>1</th>\n",
       "      <td>4</td>\n",
       "      <td>2</td>\n",
       "    </tr>\n",
       "    <tr>\n",
       "      <th>2</th>\n",
       "      <td>1</td>\n",
       "      <td>2</td>\n",
       "    </tr>\n",
       "    <tr>\n",
       "      <th>3</th>\n",
       "      <td>0</td>\n",
       "      <td>1</td>\n",
       "    </tr>\n",
       "  </tbody>\n",
       "</table>\n",
       "</div>"
      ],
      "text/plain": [
       "Predicted Species   0  1\n",
       "Actual Species          \n",
       "0                  10  0\n",
       "1                   4  2\n",
       "2                   1  2\n",
       "3                   0  1"
      ]
     },
     "execution_count": 45,
     "metadata": {},
     "output_type": "execute_result"
    }
   ],
   "source": [
    "pd.crosstab( test['HOSDAY'].values, test_out, rownames=['Actual Species'], colnames=['Predicted Species'])"
   ]
  },
  {
   "cell_type": "code",
   "execution_count": 46,
   "metadata": {},
   "outputs": [
    {
     "data": {
      "text/plain": [
       "[1.3114712238311768, 0.6000000238418579]"
      ]
     },
     "execution_count": 46,
     "metadata": {},
     "output_type": "execute_result"
    }
   ],
   "source": [
    "score2 = model.evaluate(test_feature, test_y, verbose=2)\n",
    "score2"
   ]
  },
  {
   "cell_type": "code",
   "execution_count": 47,
   "metadata": {},
   "outputs": [],
   "source": [
    "#model.save('gggood.h5')"
   ]
  },
  {
   "cell_type": "code",
   "execution_count": null,
   "metadata": {},
   "outputs": [],
   "source": []
  },
  {
   "cell_type": "code",
   "execution_count": 48,
   "metadata": {},
   "outputs": [],
   "source": [
    "#model2 = tf.contrib.keras.models.load_model('ggg.h5')"
   ]
  },
  {
   "cell_type": "code",
   "execution_count": 49,
   "metadata": {},
   "outputs": [],
   "source": [
    "#scores = model2.evaluate(test_feature, test_y, verbose=2)"
   ]
  },
  {
   "cell_type": "code",
   "execution_count": 50,
   "metadata": {},
   "outputs": [],
   "source": [
    "#scores"
   ]
  },
  {
   "cell_type": "code",
   "execution_count": null,
   "metadata": {},
   "outputs": [],
   "source": []
  },
  {
   "cell_type": "code",
   "execution_count": 51,
   "metadata": {},
   "outputs": [],
   "source": [
    "#model3 = tf.contrib.keras.models.load_model('gggood.h5')"
   ]
  },
  {
   "cell_type": "code",
   "execution_count": 52,
   "metadata": {},
   "outputs": [],
   "source": [
    "#scores3 = model3.evaluate(test_feature, test_y, verbose=2)"
   ]
  },
  {
   "cell_type": "code",
   "execution_count": 53,
   "metadata": {},
   "outputs": [],
   "source": [
    "#scores3"
   ]
  },
  {
   "cell_type": "code",
   "execution_count": null,
   "metadata": {},
   "outputs": [],
   "source": []
  }
 ],
 "metadata": {
  "kernelspec": {
   "display_name": "Python 3",
   "language": "python",
   "name": "python3"
  },
  "language_info": {
   "codemirror_mode": {
    "name": "ipython",
    "version": 3
   },
   "file_extension": ".py",
   "mimetype": "text/x-python",
   "name": "python",
   "nbconvert_exporter": "python",
   "pygments_lexer": "ipython3",
   "version": "3.6.9"
  }
 },
 "nbformat": 4,
 "nbformat_minor": 2
}
