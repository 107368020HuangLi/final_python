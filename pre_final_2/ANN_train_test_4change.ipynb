{
 "cells": [
  {
   "cell_type": "code",
   "execution_count": 1,
   "metadata": {},
   "outputs": [],
   "source": [
    "from sklearn import datasets\n",
    "from sklearn.model_selection import train_test_split\n",
    "import matplotlib.pyplot as plt\n",
    "%matplotlib inline"
   ]
  },
  {
   "cell_type": "code",
   "execution_count": 2,
   "metadata": {},
   "outputs": [
    {
     "name": "stderr",
     "output_type": "stream",
     "text": [
      "Using TensorFlow backend.\n"
     ]
    }
   ],
   "source": [
    "import numpy as np\n",
    "import pandas as pd\n",
    "from sklearn import preprocessing\n",
    "import tensorflow as tf \n",
    "from tensorflow import keras\n",
    "from sklearn.metrics import precision_recall_fscore_support as score\n",
    "from keras.utils import np_utils\n",
    "from sklearn.utils import shuffle"
   ]
  },
  {
   "cell_type": "code",
   "execution_count": 3,
   "metadata": {},
   "outputs": [],
   "source": [
    "num = 4"
   ]
  },
  {
   "cell_type": "code",
   "execution_count": 4,
   "metadata": {},
   "outputs": [],
   "source": [
    "#train = pd.read_csv('0424new_train_'+str(num)+'.csv')\n",
    "#test = pd.read_csv('0424new_test_'+str(num)+'.csv')"
   ]
  },
  {
   "cell_type": "code",
   "execution_count": 5,
   "metadata": {},
   "outputs": [],
   "source": [
    "#train = pd.read_csv('0424new_train_'+str(num)+'bb.csv')\n",
    "#test = pd.read_csv('0424new_test_'+str(num)+'bb.csv')"
   ]
  },
  {
   "cell_type": "code",
   "execution_count": 6,
   "metadata": {},
   "outputs": [],
   "source": [
    "#train = pd.read_csv('0424new_train_'+str(num)+'cc.csv')\n",
    "#test = pd.read_csv('0424new_test_'+str(num)+'cc.csv')"
   ]
  },
  {
   "cell_type": "code",
   "execution_count": null,
   "metadata": {},
   "outputs": [],
   "source": []
  },
  {
   "cell_type": "code",
   "execution_count": 7,
   "metadata": {},
   "outputs": [],
   "source": [
    "#train = pd.read_csv('0427new_train_'+str(num)+'.csv')\n",
    "#test = pd.read_csv('0427new_test_'+str(num)+'.csv')"
   ]
  },
  {
   "cell_type": "code",
   "execution_count": 8,
   "metadata": {},
   "outputs": [],
   "source": [
    "#train = pd.read_csv('0503new_train_'+str(num)+'_change.csv')\n",
    "#test = pd.read_csv('0503new_test_'+str(num)+'_change.csv')  #40"
   ]
  },
  {
   "cell_type": "code",
   "execution_count": 9,
   "metadata": {},
   "outputs": [],
   "source": [
    "train = pd.read_csv('0504new_train_'+str(num)+'_change.csv')\n",
    "test = pd.read_csv('0504new_test_'+str(num)+'_change.csv')  #28"
   ]
  },
  {
   "cell_type": "code",
   "execution_count": 10,
   "metadata": {},
   "outputs": [],
   "source": [
    "#train = pd.read_csv('0424upsample.csv')\n",
    "#test = pd.read_csv('0424new_test_'+str(num)+'dd.csv')"
   ]
  },
  {
   "cell_type": "code",
   "execution_count": 11,
   "metadata": {},
   "outputs": [],
   "source": [
    "#train['HOSDAY'] = train['HOSDAY'].map({\"A\": 0, \"B\":1, \"C\":2, \"D\":3, \"E\":4 }).astype(int)\n",
    "#test['HOSDAY'] = test['HOSDAY'].map({\"A\": 0, \"B\":1, \"C\":2, \"D\":3, \"E\":4 }).astype(int)"
   ]
  },
  {
   "cell_type": "code",
   "execution_count": 12,
   "metadata": {},
   "outputs": [],
   "source": [
    "train['HOSDAY'] = train['HOSDAY'].map({\"A\": 0, \"B\":1, \"C\":2, \"D\":3 }).astype(int)\n",
    "test['HOSDAY'] = test['HOSDAY'].map({\"A\": 0, \"B\":1, \"C\":2, \"D\":3 }).astype(int)"
   ]
  },
  {
   "cell_type": "code",
   "execution_count": 13,
   "metadata": {},
   "outputs": [],
   "source": [
    "train = shuffle(train)\n",
    "#test = shuffle(test)"
   ]
  },
  {
   "cell_type": "code",
   "execution_count": 14,
   "metadata": {},
   "outputs": [],
   "source": [
    "#test"
   ]
  },
  {
   "cell_type": "code",
   "execution_count": 15,
   "metadata": {},
   "outputs": [],
   "source": [
    "train_feature = train.columns[1:]\n",
    "train_target = train.columns[0]\n",
    "train_feature = train[train_feature]\n",
    "train_y = train[train_target]\n",
    "train_y = train_y.values\n",
    "train_y = np_utils.to_categorical(train_y, num_classes = 4)"
   ]
  },
  {
   "cell_type": "code",
   "execution_count": 16,
   "metadata": {},
   "outputs": [],
   "source": [
    "#train_feature"
   ]
  },
  {
   "cell_type": "code",
   "execution_count": null,
   "metadata": {},
   "outputs": [],
   "source": []
  },
  {
   "cell_type": "code",
   "execution_count": 17,
   "metadata": {},
   "outputs": [],
   "source": [
    "#test.reset_index( drop=True, inplace=True )\n",
    "test_feature = test.columns[1:]\n",
    "test_target = test.columns[0]\n",
    "test_feature = test[test_feature]\n",
    "test_y = test[test_target]\n",
    "test_y = test_y.values\n",
    "test_y = np_utils.to_categorical(test_y, num_classes = 4)"
   ]
  },
  {
   "cell_type": "code",
   "execution_count": null,
   "metadata": {},
   "outputs": [],
   "source": []
  },
  {
   "cell_type": "code",
   "execution_count": 18,
   "metadata": {},
   "outputs": [],
   "source": [
    "new_all_feature = preprocessing.scale(train_feature)\n",
    "test_feature  = ( ( test_feature - train_feature.mean(axis=0) ) / train_feature.std(axis=0) )"
   ]
  },
  {
   "cell_type": "code",
   "execution_count": 19,
   "metadata": {},
   "outputs": [],
   "source": [
    "#new_all_feature"
   ]
  },
  {
   "cell_type": "code",
   "execution_count": null,
   "metadata": {},
   "outputs": [],
   "source": []
  },
  {
   "cell_type": "code",
   "execution_count": 20,
   "metadata": {},
   "outputs": [],
   "source": [
    "from keras.models import Sequential\n",
    "from keras.layers import Dense\n",
    "from keras.layers import Dropout\n",
    "from keras import regularizers"
   ]
  },
  {
   "cell_type": "code",
   "execution_count": 21,
   "metadata": {},
   "outputs": [],
   "source": [
    "model = tf.keras.models.Sequential()"
   ]
  },
  {
   "cell_type": "code",
   "execution_count": 22,
   "metadata": {},
   "outputs": [],
   "source": [
    "model.add( tf.keras.layers.Dense(units=64, input_shape=[28],            #52,47\n",
    "           kernel_initializer='he_normal',\n",
    "           kernel_regularizer= regularizers.l2(0.1),\n",
    "#           kernel_regularizer= regularizers.l1_l2(l1 = 0.01, l2 = 0.04),  #0.04   #0.04   #1層  0.02\n",
    "#           bias_regularizer = regularizers.l2(0.05),  #0.05\n",
    "#           activity_regularizer=regularizers.l2(0.0001),                      \n",
    "           activation='relu') )"
   ]
  },
  {
   "cell_type": "code",
   "execution_count": 23,
   "metadata": {},
   "outputs": [],
   "source": [
    "model.add(tf.keras.layers.Dropout(0.4))  #ep 300  # 0.2"
   ]
  },
  {
   "cell_type": "code",
   "execution_count": 24,
   "metadata": {},
   "outputs": [],
   "source": [
    "#model.add(tf.keras.layers.Dense(units=32,\n",
    "#               kernel_initializer='he_normal',  #he_normal\n",
    "#               kernel_regularizer= regularizers.l2(0.1),   #0.06 #0.03\n",
    "##               bias_regularizer = regularizers.l2(0.005),                \n",
    "##               activity_regularizer=regularizers.l2(0.001),\n",
    "#               activation='relu'))   #relu"
   ]
  },
  {
   "cell_type": "code",
   "execution_count": 25,
   "metadata": {},
   "outputs": [],
   "source": [
    "#model.add(tf.keras.layers.Dropout(0.4))  #ep 100    #0.5  #0.3"
   ]
  },
  {
   "cell_type": "code",
   "execution_count": 26,
   "metadata": {},
   "outputs": [],
   "source": [
    "#model.add(tf.keras.layers.Dense(units=32,\n",
    "#               kernel_initializer='he_normal',  #he_normal\n",
    "#               kernel_regularizer= regularizers.l2(0.07),   #0.06  #0.07  #0.03    \n",
    "##               kernel_regularizer= regularizers.l1_l2(l1 = 0.01, l2 = 0.03),\n",
    "##               bias_regularizer = regularizers.l2(0.005),                \n",
    "#               activity_regularizer=regularizers.l2(0.001),\n",
    "#               activation='relu'))   #relu"
   ]
  },
  {
   "cell_type": "code",
   "execution_count": 27,
   "metadata": {},
   "outputs": [],
   "source": [
    "#model.add(tf.keras.layers.Dropout(0.2))  #ep 100  #0.2"
   ]
  },
  {
   "cell_type": "code",
   "execution_count": 28,
   "metadata": {},
   "outputs": [],
   "source": [
    "model.add(tf.keras.layers.Dense(units=4, \n",
    "#                                kernel_initializer='normal',\n",
    "                                activation='softmax'))    # kernel_initializer='normal',"
   ]
  },
  {
   "cell_type": "code",
   "execution_count": 29,
   "metadata": {},
   "outputs": [],
   "source": [
    "adam = keras.optimizers.Adam( lr=0.001 ,beta_1=0.9, beta_2=0.999, epsilon=1e-08 )\n",
    "#adam = keras.optimizers.Adam( lr=0.001 ,beta_1=0.9, beta_2=0.999, epsilon=1e-08 )"
   ]
  },
  {
   "cell_type": "code",
   "execution_count": 30,
   "metadata": {},
   "outputs": [],
   "source": [
    "model.compile( optimizer = adam , loss = 'categorical_crossentropy', metrics=['accuracy'])"
   ]
  },
  {
   "cell_type": "code",
   "execution_count": 31,
   "metadata": {},
   "outputs": [],
   "source": [
    "#model.compile( optimizer = \"rmsprop\" , loss = 'categorical_crossentropy', metrics=['accuracy'])"
   ]
  },
  {
   "cell_type": "code",
   "execution_count": 32,
   "metadata": {
    "scrolled": true
   },
   "outputs": [
    {
     "name": "stdout",
     "output_type": "stream",
     "text": [
      "Epoch 1/50\n",
      " - 0s - loss: 12.1003 - acc: 0.1462\n",
      "Epoch 2/50\n",
      " - 0s - loss: 11.1304 - acc: 0.2281\n",
      "Epoch 3/50\n",
      " - 0s - loss: 10.2092 - acc: 0.3099\n",
      "Epoch 4/50\n",
      " - 0s - loss: 9.5500 - acc: 0.3684\n",
      "Epoch 5/50\n",
      " - 0s - loss: 8.9492 - acc: 0.3977\n",
      "Epoch 6/50\n",
      " - 0s - loss: 8.4120 - acc: 0.3684\n",
      "Epoch 7/50\n",
      " - 0s - loss: 7.8524 - acc: 0.4561\n",
      "Epoch 8/50\n",
      " - 0s - loss: 7.4133 - acc: 0.4620\n",
      "Epoch 9/50\n",
      " - 0s - loss: 6.9087 - acc: 0.4854\n",
      "Epoch 10/50\n",
      " - 0s - loss: 6.5118 - acc: 0.4503\n",
      "Epoch 11/50\n",
      " - 0s - loss: 6.0352 - acc: 0.5205\n",
      "Epoch 12/50\n",
      " - 0s - loss: 5.7004 - acc: 0.5556\n",
      "Epoch 13/50\n",
      " - 0s - loss: 5.3961 - acc: 0.5322\n",
      "Epoch 14/50\n",
      " - 0s - loss: 5.0295 - acc: 0.5322\n",
      "Epoch 15/50\n",
      " - 0s - loss: 4.7918 - acc: 0.5380\n",
      "Epoch 16/50\n",
      " - 0s - loss: 4.4386 - acc: 0.5906\n",
      "Epoch 17/50\n",
      " - 0s - loss: 4.2469 - acc: 0.5322\n",
      "Epoch 18/50\n",
      " - 0s - loss: 3.9581 - acc: 0.6257\n",
      "Epoch 19/50\n",
      " - 0s - loss: 3.8460 - acc: 0.5322\n",
      "Epoch 20/50\n",
      " - 0s - loss: 3.5693 - acc: 0.5965\n",
      "Epoch 21/50\n",
      " - 0s - loss: 3.3463 - acc: 0.6082\n",
      "Epoch 22/50\n",
      " - 0s - loss: 3.1817 - acc: 0.5731\n",
      "Epoch 23/50\n",
      " - 0s - loss: 3.0069 - acc: 0.6140\n",
      "Epoch 24/50\n",
      " - 0s - loss: 2.8508 - acc: 0.6433\n",
      "Epoch 25/50\n",
      " - 0s - loss: 2.6967 - acc: 0.6316\n",
      "Epoch 26/50\n",
      " - 0s - loss: 2.5932 - acc: 0.6433\n",
      "Epoch 27/50\n",
      " - 0s - loss: 2.4462 - acc: 0.6667\n",
      "Epoch 28/50\n",
      " - 0s - loss: 2.3291 - acc: 0.6374\n",
      "Epoch 29/50\n",
      " - 0s - loss: 2.2436 - acc: 0.6433\n",
      "Epoch 30/50\n",
      " - 0s - loss: 2.1056 - acc: 0.7076\n",
      "Epoch 31/50\n",
      " - 0s - loss: 2.0483 - acc: 0.6433\n",
      "Epoch 32/50\n",
      " - 0s - loss: 1.9650 - acc: 0.6374\n",
      "Epoch 33/50\n",
      " - 0s - loss: 1.8993 - acc: 0.6374\n",
      "Epoch 34/50\n",
      " - 0s - loss: 1.7988 - acc: 0.6608\n",
      "Epoch 35/50\n",
      " - 0s - loss: 1.7613 - acc: 0.6374\n",
      "Epoch 36/50\n",
      " - 0s - loss: 1.7014 - acc: 0.6257\n",
      "Epoch 37/50\n",
      " - 0s - loss: 1.6063 - acc: 0.6608\n",
      "Epoch 38/50\n",
      " - 0s - loss: 1.5626 - acc: 0.6491\n",
      "Epoch 39/50\n",
      " - 0s - loss: 1.4810 - acc: 0.6725\n",
      "Epoch 40/50\n",
      " - 0s - loss: 1.4595 - acc: 0.6725\n",
      "Epoch 41/50\n",
      " - 0s - loss: 1.4393 - acc: 0.6784\n",
      "Epoch 42/50\n",
      " - 0s - loss: 1.4049 - acc: 0.6374\n",
      "Epoch 43/50\n",
      " - 0s - loss: 1.3159 - acc: 0.6608\n",
      "Epoch 44/50\n",
      " - 0s - loss: 1.3106 - acc: 0.6901\n",
      "Epoch 45/50\n",
      " - 0s - loss: 1.3064 - acc: 0.6784\n",
      "Epoch 46/50\n",
      " - 0s - loss: 1.2491 - acc: 0.6842\n",
      "Epoch 47/50\n",
      " - 0s - loss: 1.2534 - acc: 0.6550\n",
      "Epoch 48/50\n",
      " - 0s - loss: 1.2423 - acc: 0.6491\n",
      "Epoch 49/50\n",
      " - 0s - loss: 1.1955 - acc: 0.6667\n",
      "Epoch 50/50\n",
      " - 0s - loss: 1.1405 - acc: 0.6901\n"
     ]
    }
   ],
   "source": [
    "train_history = model.fit(new_all_feature , train_y,  \n",
    "                          epochs = 50, batch_size = 15, verbose=2)   #一層500  三層1500"
   ]
  },
  {
   "cell_type": "code",
   "execution_count": 33,
   "metadata": {},
   "outputs": [],
   "source": [
    "import matplotlib.pyplot as plt\n",
    "def show_train_history(train_history,train):\n",
    "    plt.plot(train_history.history[train])\n",
    "    #plt.plot(train_history.history[validation])\n",
    "    plt.title('Train History')\n",
    "    plt.ylabel(train)\n",
    "    plt.xlabel('Epoch')\n",
    "    plt.legend(['train','validation'],loc='upper left')\n",
    "    plt.show()"
   ]
  },
  {
   "cell_type": "code",
   "execution_count": 34,
   "metadata": {},
   "outputs": [
    {
     "data": {
      "image/png": "[encoded data removed]",
      "text/plain": [
       "<Figure size 432x288 with 1 Axes>"
      ]
     },
     "metadata": {
      "needs_background": "light"
     },
     "output_type": "display_data"
    }
   ],
   "source": [
    "show_train_history(train_history,'acc')"
   ]
  },
  {
   "cell_type": "code",
   "execution_count": 35,
   "metadata": {},
   "outputs": [
    {
     "data": {
      "image/png": "[encoded data removed]",
      "text/plain": [
       "<Figure size 432x288 with 1 Axes>"
      ]
     },
     "metadata": {
      "needs_background": "light"
     },
     "output_type": "display_data"
    }
   ],
   "source": [
    "show_train_history(train_history,'loss')"
   ]
  },
  {
   "cell_type": "code",
   "execution_count": null,
   "metadata": {},
   "outputs": [],
   "source": []
  },
  {
   "cell_type": "code",
   "execution_count": 36,
   "metadata": {},
   "outputs": [],
   "source": [
    "test_out =  model.predict_classes(test_feature)"
   ]
  },
  {
   "cell_type": "code",
   "execution_count": 37,
   "metadata": {},
   "outputs": [
    {
     "data": {
      "text/plain": [
       "array([1, 0, 1, 0, 1, 0, 0, 0, 1, 0, 1, 1, 1, 1, 1, 1, 0, 1, 1, 1],\n",
       "      dtype=int64)"
      ]
     },
     "execution_count": 37,
     "metadata": {},
     "output_type": "execute_result"
    }
   ],
   "source": [
    "test_out"
   ]
  },
  {
   "cell_type": "code",
   "execution_count": 38,
   "metadata": {},
   "outputs": [],
   "source": [
    "prob = model.predict_proba(test_feature)"
   ]
  },
  {
   "cell_type": "code",
   "execution_count": 39,
   "metadata": {},
   "outputs": [
    {
     "data": {
      "text/plain": [
       "array([[0.3161323 , 0.39019606, 0.16701801, 0.12665358],\n",
       "       [0.5110715 , 0.33773318, 0.08747625, 0.06371901],\n",
       "       [0.1668878 , 0.48950145, 0.25283673, 0.09077402],\n",
       "       [0.49749509, 0.36976844, 0.07132816, 0.06140832],\n",
       "       [0.1344584 , 0.66120994, 0.09645011, 0.10788152],\n",
       "       [0.82168996, 0.08809935, 0.05715424, 0.03305638],\n",
       "       [0.42008317, 0.39072114, 0.10711645, 0.08207925],\n",
       "       [0.7111529 , 0.1932799 , 0.0302271 , 0.0653402 ],\n",
       "       [0.3801475 , 0.41005623, 0.1340031 , 0.07579325],\n",
       "       [0.6060761 , 0.18269902, 0.12475695, 0.08646787]], dtype=float32)"
      ]
     },
     "execution_count": 39,
     "metadata": {},
     "output_type": "execute_result"
    }
   ],
   "source": [
    "prob[0:10]"
   ]
  },
  {
   "cell_type": "code",
   "execution_count": 40,
   "metadata": {},
   "outputs": [
    {
     "data": {
      "text/plain": [
       "array([[0.13812365, 0.6055719 , 0.17938149, 0.07692297],\n",
       "       [0.33402008, 0.4539766 , 0.16780752, 0.04419572],\n",
       "       [0.27264425, 0.36725435, 0.21975686, 0.14034458],\n",
       "       [0.25361466, 0.48513073, 0.15528163, 0.10597294],\n",
       "       [0.3256831 , 0.4395267 , 0.14309138, 0.09169883],\n",
       "       [0.22981931, 0.352496  , 0.3457365 , 0.0719482 ]], dtype=float32)"
      ]
     },
     "execution_count": 40,
     "metadata": {},
     "output_type": "execute_result"
    }
   ],
   "source": [
    "prob[10:16]"
   ]
  },
  {
   "cell_type": "code",
   "execution_count": 41,
   "metadata": {},
   "outputs": [
    {
     "data": {
      "text/plain": [
       "array([[0.4028789 , 0.2922183 , 0.1876099 , 0.11729289],\n",
       "       [0.2826474 , 0.3716193 , 0.23092818, 0.11480512],\n",
       "       [0.35580987, 0.41657612, 0.14178017, 0.08583388],\n",
       "       [0.29434022, 0.30145276, 0.23307785, 0.17112911]], dtype=float32)"
      ]
     },
     "execution_count": 41,
     "metadata": {},
     "output_type": "execute_result"
    }
   ],
   "source": [
    "prob[16:]"
   ]
  },
  {
   "cell_type": "code",
   "execution_count": 42,
   "metadata": {},
   "outputs": [
    {
     "data": {
      "text/plain": [
       "array([0, 0, 0, 0, 0, 0, 0, 0, 0, 0, 1, 1, 1, 1, 1, 1, 2, 2, 2, 3])"
      ]
     },
     "execution_count": 42,
     "metadata": {},
     "output_type": "execute_result"
    }
   ],
   "source": [
    "test['HOSDAY'].values"
   ]
  },
  {
   "cell_type": "code",
   "execution_count": null,
   "metadata": {},
   "outputs": [],
   "source": []
  },
  {
   "cell_type": "code",
   "execution_count": 43,
   "metadata": {},
   "outputs": [
    {
     "data": {
      "text/html": [
       "<div>\n",
       "<style scoped>\n",
       "    .dataframe tbody tr th:only-of-type {\n",
       "        vertical-align: middle;\n",
       "    }\n",
       "\n",
       "    .dataframe tbody tr th {\n",
       "        vertical-align: top;\n",
       "    }\n",
       "\n",
       "    .dataframe thead th {\n",
       "        text-align: right;\n",
       "    }\n",
       "</style>\n",
       "<table border=\"1\" class=\"dataframe\">\n",
       "  <thead>\n",
       "    <tr style=\"text-align: right;\">\n",
       "      <th>Predicted Species</th>\n",
       "      <th>0</th>\n",
       "      <th>1</th>\n",
       "    </tr>\n",
       "    <tr>\n",
       "      <th>Actual Species</th>\n",
       "      <th></th>\n",
       "      <th></th>\n",
       "    </tr>\n",
       "  </thead>\n",
       "  <tbody>\n",
       "    <tr>\n",
       "      <th>0</th>\n",
       "      <td>6</td>\n",
       "      <td>4</td>\n",
       "    </tr>\n",
       "    <tr>\n",
       "      <th>1</th>\n",
       "      <td>0</td>\n",
       "      <td>6</td>\n",
       "    </tr>\n",
       "    <tr>\n",
       "      <th>2</th>\n",
       "      <td>1</td>\n",
       "      <td>2</td>\n",
       "    </tr>\n",
       "    <tr>\n",
       "      <th>3</th>\n",
       "      <td>0</td>\n",
       "      <td>1</td>\n",
       "    </tr>\n",
       "  </tbody>\n",
       "</table>\n",
       "</div>"
      ],
      "text/plain": [
       "Predicted Species  0  1\n",
       "Actual Species         \n",
       "0                  6  4\n",
       "1                  0  6\n",
       "2                  1  2\n",
       "3                  0  1"
      ]
     },
     "execution_count": 43,
     "metadata": {},
     "output_type": "execute_result"
    }
   ],
   "source": [
    "pd.crosstab( test['HOSDAY'].values, test_out, rownames=['Actual Species'], colnames=['Predicted Species'])"
   ]
  },
  {
   "cell_type": "code",
   "execution_count": 44,
   "metadata": {},
   "outputs": [
    {
     "data": {
      "text/plain": [
       "[1.3364850282669067, 0.6000000238418579]"
      ]
     },
     "execution_count": 44,
     "metadata": {},
     "output_type": "execute_result"
    }
   ],
   "source": [
    "score2 = model.evaluate(test_feature, test_y, verbose=2)\n",
    "score2"
   ]
  },
  {
   "cell_type": "code",
   "execution_count": 45,
   "metadata": {},
   "outputs": [],
   "source": [
    "#model.save('gggood.h5')"
   ]
  },
  {
   "cell_type": "code",
   "execution_count": null,
   "metadata": {},
   "outputs": [],
   "source": []
  },
  {
   "cell_type": "code",
   "execution_count": null,
   "metadata": {},
   "outputs": [],
   "source": []
  },
  {
   "cell_type": "code",
   "execution_count": null,
   "metadata": {},
   "outputs": [],
   "source": []
  },
  {
   "cell_type": "code",
   "execution_count": 46,
   "metadata": {},
   "outputs": [],
   "source": [
    "#model2 = tf.contrib.keras.models.load_model('ggg.h5')"
   ]
  },
  {
   "cell_type": "code",
   "execution_count": 47,
   "metadata": {},
   "outputs": [],
   "source": [
    "#scores = model2.evaluate(test_feature, test_y, verbose=2)"
   ]
  },
  {
   "cell_type": "code",
   "execution_count": 48,
   "metadata": {},
   "outputs": [],
   "source": [
    "#scores"
   ]
  },
  {
   "cell_type": "code",
   "execution_count": null,
   "metadata": {},
   "outputs": [],
   "source": []
  },
  {
   "cell_type": "code",
   "execution_count": 49,
   "metadata": {},
   "outputs": [],
   "source": [
    "#model3 = tf.contrib.keras.models.load_model('gggood.h5')"
   ]
  },
  {
   "cell_type": "code",
   "execution_count": 50,
   "metadata": {},
   "outputs": [],
   "source": [
    "#scores3 = model3.evaluate(test_feature, test_y, verbose=2)"
   ]
  },
  {
   "cell_type": "code",
   "execution_count": 51,
   "metadata": {},
   "outputs": [],
   "source": [
    "#scores3"
   ]
  },
  {
   "cell_type": "code",
   "execution_count": null,
   "metadata": {},
   "outputs": [],
   "source": []
  }
 ],
 "metadata": {
  "kernelspec": {
   "display_name": "Python 3",
   "language": "python",
   "name": "python3"
  },
  "language_info": {
   "codemirror_mode": {
    "name": "ipython",
    "version": 3
   },
   "file_extension": ".py",
   "mimetype": "text/x-python",
   "name": "python",
   "nbconvert_exporter": "python",
   "pygments_lexer": "ipython3",
   "version": "3.6.9"
  }
 },
 "nbformat": 4,
 "nbformat_minor": 2
}
