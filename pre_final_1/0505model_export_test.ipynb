{
 "cells": [
  {
   "cell_type": "code",
   "execution_count": 1,
   "metadata": {},
   "outputs": [],
   "source": [
    "from sklearn import datasets\n",
    "from sklearn.model_selection import train_test_split\n",
    "import matplotlib.pyplot as plt\n",
    "%matplotlib inline"
   ]
  },
  {
   "cell_type": "code",
   "execution_count": 2,
   "metadata": {},
   "outputs": [
    {
     "name": "stderr",
     "output_type": "stream",
     "text": [
      "Using TensorFlow backend.\n"
     ]
    }
   ],
   "source": [
    "import numpy as np\n",
    "import pandas as pd\n",
    "from sklearn import preprocessing\n",
    "import tensorflow as tf \n",
    "from tensorflow import keras\n",
    "from sklearn.metrics import precision_recall_fscore_support as score\n",
    "from keras.utils import np_utils\n",
    "from sklearn.utils import shuffle"
   ]
  },
  {
   "cell_type": "code",
   "execution_count": 3,
   "metadata": {},
   "outputs": [],
   "source": [
    "train = pd.read_csv('0505final_train.csv')"
   ]
  },
  {
   "cell_type": "code",
   "execution_count": 4,
   "metadata": {},
   "outputs": [],
   "source": [
    "train['HOSDAY'] = train['HOSDAY'].map({\"A\": 0, \"B\":1, \"C\":2, \"D\":3 }).astype(int)\n",
    "#train = shuffle(train)"
   ]
  },
  {
   "cell_type": "code",
   "execution_count": 5,
   "metadata": {},
   "outputs": [],
   "source": [
    "train_feature = train.columns[1:]\n",
    "train_target = train.columns[0]\n",
    "train_feature = train[train_feature]\n",
    "train_y = train[train_target]\n",
    "train_y = train_y.values\n",
    "train_y = np_utils.to_categorical(train_y, num_classes = 4)"
   ]
  },
  {
   "cell_type": "code",
   "execution_count": 6,
   "metadata": {},
   "outputs": [],
   "source": [
    "new_all_feature = preprocessing.scale(train_feature)"
   ]
  },
  {
   "cell_type": "code",
   "execution_count": 7,
   "metadata": {
    "scrolled": true
   },
   "outputs": [
    {
     "data": {
      "text/plain": [
       "AGE                    51.612565\n",
       "GENDER                  0.523560\n",
       "BMI                    24.790890\n",
       "T                      36.460209\n",
       "P                      81.638743\n",
       "R                      16.774869\n",
       "fracture_type           0.104712\n",
       "painsco                 2.246073\n",
       "OP_CODE              7850.015707\n",
       "wBC                     8.542408\n",
       "HEMOGLOBIN             13.169634\n",
       "HCT                    40.267016\n",
       "PLATELETS             271.104712\n",
       "BUN                    14.851309\n",
       "CREATININE              0.756545\n",
       "occupation_A            0.230366\n",
       "occupation_B            0.151832\n",
       "occupation_C            0.204188\n",
       "occupation_D            0.167539\n",
       "occupation_E            0.073298\n",
       "occupation_F            0.073298\n",
       "occupation_G            0.031414\n",
       "occupation_H            0.068063\n",
       "WHERE_A                 0.109948\n",
       "WHERE_B                 0.068063\n",
       "WHERE_C                 0.115183\n",
       "WHERE_D                 0.225131\n",
       "WHERE_E                 0.089005\n",
       "WHERE_F                 0.219895\n",
       "WHERE_G                 0.052356\n",
       "WHERE_H                 0.020942\n",
       "WHERE_I                 0.047120\n",
       "WHERE_J                 0.052356\n",
       "ANESTHESIA_TYPE_A       0.942408\n",
       "ANESTHESIA_TYPE_B       0.031414\n",
       "ANESTHESIA_TYPE_C       0.026178\n",
       "PATIENT_ORIGIN_A        0.916230\n",
       "PATIENT_ORIGIN_B        0.026178\n",
       "PATIENT_ORIGIN_C        0.057592\n",
       "OP_TYPE_A               0.910995\n",
       "OP_TYPE_B               0.068063\n",
       "OP_TYPE_C               0.020942\n",
       "PRE_DIAG_A              0.130890\n",
       "PRE_DIAG_B              0.157068\n",
       "PRE_DIAG_C              0.225131\n",
       "PRE_DIAG_D              0.376963\n",
       "PRE_DIAG_E              0.109948\n",
       "POST_DIAG_A             0.125654\n",
       "POST_DIAG_B             0.157068\n",
       "POST_DIAG_C             0.235602\n",
       "POST_DIAG_D             0.371728\n",
       "POST_DIAG_E             0.109948\n",
       "dtype: float64"
      ]
     },
     "execution_count": 7,
     "metadata": {},
     "output_type": "execute_result"
    }
   ],
   "source": [
    "train_feature.mean(axis=0)"
   ]
  },
  {
   "cell_type": "code",
   "execution_count": 8,
   "metadata": {
    "scrolled": true
   },
   "outputs": [
    {
     "data": {
      "text/plain": [
       "AGE                    20.526918\n",
       "GENDER                  0.500757\n",
       "BMI                     4.303283\n",
       "T                       0.503135\n",
       "P                      13.235533\n",
       "R                       2.228192\n",
       "fracture_type           0.306987\n",
       "painsco                 0.730661\n",
       "OP_CODE              3540.000314\n",
       "wBC                     3.459226\n",
       "HEMOGLOBIN              1.917460\n",
       "HCT                     4.966711\n",
       "PLATELETS              62.967824\n",
       "BUN                     4.081200\n",
       "CREATININE              0.189032\n",
       "occupation_A            0.422174\n",
       "occupation_B            0.359802\n",
       "occupation_C            0.404167\n",
       "occupation_D            0.374438\n",
       "occupation_E            0.261311\n",
       "occupation_F            0.261311\n",
       "occupation_G            0.174891\n",
       "occupation_H            0.252516\n",
       "WHERE_A                 0.313647\n",
       "WHERE_B                 0.252516\n",
       "WHERE_C                 0.320082\n",
       "WHERE_D                 0.418766\n",
       "WHERE_E                 0.285500\n",
       "WHERE_F                 0.415264\n",
       "WHERE_G                 0.223329\n",
       "WHERE_H                 0.143568\n",
       "WHERE_I                 0.212453\n",
       "WHERE_J                 0.223329\n",
       "ANESTHESIA_TYPE_A       0.233582\n",
       "ANESTHESIA_TYPE_B       0.174891\n",
       "ANESTHESIA_TYPE_C       0.160084\n",
       "PATIENT_ORIGIN_A        0.277770\n",
       "PATIENT_ORIGIN_B        0.160084\n",
       "PATIENT_ORIGIN_C        0.233582\n",
       "OP_TYPE_A               0.285500\n",
       "OP_TYPE_B               0.252516\n",
       "OP_TYPE_C               0.143568\n",
       "PRE_DIAG_A              0.338166\n",
       "PRE_DIAG_B              0.364821\n",
       "PRE_DIAG_C              0.418766\n",
       "PRE_DIAG_D              0.485899\n",
       "PRE_DIAG_E              0.313647\n",
       "POST_DIAG_A             0.332331\n",
       "POST_DIAG_B             0.364821\n",
       "POST_DIAG_C             0.425490\n",
       "POST_DIAG_D             0.484536\n",
       "POST_DIAG_E             0.313647\n",
       "dtype: float64"
      ]
     },
     "execution_count": 8,
     "metadata": {},
     "output_type": "execute_result"
    }
   ],
   "source": [
    "train_feature.std(axis=0)"
   ]
  },
  {
   "cell_type": "code",
   "execution_count": 9,
   "metadata": {},
   "outputs": [],
   "source": [
    "DataFrame_feature = pd.DataFrame(new_all_feature)"
   ]
  },
  {
   "cell_type": "code",
   "execution_count": 10,
   "metadata": {},
   "outputs": [],
   "source": [
    "DataFrame_feature.to_csv(\"feature_data2.csv\",index=False)"
   ]
  },
  {
   "cell_type": "code",
   "execution_count": 11,
   "metadata": {},
   "outputs": [],
   "source": [
    "from keras.models import Sequential\n",
    "from keras.layers import Dense\n",
    "from keras.layers import Dropout\n",
    "from keras import regularizers"
   ]
  },
  {
   "cell_type": "code",
   "execution_count": 12,
   "metadata": {},
   "outputs": [],
   "source": [
    "model = Sequential()"
   ]
  },
  {
   "cell_type": "code",
   "execution_count": 13,
   "metadata": {},
   "outputs": [],
   "source": [
    "model.add( Dense(units=128, input_shape=[52],            #52,47\n",
    "                 kernel_initializer='he_normal',\n",
    "                 kernel_regularizer= regularizers.l2(0.1),  #0.04   #0.04   #1層  0.02\n",
    "#           bias_regularizer = regularizers.l2(0.05),  #0.05\n",
    "#           activity_regularizer=regularizers.l2(0.0001),                      \n",
    "                 activation='relu') )"
   ]
  },
  {
   "cell_type": "code",
   "execution_count": 14,
   "metadata": {},
   "outputs": [],
   "source": [
    "model.add(Dropout(0.4))  #ep 300"
   ]
  },
  {
   "cell_type": "code",
   "execution_count": 15,
   "metadata": {},
   "outputs": [],
   "source": [
    "model.add( Dense(units=64,\n",
    "                 kernel_initializer='he_normal',  #he_normal\n",
    "                 kernel_regularizer= regularizers.l2(0.1),   #0.06\n",
    "#               bias_regularizer = regularizers.l2(0.05),                \n",
    "#               activity_regularizer=regularizers.l2(0.001),\n",
    "                 activation='relu'))   #relu"
   ]
  },
  {
   "cell_type": "code",
   "execution_count": 16,
   "metadata": {},
   "outputs": [],
   "source": [
    "model.add(Dropout(0.4))  #ep 100    #0.5  #0.3"
   ]
  },
  {
   "cell_type": "code",
   "execution_count": 17,
   "metadata": {},
   "outputs": [],
   "source": [
    "model.add( Dense(units=4, \n",
    "#                kernel_initializer='normal',\n",
    "                 activation='softmax'))    # kernel_initializer='normal',"
   ]
  },
  {
   "cell_type": "code",
   "execution_count": 18,
   "metadata": {},
   "outputs": [],
   "source": [
    "model.compile( optimizer = 'adam' , loss = 'categorical_crossentropy', metrics=['accuracy'])"
   ]
  },
  {
   "cell_type": "code",
   "execution_count": 19,
   "metadata": {
    "scrolled": true
   },
   "outputs": [
    {
     "name": "stdout",
     "output_type": "stream",
     "text": [
      "Train on 171 samples, validate on 20 samples\n",
      "Epoch 1/50\n",
      " - 0s - loss: 31.2234 - acc: 0.3392 - val_loss: 28.9680 - val_acc: 0.4500\n",
      "Epoch 2/50\n",
      " - 0s - loss: 28.1183 - acc: 0.3626 - val_loss: 26.3480 - val_acc: 0.4000\n",
      "Epoch 3/50\n",
      " - 0s - loss: 25.4267 - acc: 0.5088 - val_loss: 24.0206 - val_acc: 0.4500\n",
      "Epoch 4/50\n",
      " - 0s - loss: 23.2113 - acc: 0.4269 - val_loss: 21.8600 - val_acc: 0.4500\n",
      "Epoch 5/50\n",
      " - 0s - loss: 21.0473 - acc: 0.4620 - val_loss: 19.8855 - val_acc: 0.5000\n",
      "Epoch 6/50\n",
      " - 0s - loss: 19.0294 - acc: 0.5439 - val_loss: 18.0762 - val_acc: 0.5500\n",
      "Epoch 7/50\n",
      " - 0s - loss: 17.3543 - acc: 0.4737 - val_loss: 16.4197 - val_acc: 0.5500\n",
      "Epoch 8/50\n",
      " - 0s - loss: 15.6716 - acc: 0.5205 - val_loss: 14.8963 - val_acc: 0.5500\n",
      "Epoch 9/50\n",
      " - 0s - loss: 14.2562 - acc: 0.5029 - val_loss: 13.5058 - val_acc: 0.5500\n",
      "Epoch 10/50\n",
      " - 0s - loss: 12.8894 - acc: 0.5497 - val_loss: 12.2473 - val_acc: 0.5500\n",
      "Epoch 11/50\n",
      " - 0s - loss: 11.5669 - acc: 0.6082 - val_loss: 11.1112 - val_acc: 0.5500\n",
      "Epoch 12/50\n",
      " - 0s - loss: 10.5509 - acc: 0.5848 - val_loss: 10.0900 - val_acc: 0.5500\n",
      "Epoch 13/50\n",
      " - 0s - loss: 9.5410 - acc: 0.6082 - val_loss: 9.1544 - val_acc: 0.5500\n",
      "Epoch 14/50\n",
      " - 0s - loss: 8.6843 - acc: 0.5556 - val_loss: 8.3102 - val_acc: 0.5500\n",
      "Epoch 15/50\n",
      " - 0s - loss: 7.8255 - acc: 0.6199 - val_loss: 7.5544 - val_acc: 0.5500\n",
      "Epoch 16/50\n",
      " - 0s - loss: 7.1063 - acc: 0.6082 - val_loss: 6.8740 - val_acc: 0.5500\n",
      "Epoch 17/50\n",
      " - 0s - loss: 6.5055 - acc: 0.5731 - val_loss: 6.2622 - val_acc: 0.5500\n",
      "Epoch 18/50\n",
      " - 0s - loss: 5.8830 - acc: 0.6199 - val_loss: 5.7115 - val_acc: 0.5500\n",
      "Epoch 19/50\n",
      " - 0s - loss: 5.3187 - acc: 0.6433 - val_loss: 5.2204 - val_acc: 0.5500\n",
      "Epoch 20/50\n",
      " - 0s - loss: 4.8748 - acc: 0.6257 - val_loss: 4.7854 - val_acc: 0.5500\n",
      "Epoch 21/50\n",
      " - 0s - loss: 4.4167 - acc: 0.6082 - val_loss: 4.3915 - val_acc: 0.5500\n",
      "Epoch 22/50\n",
      " - 0s - loss: 4.0770 - acc: 0.6257 - val_loss: 4.0411 - val_acc: 0.5000\n",
      "Epoch 23/50\n",
      " - 0s - loss: 3.7077 - acc: 0.6550 - val_loss: 3.7336 - val_acc: 0.5000\n",
      "Epoch 24/50\n",
      " - 0s - loss: 3.4026 - acc: 0.6491 - val_loss: 3.4481 - val_acc: 0.5000\n",
      "Epoch 25/50\n",
      " - 0s - loss: 3.1338 - acc: 0.6433 - val_loss: 3.2068 - val_acc: 0.5000\n",
      "Epoch 26/50\n",
      " - 0s - loss: 2.9026 - acc: 0.6374 - val_loss: 2.9912 - val_acc: 0.4500\n",
      "Epoch 27/50\n",
      " - 0s - loss: 2.7008 - acc: 0.6257 - val_loss: 2.7946 - val_acc: 0.5000\n",
      "Epoch 28/50\n",
      " - 0s - loss: 2.5193 - acc: 0.6140 - val_loss: 2.6260 - val_acc: 0.5000\n",
      "Epoch 29/50\n",
      " - 0s - loss: 2.3436 - acc: 0.6257 - val_loss: 2.4699 - val_acc: 0.5000\n",
      "Epoch 30/50\n",
      " - 0s - loss: 2.1916 - acc: 0.6316 - val_loss: 2.3317 - val_acc: 0.5000\n",
      "Epoch 31/50\n",
      " - 0s - loss: 2.0481 - acc: 0.6725 - val_loss: 2.2092 - val_acc: 0.5000\n",
      "Epoch 32/50\n",
      " - 0s - loss: 1.9511 - acc: 0.6257 - val_loss: 2.0986 - val_acc: 0.5000\n",
      "Epoch 33/50\n",
      " - 0s - loss: 1.8558 - acc: 0.6257 - val_loss: 2.0048 - val_acc: 0.5000\n",
      "Epoch 34/50\n",
      " - 0s - loss: 1.7471 - acc: 0.6491 - val_loss: 1.9203 - val_acc: 0.5000\n",
      "Epoch 35/50\n",
      " - 0s - loss: 1.6579 - acc: 0.6725 - val_loss: 1.8486 - val_acc: 0.5000\n",
      "Epoch 36/50\n",
      " - 0s - loss: 1.5819 - acc: 0.6550 - val_loss: 1.7840 - val_acc: 0.5000\n",
      "Epoch 37/50\n",
      " - 0s - loss: 1.5091 - acc: 0.6374 - val_loss: 1.7343 - val_acc: 0.5500\n",
      "Epoch 38/50\n",
      " - 0s - loss: 1.4614 - acc: 0.6433 - val_loss: 1.6955 - val_acc: 0.5000\n",
      "Epoch 39/50\n",
      " - 0s - loss: 1.4138 - acc: 0.6374 - val_loss: 1.6611 - val_acc: 0.5000\n",
      "Epoch 40/50\n",
      " - 0s - loss: 1.3751 - acc: 0.6608 - val_loss: 1.6159 - val_acc: 0.4500\n",
      "Epoch 41/50\n",
      " - 0s - loss: 1.3514 - acc: 0.6784 - val_loss: 1.5882 - val_acc: 0.4500\n",
      "Epoch 42/50\n",
      " - 0s - loss: 1.2861 - acc: 0.6725 - val_loss: 1.5531 - val_acc: 0.4500\n",
      "Epoch 43/50\n",
      " - 0s - loss: 1.2823 - acc: 0.6550 - val_loss: 1.5173 - val_acc: 0.5000\n",
      "Epoch 44/50\n",
      " - 0s - loss: 1.2409 - acc: 0.6550 - val_loss: 1.4905 - val_acc: 0.5000\n",
      "Epoch 45/50\n",
      " - 0s - loss: 1.2179 - acc: 0.6433 - val_loss: 1.4711 - val_acc: 0.5000\n",
      "Epoch 46/50\n",
      " - 0s - loss: 1.1989 - acc: 0.6725 - val_loss: 1.4428 - val_acc: 0.5000\n",
      "Epoch 47/50\n",
      " - 0s - loss: 1.1735 - acc: 0.6608 - val_loss: 1.4368 - val_acc: 0.5000\n",
      "Epoch 48/50\n",
      " - 0s - loss: 1.1579 - acc: 0.6550 - val_loss: 1.4341 - val_acc: 0.5000\n",
      "Epoch 49/50\n",
      " - 0s - loss: 1.1458 - acc: 0.6608 - val_loss: 1.4240 - val_acc: 0.5000\n",
      "Epoch 50/50\n",
      " - 0s - loss: 1.1372 - acc: 0.6725 - val_loss: 1.4144 - val_acc: 0.5000\n"
     ]
    }
   ],
   "source": [
    "train_history = model.fit(new_all_feature , train_y, \n",
    "                          validation_split=0.1, \n",
    "                          epochs = 50, batch_size=15,verbose=2)"
   ]
  },
  {
   "cell_type": "code",
   "execution_count": 20,
   "metadata": {},
   "outputs": [],
   "source": [
    "import matplotlib.pyplot as plt\n",
    "def show_train_history(train_history,train,validation):  #,validation\n",
    "    plt.plot(train_history.history[train])\n",
    "    plt.plot(train_history.history[validation])\n",
    "    plt.title('Train History')\n",
    "    plt.ylabel(train)\n",
    "    plt.xlabel('Epoch')\n",
    "    plt.legend(['train','validation'],loc='upper left')\n",
    "    plt.show()"
   ]
  },
  {
   "cell_type": "code",
   "execution_count": 21,
   "metadata": {},
   "outputs": [
    {
     "data": {
      "image/png": "[encoded data removed]",
      "text/plain": [
       "<Figure size 432x288 with 1 Axes>"
      ]
     },
     "metadata": {
      "needs_background": "light"
     },
     "output_type": "display_data"
    }
   ],
   "source": [
    "show_train_history(train_history,'acc','val_acc')"
   ]
  },
  {
   "cell_type": "code",
   "execution_count": 22,
   "metadata": {},
   "outputs": [
    {
     "data": {
      "image/png": "[encoded data removed]",
      "text/plain": [
       "<Figure size 432x288 with 1 Axes>"
      ]
     },
     "metadata": {
      "needs_background": "light"
     },
     "output_type": "display_data"
    }
   ],
   "source": [
    "show_train_history(train_history,'loss','val_loss')  #"
   ]
  },
  {
   "cell_type": "code",
   "execution_count": 23,
   "metadata": {},
   "outputs": [],
   "source": [
    "from keras.models import load_model\n",
    "#model.save('model0505_new.h5')"
   ]
  },
  {
   "cell_type": "code",
   "execution_count": 24,
   "metadata": {},
   "outputs": [],
   "source": [
    "import tensorflowjs as tfjs"
   ]
  },
  {
   "cell_type": "code",
   "execution_count": 25,
   "metadata": {},
   "outputs": [],
   "source": [
    "#tfjs.converters.save_keras_model(model,'./model_file')  "
   ]
  }
 ],
 "metadata": {
  "kernelspec": {
   "display_name": "Python 3",
   "language": "python",
   "name": "python3"
  },
  "language_info": {
   "codemirror_mode": {
    "name": "ipython",
    "version": 3
   },
   "file_extension": ".py",
   "mimetype": "text/x-python",
   "name": "python",
   "nbconvert_exporter": "python",
   "pygments_lexer": "ipython3",
   "version": "3.6.9"
  }
 },
 "nbformat": 4,
 "nbformat_minor": 2
}
