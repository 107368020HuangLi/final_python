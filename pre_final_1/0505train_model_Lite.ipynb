{
 "cells": [
  {
   "cell_type": "code",
   "execution_count": 1,
   "metadata": {},
   "outputs": [],
   "source": [
    "from sklearn import datasets\n",
    "from sklearn.model_selection import train_test_split\n",
    "import matplotlib.pyplot as plt\n",
    "%matplotlib inline"
   ]
  },
  {
   "cell_type": "code",
   "execution_count": 2,
   "metadata": {},
   "outputs": [
    {
     "name": "stderr",
     "output_type": "stream",
     "text": [
      "Using TensorFlow backend.\n"
     ]
    }
   ],
   "source": [
    "import numpy as np\n",
    "import pandas as pd\n",
    "from sklearn import preprocessing\n",
    "import tensorflow as tf \n",
    "from tensorflow import keras\n",
    "from sklearn.metrics import precision_recall_fscore_support as score\n",
    "from keras.utils import np_utils\n",
    "from sklearn.utils import shuffle"
   ]
  },
  {
   "cell_type": "code",
   "execution_count": 3,
   "metadata": {},
   "outputs": [],
   "source": [
    "train = pd.read_csv('0505final_train.csv')"
   ]
  },
  {
   "cell_type": "code",
   "execution_count": 4,
   "metadata": {},
   "outputs": [],
   "source": [
    "train['HOSDAY'] = train['HOSDAY'].map({\"A\": 0, \"B\":1, \"C\":2, \"D\":3 }).astype(int)\n",
    "train = shuffle(train)"
   ]
  },
  {
   "cell_type": "code",
   "execution_count": 5,
   "metadata": {},
   "outputs": [],
   "source": [
    "train_feature = train.columns[1:]\n",
    "train_target = train.columns[0]\n",
    "train_feature = train[train_feature]\n",
    "train_y = train[train_target]\n",
    "train_y = train_y.values\n",
    "train_y = np_utils.to_categorical(train_y, num_classes = 4)"
   ]
  },
  {
   "cell_type": "code",
   "execution_count": 6,
   "metadata": {},
   "outputs": [],
   "source": [
    "new_all_feature = preprocessing.scale(train_feature)"
   ]
  },
  {
   "cell_type": "code",
   "execution_count": null,
   "metadata": {},
   "outputs": [],
   "source": []
  },
  {
   "cell_type": "code",
   "execution_count": 7,
   "metadata": {},
   "outputs": [],
   "source": [
    "from keras.models import Sequential\n",
    "from keras.layers import Dense\n",
    "from keras.layers import Dropout\n",
    "from keras import regularizers"
   ]
  },
  {
   "cell_type": "code",
   "execution_count": 8,
   "metadata": {},
   "outputs": [],
   "source": [
    "model = tf.keras.models.Sequential()"
   ]
  },
  {
   "cell_type": "code",
   "execution_count": 9,
   "metadata": {},
   "outputs": [],
   "source": [
    "model.add( tf.keras.layers.Dense(units=128, input_shape=[52],            #52,47\n",
    "           kernel_initializer='he_normal',\n",
    "           kernel_regularizer= regularizers.l2(0.1),  #0.04   #0.04   #1層  0.02\n",
    "#           bias_regularizer = regularizers.l2(0.05),  #0.05\n",
    "#           activity_regularizer=regularizers.l2(0.0001),                      \n",
    "           activation='relu') )"
   ]
  },
  {
   "cell_type": "code",
   "execution_count": 10,
   "metadata": {},
   "outputs": [],
   "source": [
    "model.add(tf.keras.layers.Dropout(0.4))  #ep 300"
   ]
  },
  {
   "cell_type": "code",
   "execution_count": 11,
   "metadata": {},
   "outputs": [],
   "source": [
    "model.add(tf.keras.layers.Dense(units=64,\n",
    "               kernel_initializer='he_normal',  #he_normal\n",
    "               kernel_regularizer= regularizers.l2(0.1),   #0.06\n",
    "#               bias_regularizer = regularizers.l2(0.05),                \n",
    "#               activity_regularizer=regularizers.l2(0.001),\n",
    "               activation='relu'))   #relu"
   ]
  },
  {
   "cell_type": "code",
   "execution_count": 12,
   "metadata": {},
   "outputs": [],
   "source": [
    "model.add(tf.keras.layers.Dropout(0.4))  #ep 100    #0.5  #0.3"
   ]
  },
  {
   "cell_type": "code",
   "execution_count": 13,
   "metadata": {},
   "outputs": [],
   "source": [
    "model.add(tf.keras.layers.Dense(units=4, \n",
    "#                                kernel_initializer='normal',\n",
    "                                activation='softmax'))    # kernel_initializer='normal',"
   ]
  },
  {
   "cell_type": "code",
   "execution_count": 14,
   "metadata": {},
   "outputs": [],
   "source": [
    "adam = keras.optimizers.Adam( lr=0.001 ,beta_1=0.9, beta_2=0.999, epsilon=1e-08 )"
   ]
  },
  {
   "cell_type": "code",
   "execution_count": 15,
   "metadata": {},
   "outputs": [],
   "source": [
    "model.compile( optimizer = adam , loss = 'categorical_crossentropy', metrics=['accuracy'])"
   ]
  },
  {
   "cell_type": "code",
   "execution_count": 16,
   "metadata": {
    "scrolled": true
   },
   "outputs": [
    {
     "name": "stdout",
     "output_type": "stream",
     "text": [
      "Train on 171 samples, validate on 20 samples\n",
      "Epoch 1/50\n",
      " - 0s - loss: 30.6925 - acc: 0.2047 - val_loss: 28.1742 - val_acc: 0.2500\n",
      "Epoch 2/50\n",
      " - 0s - loss: 27.3531 - acc: 0.3099 - val_loss: 25.5584 - val_acc: 0.4500\n",
      "Epoch 3/50\n",
      " - 0s - loss: 24.8633 - acc: 0.3684 - val_loss: 23.2640 - val_acc: 0.5000\n",
      "Epoch 4/50\n",
      " - 0s - loss: 22.5313 - acc: 0.4620 - val_loss: 21.1370 - val_acc: 0.5500\n",
      "Epoch 5/50\n",
      " - 0s - loss: 20.4511 - acc: 0.4327 - val_loss: 19.1713 - val_acc: 0.6000\n",
      "Epoch 6/50\n",
      " - 0s - loss: 18.4812 - acc: 0.5380 - val_loss: 17.3791 - val_acc: 0.6000\n",
      "Epoch 7/50\n",
      " - 0s - loss: 16.7539 - acc: 0.4737 - val_loss: 15.7365 - val_acc: 0.6000\n",
      "Epoch 8/50\n",
      " - 0s - loss: 15.1742 - acc: 0.4737 - val_loss: 14.2462 - val_acc: 0.6000\n",
      "Epoch 9/50\n",
      " - 0s - loss: 13.7478 - acc: 0.5263 - val_loss: 12.8879 - val_acc: 0.6500\n",
      "Epoch 10/50\n",
      " - 0s - loss: 12.4303 - acc: 0.5322 - val_loss: 11.6634 - val_acc: 0.6000\n",
      "Epoch 11/50\n",
      " - 0s - loss: 11.2033 - acc: 0.5731 - val_loss: 10.5637 - val_acc: 0.6000\n",
      "Epoch 12/50\n",
      " - 0s - loss: 10.1453 - acc: 0.5614 - val_loss: 9.5719 - val_acc: 0.6000\n",
      "Epoch 13/50\n",
      " - 0s - loss: 9.1622 - acc: 0.5731 - val_loss: 8.6737 - val_acc: 0.6000\n",
      "Epoch 14/50\n",
      " - 0s - loss: 8.3261 - acc: 0.5789 - val_loss: 7.8439 - val_acc: 0.6000\n",
      "Epoch 15/50\n",
      " - 0s - loss: 7.5360 - acc: 0.5497 - val_loss: 7.1076 - val_acc: 0.6000\n",
      "Epoch 16/50\n",
      " - 0s - loss: 6.8122 - acc: 0.6374 - val_loss: 6.4539 - val_acc: 0.6000\n",
      "Epoch 17/50\n",
      " - 0s - loss: 6.2369 - acc: 0.5556 - val_loss: 5.8663 - val_acc: 0.6000\n",
      "Epoch 18/50\n",
      " - 0s - loss: 5.6405 - acc: 0.5789 - val_loss: 5.3404 - val_acc: 0.6000\n",
      "Epoch 19/50\n",
      " - 0s - loss: 5.1046 - acc: 0.5731 - val_loss: 4.8692 - val_acc: 0.6000\n",
      "Epoch 20/50\n",
      " - 0s - loss: 4.6854 - acc: 0.5731 - val_loss: 4.4518 - val_acc: 0.6000\n",
      "Epoch 21/50\n",
      " - 0s - loss: 4.2478 - acc: 0.6140 - val_loss: 4.0821 - val_acc: 0.6000\n",
      "Epoch 22/50\n",
      " - 0s - loss: 3.8977 - acc: 0.6023 - val_loss: 3.7486 - val_acc: 0.6000\n",
      "Epoch 23/50\n",
      " - 0s - loss: 3.5763 - acc: 0.5965 - val_loss: 3.4485 - val_acc: 0.6000\n",
      "Epoch 24/50\n",
      " - 0s - loss: 3.2721 - acc: 0.6199 - val_loss: 3.1788 - val_acc: 0.6000\n",
      "Epoch 25/50\n",
      " - 0s - loss: 3.0458 - acc: 0.6023 - val_loss: 2.9400 - val_acc: 0.6000\n",
      "Epoch 26/50\n",
      " - 0s - loss: 2.8055 - acc: 0.6199 - val_loss: 2.7365 - val_acc: 0.6000\n",
      "Epoch 27/50\n",
      " - 0s - loss: 2.6119 - acc: 0.6433 - val_loss: 2.5542 - val_acc: 0.6000\n",
      "Epoch 28/50\n",
      " - 0s - loss: 2.4213 - acc: 0.6257 - val_loss: 2.3933 - val_acc: 0.6000\n",
      "Epoch 29/50\n",
      " - 0s - loss: 2.2954 - acc: 0.6374 - val_loss: 2.2449 - val_acc: 0.6000\n",
      "Epoch 30/50\n",
      " - 0s - loss: 2.1244 - acc: 0.6316 - val_loss: 2.1181 - val_acc: 0.6000\n",
      "Epoch 31/50\n",
      " - 0s - loss: 2.0190 - acc: 0.6257 - val_loss: 1.9994 - val_acc: 0.6000\n",
      "Epoch 32/50\n",
      " - 0s - loss: 1.9107 - acc: 0.6082 - val_loss: 1.9003 - val_acc: 0.6000\n",
      "Epoch 33/50\n",
      " - 0s - loss: 1.8035 - acc: 0.6316 - val_loss: 1.8164 - val_acc: 0.6000\n",
      "Epoch 34/50\n",
      " - 0s - loss: 1.7173 - acc: 0.6491 - val_loss: 1.7456 - val_acc: 0.6000\n",
      "Epoch 35/50\n",
      " - 0s - loss: 1.6464 - acc: 0.6199 - val_loss: 1.6699 - val_acc: 0.6000\n",
      "Epoch 36/50\n",
      " - 0s - loss: 1.5673 - acc: 0.6374 - val_loss: 1.6071 - val_acc: 0.6000\n",
      "Epoch 37/50\n",
      " - 0s - loss: 1.5038 - acc: 0.6608 - val_loss: 1.5488 - val_acc: 0.6000\n",
      "Epoch 38/50\n",
      " - 0s - loss: 1.4648 - acc: 0.6374 - val_loss: 1.5033 - val_acc: 0.6000\n",
      "Epoch 39/50\n",
      " - 0s - loss: 1.4104 - acc: 0.6374 - val_loss: 1.4578 - val_acc: 0.6000\n",
      "Epoch 40/50\n",
      " - 0s - loss: 1.3565 - acc: 0.6374 - val_loss: 1.4234 - val_acc: 0.5500\n",
      "Epoch 41/50\n",
      " - 0s - loss: 1.3126 - acc: 0.6433 - val_loss: 1.3896 - val_acc: 0.6000\n",
      "Epoch 42/50\n",
      " - 0s - loss: 1.2876 - acc: 0.6491 - val_loss: 1.3715 - val_acc: 0.6000\n",
      "Epoch 43/50\n",
      " - 0s - loss: 1.2537 - acc: 0.6725 - val_loss: 1.3426 - val_acc: 0.6000\n",
      "Epoch 44/50\n",
      " - 0s - loss: 1.2316 - acc: 0.6667 - val_loss: 1.3172 - val_acc: 0.6000\n",
      "Epoch 45/50\n",
      " - 0s - loss: 1.2194 - acc: 0.6433 - val_loss: 1.2978 - val_acc: 0.6000\n",
      "Epoch 46/50\n",
      " - 0s - loss: 1.2065 - acc: 0.6491 - val_loss: 1.2795 - val_acc: 0.6000\n",
      "Epoch 47/50\n",
      " - 0s - loss: 1.1786 - acc: 0.6374 - val_loss: 1.2664 - val_acc: 0.6000\n",
      "Epoch 48/50\n",
      " - 0s - loss: 1.1676 - acc: 0.6374 - val_loss: 1.2555 - val_acc: 0.6000\n",
      "Epoch 49/50\n",
      " - 0s - loss: 1.1448 - acc: 0.6842 - val_loss: 1.2448 - val_acc: 0.6000\n",
      "Epoch 50/50\n",
      " - 0s - loss: 1.1707 - acc: 0.6550 - val_loss: 1.2287 - val_acc: 0.6000\n"
     ]
    }
   ],
   "source": [
    "train_history = model.fit(new_all_feature , train_y, validation_split = 0.1,\n",
    "                          epochs = 50, batch_size = 15, verbose=2)   #一層500  三層1500"
   ]
  },
  {
   "cell_type": "code",
   "execution_count": 17,
   "metadata": {},
   "outputs": [],
   "source": [
    "import matplotlib.pyplot as plt\n",
    "def show_train_history(train_history,train,validation):\n",
    "    plt.plot(train_history.history[train])\n",
    "    plt.plot(train_history.history[validation])\n",
    "    plt.title('Train History')\n",
    "    plt.ylabel(train)\n",
    "    plt.xlabel('Epoch')\n",
    "    plt.legend(['train','validation'],loc='upper left')\n",
    "    plt.show()"
   ]
  },
  {
   "cell_type": "code",
   "execution_count": 18,
   "metadata": {},
   "outputs": [
    {
     "data": {
      "image/png": "[encoded data removed]",
      "text/plain": [
       "<Figure size 432x288 with 1 Axes>"
      ]
     },
     "metadata": {
      "needs_background": "light"
     },
     "output_type": "display_data"
    }
   ],
   "source": [
    "show_train_history(train_history,'acc','val_acc')"
   ]
  },
  {
   "cell_type": "code",
   "execution_count": 19,
   "metadata": {},
   "outputs": [
    {
     "data": {
      "image/png": "[encoded data removed]",
      "text/plain": [
       "<Figure size 432x288 with 1 Axes>"
      ]
     },
     "metadata": {
      "needs_background": "light"
     },
     "output_type": "display_data"
    }
   ],
   "source": [
    "show_train_history(train_history,'loss','val_loss')"
   ]
  },
  {
   "cell_type": "code",
   "execution_count": 29,
   "metadata": {},
   "outputs": [],
   "source": [
    "from keras.models import load_model\n",
    "model.save('model0505_V.h5')"
   ]
  },
  {
   "cell_type": "code",
   "execution_count": null,
   "metadata": {},
   "outputs": [],
   "source": [
    "import tensorflowjs as tfjs"
   ]
  },
  {
   "cell_type": "code",
   "execution_count": 34,
   "metadata": {},
   "outputs": [],
   "source": [
    "#tfjs.converters.save_keras_model(model,'./model_file')"
   ]
  },
  {
   "cell_type": "code",
   "execution_count": null,
   "metadata": {},
   "outputs": [],
   "source": []
  }
 ],
 "metadata": {
  "kernelspec": {
   "display_name": "Python 3",
   "language": "python",
   "name": "python3"
  },
  "language_info": {
   "codemirror_mode": {
    "name": "ipython",
    "version": 3
   },
   "file_extension": ".py",
   "mimetype": "text/x-python",
   "name": "python",
   "nbconvert_exporter": "python",
   "pygments_lexer": "ipython3",
   "version": "3.6.9"
  }
 },
 "nbformat": 4,
 "nbformat_minor": 2
}
