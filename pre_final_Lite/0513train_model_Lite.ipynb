{
 "cells": [
  {
   "cell_type": "code",
   "execution_count": 1,
   "metadata": {},
   "outputs": [],
   "source": [
    "from sklearn import datasets\n",
    "from sklearn.model_selection import train_test_split\n",
    "import matplotlib.pyplot as plt\n",
    "%matplotlib inline"
   ]
  },
  {
   "cell_type": "code",
   "execution_count": 2,
   "metadata": {},
   "outputs": [
    {
     "name": "stderr",
     "output_type": "stream",
     "text": [
      "Using TensorFlow backend.\n"
     ]
    }
   ],
   "source": [
    "import numpy as np\n",
    "import pandas as pd\n",
    "from sklearn import preprocessing\n",
    "import tensorflow as tf \n",
    "from tensorflow import keras\n",
    "from sklearn.metrics import precision_recall_fscore_support as score\n",
    "from keras.utils import np_utils\n",
    "from sklearn.utils import shuffle"
   ]
  },
  {
   "cell_type": "code",
   "execution_count": 3,
   "metadata": {},
   "outputs": [],
   "source": [
    "train = pd.read_csv('0513final_train_lite.csv')"
   ]
  },
  {
   "cell_type": "code",
   "execution_count": 4,
   "metadata": {},
   "outputs": [],
   "source": [
    "train['HOSDAY'] = train['HOSDAY'].map({\"A\": 0, \"B\":1, \"C\":2, \"D\":3 }).astype(int)\n",
    "train = shuffle(train)"
   ]
  },
  {
   "cell_type": "code",
   "execution_count": 5,
   "metadata": {},
   "outputs": [],
   "source": [
    "train_feature = train.columns[1:]\n",
    "train_target = train.columns[0]\n",
    "train_feature = train[train_feature]\n",
    "train_y = train[train_target]\n",
    "train_y = train_y.values\n",
    "train_y = np_utils.to_categorical(train_y, num_classes = 4)"
   ]
  },
  {
   "cell_type": "code",
   "execution_count": 6,
   "metadata": {},
   "outputs": [],
   "source": [
    "new_all_feature = preprocessing.scale(train_feature)"
   ]
  },
  {
   "cell_type": "code",
   "execution_count": null,
   "metadata": {},
   "outputs": [],
   "source": []
  },
  {
   "cell_type": "code",
   "execution_count": 7,
   "metadata": {},
   "outputs": [],
   "source": [
    "from keras.models import Sequential\n",
    "from keras.layers import Dense\n",
    "from keras.layers import Dropout\n",
    "from keras import regularizers"
   ]
  },
  {
   "cell_type": "code",
   "execution_count": 8,
   "metadata": {},
   "outputs": [],
   "source": [
    "model = tf.keras.models.Sequential()"
   ]
  },
  {
   "cell_type": "code",
   "execution_count": 9,
   "metadata": {},
   "outputs": [],
   "source": [
    "model.add( tf.keras.layers.Dense(units=128, input_shape=[40],            #52,47\n",
    "           kernel_initializer='he_normal',\n",
    "           kernel_regularizer= regularizers.l2(0.1),  #0.04   #0.04   #1層  0.02\n",
    "#           bias_regularizer = regularizers.l2(0.05),  #0.05\n",
    "#           activity_regularizer=regularizers.l2(0.0001),                      \n",
    "           activation='relu') )"
   ]
  },
  {
   "cell_type": "code",
   "execution_count": 10,
   "metadata": {},
   "outputs": [],
   "source": [
    "model.add(tf.keras.layers.Dropout(0.4))  #ep 300"
   ]
  },
  {
   "cell_type": "code",
   "execution_count": 11,
   "metadata": {},
   "outputs": [],
   "source": [
    "model.add(tf.keras.layers.Dense(units=64,\n",
    "               kernel_initializer='he_normal',  #he_normal\n",
    "               kernel_regularizer= regularizers.l2(0.1),   #0.06\n",
    "#               bias_regularizer = regularizers.l2(0.05),                \n",
    "#               activity_regularizer=regularizers.l2(0.001),\n",
    "               activation='relu'))   #relu"
   ]
  },
  {
   "cell_type": "code",
   "execution_count": 12,
   "metadata": {},
   "outputs": [],
   "source": [
    "model.add(tf.keras.layers.Dropout(0.4))  #ep 100    #0.5  #0.3"
   ]
  },
  {
   "cell_type": "code",
   "execution_count": 13,
   "metadata": {},
   "outputs": [],
   "source": [
    "model.add(tf.keras.layers.Dense(units=4, \n",
    "#                                kernel_initializer='normal',\n",
    "                                activation='softmax'))    # kernel_initializer='normal',"
   ]
  },
  {
   "cell_type": "code",
   "execution_count": 14,
   "metadata": {},
   "outputs": [],
   "source": [
    "adam = keras.optimizers.Adam( lr=0.001 ,beta_1=0.9, beta_2=0.999, epsilon=1e-08 )"
   ]
  },
  {
   "cell_type": "code",
   "execution_count": 15,
   "metadata": {},
   "outputs": [],
   "source": [
    "model.compile( optimizer = adam , loss = 'categorical_crossentropy', metrics=['accuracy'])"
   ]
  },
  {
   "cell_type": "code",
   "execution_count": 16,
   "metadata": {
    "scrolled": true
   },
   "outputs": [
    {
     "name": "stdout",
     "output_type": "stream",
     "text": [
      "Train on 171 samples, validate on 20 samples\n",
      "Epoch 1/50\n",
      " - 0s - loss: 30.4972 - acc: 0.3158 - val_loss: 28.4775 - val_acc: 0.4000\n",
      "Epoch 2/50\n",
      " - 0s - loss: 27.6594 - acc: 0.3918 - val_loss: 25.9856 - val_acc: 0.4000\n",
      "Epoch 3/50\n",
      " - 0s - loss: 25.2172 - acc: 0.3509 - val_loss: 23.7105 - val_acc: 0.4500\n",
      "Epoch 4/50\n",
      " - 0s - loss: 22.9150 - acc: 0.4912 - val_loss: 21.5976 - val_acc: 0.4500\n",
      "Epoch 5/50\n",
      " - 0s - loss: 20.8268 - acc: 0.4795 - val_loss: 19.6689 - val_acc: 0.5000\n",
      "Epoch 6/50\n",
      " - 0s - loss: 18.8443 - acc: 0.5263 - val_loss: 17.9316 - val_acc: 0.5000\n",
      "Epoch 7/50\n",
      " - 0s - loss: 17.2208 - acc: 0.5439 - val_loss: 16.3436 - val_acc: 0.5500\n",
      "Epoch 8/50\n",
      " - 0s - loss: 15.6436 - acc: 0.5439 - val_loss: 14.9075 - val_acc: 0.5000\n",
      "Epoch 9/50\n",
      " - 0s - loss: 14.2626 - acc: 0.5029 - val_loss: 13.5837 - val_acc: 0.4500\n",
      "Epoch 10/50\n",
      " - 0s - loss: 12.9213 - acc: 0.5965 - val_loss: 12.3700 - val_acc: 0.5000\n",
      "Epoch 11/50\n",
      " - 0s - loss: 11.7240 - acc: 0.6023 - val_loss: 11.2698 - val_acc: 0.6000\n",
      "Epoch 12/50\n",
      " - 0s - loss: 10.6874 - acc: 0.6257 - val_loss: 10.2919 - val_acc: 0.6000\n",
      "Epoch 13/50\n",
      " - 0s - loss: 9.6879 - acc: 0.6199 - val_loss: 9.4055 - val_acc: 0.6000\n",
      "Epoch 14/50\n",
      " - 0s - loss: 8.8084 - acc: 0.6374 - val_loss: 8.6060 - val_acc: 0.6000\n",
      "Epoch 15/50\n",
      " - 0s - loss: 8.0723 - acc: 0.6140 - val_loss: 7.8584 - val_acc: 0.6000\n",
      "Epoch 16/50\n",
      " - 0s - loss: 7.3691 - acc: 0.5906 - val_loss: 7.1903 - val_acc: 0.6000\n",
      "Epoch 17/50\n",
      " - 0s - loss: 6.7373 - acc: 0.5965 - val_loss: 6.5835 - val_acc: 0.6000\n",
      "Epoch 18/50\n",
      " - 0s - loss: 6.1518 - acc: 0.5906 - val_loss: 6.0468 - val_acc: 0.6000\n",
      "Epoch 19/50\n",
      " - 0s - loss: 5.6236 - acc: 0.5965 - val_loss: 5.5644 - val_acc: 0.6000\n",
      "Epoch 20/50\n",
      " - 0s - loss: 5.1604 - acc: 0.6140 - val_loss: 5.1333 - val_acc: 0.6000\n",
      "Epoch 21/50\n",
      " - 0s - loss: 4.7379 - acc: 0.5497 - val_loss: 4.7357 - val_acc: 0.6000\n",
      "Epoch 22/50\n",
      " - 0s - loss: 4.3505 - acc: 0.5965 - val_loss: 4.3793 - val_acc: 0.6000\n",
      "Epoch 23/50\n",
      " - 0s - loss: 4.0036 - acc: 0.6082 - val_loss: 4.0546 - val_acc: 0.6500\n",
      "Epoch 24/50\n",
      " - 0s - loss: 3.7141 - acc: 0.6140 - val_loss: 3.7617 - val_acc: 0.6500\n",
      "Epoch 25/50\n",
      " - 0s - loss: 3.4081 - acc: 0.6491 - val_loss: 3.5018 - val_acc: 0.6500\n",
      "Epoch 26/50\n",
      " - 0s - loss: 3.1840 - acc: 0.6199 - val_loss: 3.2706 - val_acc: 0.6500\n",
      "Epoch 27/50\n",
      " - 0s - loss: 2.9439 - acc: 0.6199 - val_loss: 3.0666 - val_acc: 0.6500\n",
      "Epoch 28/50\n",
      " - 0s - loss: 2.7465 - acc: 0.6257 - val_loss: 2.8802 - val_acc: 0.6500\n",
      "Epoch 29/50\n",
      " - 0s - loss: 2.5769 - acc: 0.6140 - val_loss: 2.7141 - val_acc: 0.6500\n",
      "Epoch 30/50\n",
      " - 0s - loss: 2.4146 - acc: 0.6316 - val_loss: 2.5597 - val_acc: 0.6500\n",
      "Epoch 31/50\n",
      " - 0s - loss: 2.2464 - acc: 0.6433 - val_loss: 2.4165 - val_acc: 0.6500\n",
      "Epoch 32/50\n",
      " - 0s - loss: 2.1522 - acc: 0.6140 - val_loss: 2.2919 - val_acc: 0.6500\n",
      "Epoch 33/50\n",
      " - 0s - loss: 2.0348 - acc: 0.6082 - val_loss: 2.1877 - val_acc: 0.6500\n",
      "Epoch 34/50\n",
      " - 0s - loss: 1.9333 - acc: 0.6374 - val_loss: 2.0880 - val_acc: 0.6500\n",
      "Epoch 35/50\n",
      " - 0s - loss: 1.8313 - acc: 0.6023 - val_loss: 1.9965 - val_acc: 0.6500\n",
      "Epoch 36/50\n",
      " - 0s - loss: 1.7560 - acc: 0.6082 - val_loss: 1.9255 - val_acc: 0.6500\n",
      "Epoch 37/50\n",
      " - 0s - loss: 1.6839 - acc: 0.6199 - val_loss: 1.8600 - val_acc: 0.6500\n",
      "Epoch 38/50\n",
      " - 0s - loss: 1.6026 - acc: 0.6316 - val_loss: 1.8007 - val_acc: 0.6500\n",
      "Epoch 39/50\n",
      " - 0s - loss: 1.5554 - acc: 0.6433 - val_loss: 1.7501 - val_acc: 0.6500\n",
      "Epoch 40/50\n",
      " - 0s - loss: 1.4976 - acc: 0.6316 - val_loss: 1.7060 - val_acc: 0.6500\n",
      "Epoch 41/50\n",
      " - 0s - loss: 1.4328 - acc: 0.6667 - val_loss: 1.6533 - val_acc: 0.6500\n",
      "Epoch 42/50\n",
      " - 0s - loss: 1.4114 - acc: 0.6491 - val_loss: 1.6120 - val_acc: 0.6500\n",
      "Epoch 43/50\n",
      " - 0s - loss: 1.3773 - acc: 0.6491 - val_loss: 1.5837 - val_acc: 0.6500\n",
      "Epoch 44/50\n",
      " - 0s - loss: 1.3482 - acc: 0.6316 - val_loss: 1.5542 - val_acc: 0.6500\n",
      "Epoch 45/50\n",
      " - 0s - loss: 1.3144 - acc: 0.6550 - val_loss: 1.5333 - val_acc: 0.6500\n",
      "Epoch 46/50\n",
      " - 0s - loss: 1.2782 - acc: 0.6316 - val_loss: 1.4937 - val_acc: 0.6500\n",
      "Epoch 47/50\n",
      " - 0s - loss: 1.2621 - acc: 0.6491 - val_loss: 1.4775 - val_acc: 0.6500\n",
      "Epoch 48/50\n",
      " - 0s - loss: 1.2383 - acc: 0.6374 - val_loss: 1.4644 - val_acc: 0.6500\n",
      "Epoch 49/50\n",
      " - 0s - loss: 1.2125 - acc: 0.6608 - val_loss: 1.4446 - val_acc: 0.6500\n",
      "Epoch 50/50\n",
      " - 0s - loss: 1.2042 - acc: 0.6667 - val_loss: 1.4254 - val_acc: 0.6500\n"
     ]
    }
   ],
   "source": [
    "train_history = model.fit(new_all_feature , train_y, validation_split = 0.1,\n",
    "                          epochs = 50, batch_size = 15, verbose=2)   #一層500  三層1500"
   ]
  },
  {
   "cell_type": "code",
   "execution_count": 17,
   "metadata": {},
   "outputs": [],
   "source": [
    "import matplotlib.pyplot as plt\n",
    "def show_train_history(train_history,train,validation):\n",
    "    plt.plot(train_history.history[train])\n",
    "    plt.plot(train_history.history[validation])\n",
    "    plt.title('Train History')\n",
    "    plt.ylabel(train)\n",
    "    plt.xlabel('Epoch')\n",
    "    plt.legend(['train','validation'],loc='upper left')\n",
    "    plt.show()"
   ]
  },
  {
   "cell_type": "code",
   "execution_count": 18,
   "metadata": {},
   "outputs": [
    {
     "data": {
      "image/png": "[encoded data removed]",
      "text/plain": [
       "<Figure size 432x288 with 1 Axes>"
      ]
     },
     "metadata": {
      "needs_background": "light"
     },
     "output_type": "display_data"
    }
   ],
   "source": [
    "show_train_history(train_history,'acc','val_acc')"
   ]
  },
  {
   "cell_type": "code",
   "execution_count": 19,
   "metadata": {},
   "outputs": [
    {
     "data": {
      "image/png": "[encoded data removed]",
      "text/plain": [
       "<Figure size 432x288 with 1 Axes>"
      ]
     },
     "metadata": {
      "needs_background": "light"
     },
     "output_type": "display_data"
    }
   ],
   "source": [
    "show_train_history(train_history,'loss','val_loss')"
   ]
  },
  {
   "cell_type": "code",
   "execution_count": 20,
   "metadata": {},
   "outputs": [],
   "source": [
    "#from keras.models import load_model\n",
    "#model.save('model0513_V.h5')"
   ]
  },
  {
   "cell_type": "code",
   "execution_count": 21,
   "metadata": {},
   "outputs": [],
   "source": [
    "#import tensorflowjs as tfjs"
   ]
  },
  {
   "cell_type": "code",
   "execution_count": 22,
   "metadata": {},
   "outputs": [],
   "source": [
    "#tfjs.converters.save_keras_model(model,'./model_file')"
   ]
  },
  {
   "cell_type": "code",
   "execution_count": null,
   "metadata": {},
   "outputs": [],
   "source": []
  },
  {
   "cell_type": "code",
   "execution_count": 23,
   "metadata": {},
   "outputs": [
    {
     "ename": "AttributeError",
     "evalue": "module 'tensorflow' has no attribute 'lite'",
     "output_type": "error",
     "traceback": [
      "\u001b[1;31m---------------------------------------------------------------------------\u001b[0m",
      "\u001b[1;31mAttributeError\u001b[0m                            Traceback (most recent call last)",
      "\u001b[1;32m<ipython-input-23-3b2a6ec057de>\u001b[0m in \u001b[0;36m<module>\u001b[1;34m\u001b[0m\n\u001b[1;32m----> 1\u001b[1;33m \u001b[0mconverter\u001b[0m \u001b[1;33m=\u001b[0m \u001b[0mtf\u001b[0m\u001b[1;33m.\u001b[0m\u001b[0mlite\u001b[0m\u001b[1;33m.\u001b[0m\u001b[0mTFLiteConverter\u001b[0m\u001b[1;33m.\u001b[0m\u001b[0mfrom_keras_model\u001b[0m\u001b[1;33m(\u001b[0m\u001b[0mmodel\u001b[0m\u001b[1;33m)\u001b[0m        \u001b[1;31m#tf.lite這個要 tensorflow2.0才能裝\u001b[0m\u001b[1;33m\u001b[0m\u001b[1;33m\u001b[0m\u001b[0m\n\u001b[0m\u001b[0;32m      2\u001b[0m \u001b[0mtflite_model\u001b[0m \u001b[1;33m=\u001b[0m \u001b[0mconverter\u001b[0m\u001b[1;33m.\u001b[0m\u001b[0mconvert\u001b[0m\u001b[1;33m(\u001b[0m\u001b[1;33m)\u001b[0m\u001b[1;33m\u001b[0m\u001b[1;33m\u001b[0m\u001b[0m\n\u001b[0;32m      3\u001b[0m \u001b[0mopen\u001b[0m\u001b[1;33m(\u001b[0m\u001b[1;34m\"ann.tflite\"\u001b[0m \u001b[1;33m,\u001b[0m \u001b[1;34m\"wb\"\u001b[0m\u001b[1;33m)\u001b[0m\u001b[1;33m.\u001b[0m\u001b[0mwrite\u001b[0m\u001b[1;33m(\u001b[0m\u001b[0mtflite_model\u001b[0m\u001b[1;33m)\u001b[0m\u001b[1;33m\u001b[0m\u001b[1;33m\u001b[0m\u001b[0m\n",
      "\u001b[1;31mAttributeError\u001b[0m: module 'tensorflow' has no attribute 'lite'"
     ]
    }
   ],
   "source": [
    "#converter = tf.lite.TFLiteConverter.from_keras_model(model)        #tf.lite這個要 tensorflow2.0才能裝 \n",
    "#tflite_model = converter.convert()\n",
    "#open(\"ann.tflite\" , \"wb\").write(tflite_model)"
   ]
  }
 ],
 "metadata": {
  "kernelspec": {
   "display_name": "Python 3",
   "language": "python",
   "name": "python3"
  },
  "language_info": {
   "codemirror_mode": {
    "name": "ipython",
    "version": 3
   },
   "file_extension": ".py",
   "mimetype": "text/x-python",
   "name": "python",
   "nbconvert_exporter": "python",
   "pygments_lexer": "ipython3",
   "version": "3.6.9"
  }
 },
 "nbformat": 4,
 "nbformat_minor": 2
}
