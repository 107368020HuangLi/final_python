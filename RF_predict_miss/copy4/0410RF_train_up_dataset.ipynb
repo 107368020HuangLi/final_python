{
 "cells": [
  {
   "cell_type": "code",
   "execution_count": 1,
   "metadata": {},
   "outputs": [],
   "source": [
    "from sklearn import datasets\n",
    "from sklearn.model_selection import train_test_split\n",
    "import matplotlib.pyplot as plt\n",
    "%matplotlib inline"
   ]
  },
  {
   "cell_type": "code",
   "execution_count": 2,
   "metadata": {},
   "outputs": [],
   "source": [
    "import numpy as np\n",
    "import pandas as pd\n",
    "from sklearn import preprocessing\n",
    "import tensorflow as tf \n",
    "from tensorflow import keras\n",
    "#from sklearn import cross_validation, ensemble, preprocessing, metrics\n",
    "from sklearn.ensemble import RandomForestClassifier   ##分類\n",
    "from sklearn.tree import DecisionTreeClassifier   ##分類\n",
    "#from sklearn.ensemble import RandomForestRegressor    ##回歸\n",
    "#from sklearn.metrics import roc_auc_score\n",
    "#還是要固定訓練資料和測試資料筆數\n",
    "from sklearn.ensemble import AdaBoostClassifier   ##分類\n",
    "from sklearn.metrics import precision_recall_fscore_support as score"
   ]
  },
  {
   "cell_type": "code",
   "execution_count": 3,
   "metadata": {},
   "outputs": [],
   "source": [
    "dataset_num = 1"
   ]
  },
  {
   "cell_type": "code",
   "execution_count": 4,
   "metadata": {},
   "outputs": [],
   "source": [
    "train = pd.read_csv('0410RF_train_data_'+str(dataset_num)+'.csv')"
   ]
  },
  {
   "cell_type": "code",
   "execution_count": 5,
   "metadata": {},
   "outputs": [],
   "source": [
    "#train = pd.get_dummies(data = train , columns=[\"GENDER\",\"occupation\",\"WHERE\",\"fracture_type\",\"ANESTHESIA_TYPE\",\n",
    "#                                               \"PATIENT_ORIGIN\",\"OP_TYPE\",\"PRE_DIAG\",\"POST_DIAG\"])"
   ]
  },
  {
   "cell_type": "code",
   "execution_count": 6,
   "metadata": {},
   "outputs": [],
   "source": [
    "train_feature = train.columns[1:]\n",
    "train_target = train.columns[0]\n",
    "train_feature = train[train_feature]\n",
    "train_y = train[train_target]"
   ]
  },
  {
   "cell_type": "code",
   "execution_count": null,
   "metadata": {},
   "outputs": [],
   "source": []
  },
  {
   "cell_type": "code",
   "execution_count": 7,
   "metadata": {},
   "outputs": [],
   "source": [
    "i_class0 = np.where( train_y == 0)[0]\n",
    "i_class1 = np.where( train_y == 1)[0]\n",
    "i_class2 = np.where( train_y == 2)[0] \n",
    "\n",
    "i_class3 = np.where( train_y == 3)[0]\n",
    "i_class4 = np.where( train_y == 4)[0] \n",
    "i_class5 = np.where( train_y == 5)[0] "
   ]
  },
  {
   "cell_type": "code",
   "execution_count": 8,
   "metadata": {},
   "outputs": [],
   "source": [
    "n_class0 = len(i_class0)\n",
    "n_class1 = len(i_class1)\n",
    "n_class2 = len(i_class2)\n",
    "\n",
    "n_class3 = len(i_class3)\n",
    "n_class4 = len(i_class4)\n",
    "n_class5 = len(i_class5)"
   ]
  },
  {
   "cell_type": "code",
   "execution_count": null,
   "metadata": {},
   "outputs": [],
   "source": []
  },
  {
   "cell_type": "code",
   "execution_count": 9,
   "metadata": {},
   "outputs": [],
   "source": [
    "i_class0_upsampled_onlyup = np.random.choice(i_class0, size = n_class2, replace = True)\n",
    "i_class1_upsampled_onlyup = np.random.choice(i_class1, size = n_class2, replace = True)\n",
    "\n",
    "#i_class2_downsampled = np.random.choice(i_class2, size = n_class3, replace = False)\n",
    "\n",
    "i_class3_upsampled_onlyup = np.random.choice(i_class3, size = n_class2, replace = True)\n",
    "#i_class3 = np.random.choice(i_class3, size = n_class2, replace = True)\n",
    "i_class4_upsampled_onlyup = np.random.choice(i_class4, size = n_class2, replace = True)\n",
    "i_class5_upsampled_onlyup = np.random.choice(i_class5, size = n_class2, replace = True)"
   ]
  },
  {
   "cell_type": "code",
   "execution_count": 10,
   "metadata": {},
   "outputs": [],
   "source": [
    "upsample_only = np.concatenate(( train_y[i_class0_upsampled_onlyup], train_y[i_class1_upsampled_onlyup],\n",
    "                      train_y[i_class2], train_y[i_class3_upsampled_onlyup],\n",
    "                      train_y[i_class4_upsampled_onlyup], train_y[i_class5_upsampled_onlyup]))"
   ]
  },
  {
   "cell_type": "code",
   "execution_count": 11,
   "metadata": {},
   "outputs": [],
   "source": [
    "upsample_only = pd.DataFrame(upsample_only)"
   ]
  },
  {
   "cell_type": "code",
   "execution_count": 12,
   "metadata": {},
   "outputs": [],
   "source": [
    "train_feature_uponly = train_feature.values"
   ]
  },
  {
   "cell_type": "code",
   "execution_count": 13,
   "metadata": {},
   "outputs": [],
   "source": [
    "up_only_feature = np.vstack( (train_feature_uponly[i_class0_upsampled_onlyup,:], train_feature_uponly[i_class1_upsampled_onlyup,:],\n",
    "                         train_feature_uponly[i_class2,:], train_feature_uponly[i_class3_upsampled_onlyup,:],\n",
    "                         train_feature_uponly[i_class4_upsampled_onlyup,:], train_feature_uponly[i_class5_upsampled_onlyup,:] ))"
   ]
  },
  {
   "cell_type": "code",
   "execution_count": 14,
   "metadata": {},
   "outputs": [],
   "source": [
    "new_train_data_uponly = pd.DataFrame(up_only_feature)"
   ]
  },
  {
   "cell_type": "code",
   "execution_count": 15,
   "metadata": {},
   "outputs": [],
   "source": [
    "new_train_data_uponly.insert(0,'painsco',upsample_only)"
   ]
  },
  {
   "cell_type": "code",
   "execution_count": 16,
   "metadata": {},
   "outputs": [],
   "source": [
    "new_train_data_uponly.to_csv('0410RF_out_uponly_'+str(dataset_num)+'.csv',index=False)"
   ]
  },
  {
   "cell_type": "code",
   "execution_count": null,
   "metadata": {},
   "outputs": [],
   "source": []
  },
  {
   "cell_type": "code",
   "execution_count": 17,
   "metadata": {},
   "outputs": [],
   "source": [
    "i_class0_upsampled_updown = np.random.choice(i_class0, size = n_class3, replace = True)\n",
    "i_class1_upsampled_updown = np.random.choice(i_class1, size = n_class3, replace = True)\n",
    "\n",
    "i_class2_downsampled_updown = np.random.choice(i_class2, size = n_class3, replace = False)\n",
    "\n",
    "#i_class3_upsampled_updown = np.random.choice(i_class3, size = n_class2, replace = True)\n",
    "#i_class3 = np.random.choice(i_class3, size = n_class2, replace = True)\n",
    "i_class4_upsampled_updown = np.random.choice(i_class4, size = n_class3, replace = True)\n",
    "i_class5_upsampled_updown = np.random.choice(i_class5, size = n_class3, replace = True)"
   ]
  },
  {
   "cell_type": "code",
   "execution_count": 18,
   "metadata": {},
   "outputs": [],
   "source": [
    "upsample_updown = np.concatenate(( train_y[i_class0_upsampled_updown], train_y[i_class1_upsampled_updown],\n",
    "                      train_y[i_class2_downsampled_updown], train_y[i_class3],\n",
    "                      train_y[i_class4_upsampled_updown], train_y[i_class5_upsampled_updown]))"
   ]
  },
  {
   "cell_type": "code",
   "execution_count": 19,
   "metadata": {},
   "outputs": [],
   "source": [
    "upsample_updown = pd.DataFrame(upsample_updown)"
   ]
  },
  {
   "cell_type": "code",
   "execution_count": 20,
   "metadata": {},
   "outputs": [],
   "source": [
    "train_feature_updown = train_feature.values"
   ]
  },
  {
   "cell_type": "code",
   "execution_count": 21,
   "metadata": {},
   "outputs": [],
   "source": [
    "updown_feature = np.vstack( (train_feature_updown[i_class0_upsampled_updown,:], train_feature_updown[i_class1_upsampled_updown,:],\n",
    "                         train_feature_updown[i_class2_downsampled_updown,:], train_feature_updown[i_class3,:],\n",
    "                         train_feature_updown[i_class4_upsampled_updown,:], train_feature_updown[i_class5_upsampled_updown,:] ))"
   ]
  },
  {
   "cell_type": "code",
   "execution_count": 22,
   "metadata": {},
   "outputs": [],
   "source": [
    "new_train_data_updown = pd.DataFrame(updown_feature)\n",
    "new_train_data_updown.insert(0,'painsco',upsample_updown)\n",
    "new_train_data_updown.to_csv('0410RF_out_updown_'+str(dataset_num)+'.csv',index=False)"
   ]
  },
  {
   "cell_type": "code",
   "execution_count": null,
   "metadata": {},
   "outputs": [],
   "source": []
  }
 ],
 "metadata": {
  "kernelspec": {
   "display_name": "Python 3",
   "language": "python",
   "name": "python3"
  },
  "language_info": {
   "codemirror_mode": {
    "name": "ipython",
    "version": 3
   },
   "file_extension": ".py",
   "mimetype": "text/x-python",
   "name": "python",
   "nbconvert_exporter": "python",
   "pygments_lexer": "ipython3",
   "version": "3.6.9"
  }
 },
 "nbformat": 4,
 "nbformat_minor": 2
}
