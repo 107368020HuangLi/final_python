{
 "cells": [
  {
   "cell_type": "code",
   "execution_count": 1,
   "metadata": {},
   "outputs": [],
   "source": [
    "from sklearn import datasets\n",
    "from sklearn.model_selection import train_test_split\n",
    "import matplotlib.pyplot as plt\n",
    "%matplotlib inline"
   ]
  },
  {
   "cell_type": "code",
   "execution_count": 2,
   "metadata": {},
   "outputs": [],
   "source": [
    "import numpy as np\n",
    "import pandas as pd\n",
    "from sklearn import preprocessing\n",
    "import tensorflow as tf \n",
    "from tensorflow import keras\n",
    "#from sklearn import cross_validation, ensemble, preprocessing, metrics\n",
    "from sklearn.ensemble import RandomForestClassifier   ##分類\n",
    "#from sklearn.ensemble import RandomForestRegressor    ##回歸\n",
    "#from sklearn.metrics import roc_auc_score\n",
    "#還是要固定訓練資料和測試資料筆數\n",
    "from sklearn.metrics import precision_recall_fscore_support as score\n",
    "from sklearn.preprocessing import LabelBinarizer"
   ]
  },
  {
   "cell_type": "code",
   "execution_count": 3,
   "metadata": {},
   "outputs": [],
   "source": [
    "dataset_num = 1"
   ]
  },
  {
   "cell_type": "code",
   "execution_count": 4,
   "metadata": {},
   "outputs": [],
   "source": [
    "#all_no_miss\n",
    "train_ori = pd.read_csv('0410RF_out_updown_'+str(dataset_num)+'.csv')\n",
    "test = pd.read_csv('0410RF_test_data_'+str(dataset_num)+'.csv')\n",
    "train_ori = train_ori.rename(columns = {'0':'AGE','1':'BMI', '2':'occupation', '3':'WHERE' })  \n",
    "combine = pd.concat([train_ori, test] , ignore_index=True)"
   ]
  },
  {
   "cell_type": "code",
   "execution_count": 5,
   "metadata": {},
   "outputs": [],
   "source": [
    "combine = pd.get_dummies(data = combine , columns=[\"occupation\",\"WHERE\"])"
   ]
  },
  {
   "cell_type": "code",
   "execution_count": 6,
   "metadata": {},
   "outputs": [],
   "source": [
    "train_ori = combine[0:len(train_ori)]\n",
    "test_ori = combine[len(train_ori):]"
   ]
  },
  {
   "cell_type": "code",
   "execution_count": 7,
   "metadata": {},
   "outputs": [],
   "source": [
    "train_feature_ori = train_ori.columns[1:]\n",
    "train_target_ori = train_ori.columns[0]\n",
    "train_feature_ori = train_ori[train_feature_ori]\n",
    "train_y_ori = train_ori[train_target_ori]"
   ]
  },
  {
   "cell_type": "code",
   "execution_count": 8,
   "metadata": {},
   "outputs": [],
   "source": [
    "test_feature_ori = test_ori.columns[1:]\n",
    "test_target_ori = test_ori.columns[0]\n",
    "test_feature_ori = test_ori[test_feature_ori]\n",
    "test_y_ori = test_ori[test_target_ori]"
   ]
  },
  {
   "cell_type": "code",
   "execution_count": 9,
   "metadata": {},
   "outputs": [],
   "source": [
    "column = pd.read_csv('0410train_data_column.csv')"
   ]
  },
  {
   "cell_type": "code",
   "execution_count": 10,
   "metadata": {},
   "outputs": [],
   "source": [
    "#column = pd.read_csv('col_all.csv')\n",
    "categorical_variables = [\"AGE\",\"BMI\",\"occupation\",\"WHERE\"]"
   ]
  },
  {
   "cell_type": "code",
   "execution_count": 11,
   "metadata": {},
   "outputs": [],
   "source": [
    "def graph_feature_importances(model,feature_names,autoscale=True,headroom=0.05,width=10,summarized_columns=None):\n",
    "    if autoscale:\n",
    "        x_scale = model.feature_importances_.max() + headroom\n",
    "    else:\n",
    "        x_scale = 1\n",
    "    \n",
    "    feature_dict = dict(zip(feature_names, model.feature_importances_))\n",
    "   \n",
    "    if summarized_columns:\n",
    "        for col_name in summarized_columns:\n",
    "            sum_value = sum(x for i, x in feature_dict.items() if col_name in i )    #iteritems 改成 items  在python3\n",
    "            #print(sum_value) \n",
    "            keys_to_remove = [i for i in feature_dict.keys() if col_name in i ]\n",
    "            \n",
    "            for i in keys_to_remove:\n",
    "                feature_dict.pop(i)\n",
    "                #print(i),可查看合併哪些類別\n",
    "            feature_dict[col_name] = sum_value\n",
    "            #print(feature_dict[col_name])  ; 可查看合併哪些類別的數值\n",
    "    results = pd.Series(feature_dict, index = feature_dict.keys()) #本來就是values,因此前面feature_dict.values()改成feature_dict\n",
    "    #print(results)   ;可查看原始 Series()的數值     \n",
    "    new_sort = results.sort_values(ascending = True)   \n",
    "    print(new_sort.sort_values(ascending = False))   #可查看排序後 Series()的數值 \n",
    "    #print(sum(new_sort))   #看總和\n",
    "    new_sort.plot(kind=\"barh\", figsize= (width,len(new_sort)/2), xlim = (0,x_scale) )"
   ]
  },
  {
   "cell_type": "code",
   "execution_count": null,
   "metadata": {},
   "outputs": [],
   "source": []
  },
  {
   "cell_type": "code",
   "execution_count": 12,
   "metadata": {},
   "outputs": [],
   "source": [
    "RF_normal_100 = RandomForestClassifier(n_estimators = 100, n_jobs = -1, max_depth = None,\n",
    "                                         max_features = None, oob_score = True ) "
   ]
  },
  {
   "cell_type": "code",
   "execution_count": 13,
   "metadata": {},
   "outputs": [
    {
     "data": {
      "text/plain": [
       "RandomForestClassifier(bootstrap=True, ccp_alpha=0.0, class_weight=None,\n",
       "                       criterion='gini', max_depth=None, max_features=None,\n",
       "                       max_leaf_nodes=None, max_samples=None,\n",
       "                       min_impurity_decrease=0.0, min_impurity_split=None,\n",
       "                       min_samples_leaf=1, min_samples_split=2,\n",
       "                       min_weight_fraction_leaf=0.0, n_estimators=100,\n",
       "                       n_jobs=-1, oob_score=True, random_state=None, verbose=0,\n",
       "                       warm_start=False)"
      ]
     },
     "execution_count": 13,
     "metadata": {},
     "output_type": "execute_result"
    }
   ],
   "source": [
    "RF_normal_100.fit( train_feature_ori , train_y_ori )"
   ]
  },
  {
   "cell_type": "code",
   "execution_count": 14,
   "metadata": {},
   "outputs": [
    {
     "name": "stdout",
     "output_type": "stream",
     "text": [
      "WHERE         0.366410\n",
      "BMI           0.309988\n",
      "AGE           0.172485\n",
      "occupation    0.151117\n",
      "dtype: float64\n"
     ]
    },
    {
     "data": {
      "image/png": "[encoded data removed]",
      "text/plain": [
       "<Figure size 720x144 with 1 Axes>"
      ]
     },
     "metadata": {
      "needs_background": "light"
     },
     "output_type": "display_data"
    }
   ],
   "source": [
    "graph_feature_importances( RF_normal_100 , column.columns, summarized_columns = categorical_variables)"
   ]
  },
  {
   "cell_type": "code",
   "execution_count": 15,
   "metadata": {},
   "outputs": [],
   "source": [
    "RF_normal_100_predict = RF_normal_100.predict(test_feature_ori)"
   ]
  },
  {
   "cell_type": "code",
   "execution_count": 16,
   "metadata": {},
   "outputs": [
    {
     "data": {
      "text/plain": [
       "array([2, 2, 0, 0, 2, 2, 2, 3, 2, 2, 2, 3, 4, 3], dtype=int64)"
      ]
     },
     "execution_count": 16,
     "metadata": {},
     "output_type": "execute_result"
    }
   ],
   "source": [
    "RF_normal_100_predict"
   ]
  },
  {
   "cell_type": "code",
   "execution_count": 17,
   "metadata": {},
   "outputs": [
    {
     "data": {
      "text/html": [
       "<div>\n",
       "<style scoped>\n",
       "    .dataframe tbody tr th:only-of-type {\n",
       "        vertical-align: middle;\n",
       "    }\n",
       "\n",
       "    .dataframe tbody tr th {\n",
       "        vertical-align: top;\n",
       "    }\n",
       "\n",
       "    .dataframe thead th {\n",
       "        text-align: right;\n",
       "    }\n",
       "</style>\n",
       "<table border=\"1\" class=\"dataframe\">\n",
       "  <thead>\n",
       "    <tr style=\"text-align: right;\">\n",
       "      <th>Predicted Species</th>\n",
       "      <th>0</th>\n",
       "      <th>2</th>\n",
       "      <th>3</th>\n",
       "      <th>4</th>\n",
       "    </tr>\n",
       "    <tr>\n",
       "      <th>Actual Species</th>\n",
       "      <th></th>\n",
       "      <th></th>\n",
       "      <th></th>\n",
       "      <th></th>\n",
       "    </tr>\n",
       "  </thead>\n",
       "  <tbody>\n",
       "    <tr>\n",
       "      <th>1</th>\n",
       "      <td>0</td>\n",
       "      <td>0</td>\n",
       "      <td>2</td>\n",
       "      <td>0</td>\n",
       "    </tr>\n",
       "    <tr>\n",
       "      <th>2</th>\n",
       "      <td>2</td>\n",
       "      <td>5</td>\n",
       "      <td>0</td>\n",
       "      <td>1</td>\n",
       "    </tr>\n",
       "    <tr>\n",
       "      <th>3</th>\n",
       "      <td>0</td>\n",
       "      <td>2</td>\n",
       "      <td>1</td>\n",
       "      <td>0</td>\n",
       "    </tr>\n",
       "    <tr>\n",
       "      <th>4</th>\n",
       "      <td>0</td>\n",
       "      <td>1</td>\n",
       "      <td>0</td>\n",
       "      <td>0</td>\n",
       "    </tr>\n",
       "  </tbody>\n",
       "</table>\n",
       "</div>"
      ],
      "text/plain": [
       "Predicted Species  0  2  3  4\n",
       "Actual Species               \n",
       "1                  0  0  2  0\n",
       "2                  2  5  0  1\n",
       "3                  0  2  1  0\n",
       "4                  0  1  0  0"
      ]
     },
     "execution_count": 17,
     "metadata": {},
     "output_type": "execute_result"
    }
   ],
   "source": [
    "pd.crosstab( test_y_ori, RF_normal_100_predict, rownames=['Actual Species'], colnames=['Predicted Species'])"
   ]
  },
  {
   "cell_type": "code",
   "execution_count": 18,
   "metadata": {},
   "outputs": [
    {
     "data": {
      "text/plain": [
       "0.42857142857142855"
      ]
     },
     "execution_count": 18,
     "metadata": {},
     "output_type": "execute_result"
    }
   ],
   "source": [
    "RF_normal_100.score(test_feature_ori, test_y_ori)"
   ]
  },
  {
   "cell_type": "code",
   "execution_count": null,
   "metadata": {},
   "outputs": [],
   "source": []
  },
  {
   "cell_type": "code",
   "execution_count": 19,
   "metadata": {},
   "outputs": [
    {
     "name": "stdout",
     "output_type": "stream",
     "text": [
      "0.5\n",
      "0.42857142857142855\n",
      "0.42857142857142855\n",
      "0.42857142857142855\n",
      "0.5\n",
      "0.42857142857142855\n",
      "0.5\n",
      "0.35714285714285715\n",
      "0.42857142857142855\n",
      "0.5\n"
     ]
    }
   ],
   "source": [
    "for i in range(10):\n",
    "    RF_normal_100 = RandomForestClassifier(n_estimators = 100, n_jobs = -1, max_depth = None,max_features = None, oob_score = True ) \n",
    "    RF_normal_100.fit( train_feature_ori , train_y_ori )\n",
    "    #graph_feature_importances( RF_normal_100 , column.columns, summarized_columns = categorical_variables)\n",
    "    RF_normal_100_predict = RF_normal_100.predict(test_feature_ori)\n",
    "    pd.crosstab( test_y_ori, RF_normal_100_predict, rownames=['Actual Species'], colnames=['Predicted Species'])\n",
    "    print(RF_normal_100.score(test_feature_ori, test_y_ori))"
   ]
  },
  {
   "cell_type": "code",
   "execution_count": null,
   "metadata": {},
   "outputs": [],
   "source": []
  }
 ],
 "metadata": {
  "kernelspec": {
   "display_name": "Python 3",
   "language": "python",
   "name": "python3"
  },
  "language_info": {
   "codemirror_mode": {
    "name": "ipython",
    "version": 3
   },
   "file_extension": ".py",
   "mimetype": "text/x-python",
   "name": "python",
   "nbconvert_exporter": "python",
   "pygments_lexer": "ipython3",
   "version": "3.6.9"
  }
 },
 "nbformat": 4,
 "nbformat_minor": 2
}
