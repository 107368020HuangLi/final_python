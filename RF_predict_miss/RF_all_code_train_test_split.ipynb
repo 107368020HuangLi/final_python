{
 "cells": [
  {
   "cell_type": "code",
   "execution_count": 1,
   "metadata": {},
   "outputs": [],
   "source": [
    "from sklearn import datasets\n",
    "from sklearn.model_selection import train_test_split\n",
    "import matplotlib.pyplot as plt\n",
    "%matplotlib inline"
   ]
  },
  {
   "cell_type": "code",
   "execution_count": 2,
   "metadata": {},
   "outputs": [],
   "source": [
    "import numpy as np\n",
    "import pandas as pd\n",
    "from sklearn import preprocessing\n",
    "import tensorflow as tf \n",
    "from tensorflow import keras\n",
    "#from sklearn import cross_validation, ensemble, preprocessing, metrics\n",
    "from sklearn.ensemble import RandomForestClassifier   ##分類\n",
    "#from sklearn.ensemble import RandomForestRegressor    ##回歸\n",
    "#from sklearn.metrics import roc_auc_score\n",
    "#還是要固定訓練資料和測試資料筆數\n",
    "from sklearn.metrics import precision_recall_fscore_support as score"
   ]
  },
  {
   "cell_type": "code",
   "execution_count": 3,
   "metadata": {},
   "outputs": [],
   "source": [
    "#all_no_miss\n",
    "train = pd.read_csv('0408trans_RF_all_train.csv')"
   ]
  },
  {
   "cell_type": "code",
   "execution_count": 4,
   "metadata": {},
   "outputs": [],
   "source": [
    "train['is_train'] = np.random.uniform(0, 1, len(train)) <= 0.86   #0.8\n",
    "train, test = train[train['is_train']==True], train[train['is_train']==False]"
   ]
  },
  {
   "cell_type": "code",
   "execution_count": 5,
   "metadata": {},
   "outputs": [],
   "source": [
    "train.reset_index( drop=True, inplace=True )\n",
    "del train['is_train']\n",
    "train_feature = train.columns[1:]\n",
    "train_target = train.columns[0]\n",
    "train_feature = train[train_feature]\n",
    "train_y = train[train_target]"
   ]
  },
  {
   "cell_type": "code",
   "execution_count": 6,
   "metadata": {},
   "outputs": [],
   "source": [
    "test.reset_index( drop=True, inplace=True )\n",
    "del test['is_train']\n",
    "test_feature = test.columns[1:]\n",
    "test_target = test.columns[0]\n",
    "test_feature = test[test_feature]\n",
    "test_y = test[test_target]"
   ]
  },
  {
   "cell_type": "code",
   "execution_count": 7,
   "metadata": {},
   "outputs": [],
   "source": [
    "if( ( len(test_y) > 11 ) and ( len(test_y) <= 15 ) ):\n",
    "    train.to_csv('0408RF_train_data_xx.csv',index = False )\n",
    "    test.to_csv('0408RF_test_data_xx.csv',index = False )"
   ]
  },
  {
   "cell_type": "code",
   "execution_count": 8,
   "metadata": {},
   "outputs": [
    {
     "data": {
      "text/plain": [
       "14"
      ]
     },
     "execution_count": 8,
     "metadata": {},
     "output_type": "execute_result"
    }
   ],
   "source": [
    "len(test_y)"
   ]
  }
 ],
 "metadata": {
  "kernelspec": {
   "display_name": "Python 3",
   "language": "python",
   "name": "python3"
  },
  "language_info": {
   "codemirror_mode": {
    "name": "ipython",
    "version": 3
   },
   "file_extension": ".py",
   "mimetype": "text/x-python",
   "name": "python",
   "nbconvert_exporter": "python",
   "pygments_lexer": "ipython3",
   "version": "3.6.9"
  }
 },
 "nbformat": 4,
 "nbformat_minor": 2
}
