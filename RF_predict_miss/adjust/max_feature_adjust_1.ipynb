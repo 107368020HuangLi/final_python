{
 "cells": [
  {
   "cell_type": "code",
   "execution_count": 1,
   "metadata": {},
   "outputs": [],
   "source": [
    "from sklearn import datasets\n",
    "from sklearn.model_selection import train_test_split\n",
    "import matplotlib.pyplot as plt\n",
    "%matplotlib inline"
   ]
  },
  {
   "cell_type": "code",
   "execution_count": 2,
   "metadata": {},
   "outputs": [],
   "source": [
    "import numpy as np\n",
    "import pandas as pd\n",
    "from sklearn import preprocessing\n",
    "import tensorflow as tf \n",
    "from tensorflow import keras\n",
    "#from sklearn import cross_validation, ensemble, preprocessing, metrics\n",
    "from sklearn.ensemble import RandomForestClassifier   ##分類\n",
    "from sklearn.tree import DecisionTreeClassifier   ##分類\n",
    "#from sklearn.ensemble import RandomForestRegressor    ##回歸\n",
    "#from sklearn.metrics import roc_auc_score\n",
    "import random\n",
    "from sklearn.ensemble import AdaBoostClassifier   ##分類\n",
    "#還是要固定訓練資料和測試資料筆數\n",
    "\n",
    "from sklearn.model_selection import cross_val_score"
   ]
  },
  {
   "cell_type": "code",
   "execution_count": null,
   "metadata": {},
   "outputs": [],
   "source": []
  },
  {
   "cell_type": "code",
   "execution_count": 3,
   "metadata": {},
   "outputs": [],
   "source": [
    "dataset_num = 1"
   ]
  },
  {
   "cell_type": "code",
   "execution_count": 4,
   "metadata": {},
   "outputs": [],
   "source": [
    "#all_no_miss\n",
    "train_ori = pd.read_csv('0410RF_train_data_'+str(dataset_num)+'.csv')\n",
    "test = pd.read_csv('0410RF_test_data_'+str(dataset_num)+'.csv')\n",
    "combine = pd.concat([train_ori, test] , ignore_index=True)"
   ]
  },
  {
   "cell_type": "code",
   "execution_count": 5,
   "metadata": {},
   "outputs": [],
   "source": [
    "combine = pd.get_dummies(data = combine , columns=[\"occupation\",\"WHERE\",\"PRE_DIAG\"])"
   ]
  },
  {
   "cell_type": "code",
   "execution_count": 6,
   "metadata": {},
   "outputs": [],
   "source": [
    "train_ori = combine[0:len(train_ori)]\n",
    "test_ori = combine[len(train_ori):]"
   ]
  },
  {
   "cell_type": "code",
   "execution_count": 7,
   "metadata": {},
   "outputs": [],
   "source": [
    "train_feature_ori = train_ori.columns[1:]\n",
    "train_target_ori = train_ori.columns[0]\n",
    "train_feature_ori = train_ori[train_feature_ori]\n",
    "train_y_ori = train_ori[train_target_ori]"
   ]
  },
  {
   "cell_type": "code",
   "execution_count": 8,
   "metadata": {},
   "outputs": [],
   "source": [
    "test_feature_ori = test_ori.columns[1:]\n",
    "test_target_ori = test_ori.columns[0]\n",
    "test_feature_ori = test_ori[test_feature_ori]\n",
    "test_y_ori = test_ori[test_target_ori]"
   ]
  },
  {
   "cell_type": "code",
   "execution_count": 9,
   "metadata": {},
   "outputs": [],
   "source": [
    "column = pd.read_csv('0410train_data_column.csv')"
   ]
  },
  {
   "cell_type": "code",
   "execution_count": null,
   "metadata": {},
   "outputs": [],
   "source": []
  },
  {
   "cell_type": "code",
   "execution_count": 10,
   "metadata": {},
   "outputs": [
    {
     "name": "stdout",
     "output_type": "stream",
     "text": [
      "第1次\n",
      "None option\n",
      "C-stat: 0.5714285714285714\n",
      "\n",
      "auto option\n",
      "C-stat: 0.6428571428571429\n",
      "\n",
      "log2 option\n",
      "C-stat: 0.5\n",
      "\n",
      "0.8 option\n",
      "C-stat: 0.5\n",
      "\n",
      "0.5 option\n",
      "C-stat: 0.5\n",
      "\n",
      "---------------------------\n",
      "第2次\n",
      "None option\n",
      "C-stat: 0.5714285714285714\n",
      "\n",
      "auto option\n",
      "C-stat: 0.5\n",
      "\n",
      "log2 option\n",
      "C-stat: 0.6428571428571429\n",
      "\n",
      "0.8 option\n",
      "C-stat: 0.5\n",
      "\n",
      "0.5 option\n",
      "C-stat: 0.5\n",
      "\n",
      "---------------------------\n",
      "第3次\n",
      "None option\n",
      "C-stat: 0.5714285714285714\n",
      "\n",
      "auto option\n",
      "C-stat: 0.5\n",
      "\n",
      "log2 option\n",
      "C-stat: 0.6428571428571429\n",
      "\n",
      "0.8 option\n",
      "C-stat: 0.5714285714285714\n",
      "\n",
      "0.5 option\n",
      "C-stat: 0.6428571428571429\n",
      "\n",
      "---------------------------\n",
      "第4次\n",
      "None option\n",
      "C-stat: 0.42857142857142855\n",
      "\n",
      "auto option\n",
      "C-stat: 0.5714285714285714\n",
      "\n",
      "log2 option\n",
      "C-stat: 0.5\n",
      "\n",
      "0.8 option\n",
      "C-stat: 0.5\n",
      "\n",
      "0.5 option\n",
      "C-stat: 0.5\n",
      "\n",
      "---------------------------\n",
      "第5次\n",
      "None option\n",
      "C-stat: 0.5714285714285714\n",
      "\n",
      "auto option\n",
      "C-stat: 0.6428571428571429\n",
      "\n",
      "log2 option\n",
      "C-stat: 0.5\n",
      "\n",
      "0.8 option\n",
      "C-stat: 0.5\n",
      "\n",
      "0.5 option\n",
      "C-stat: 0.5\n",
      "\n",
      "---------------------------\n",
      "第6次\n",
      "None option\n",
      "C-stat: 0.5714285714285714\n",
      "\n",
      "auto option\n",
      "C-stat: 0.42857142857142855\n",
      "\n",
      "log2 option\n",
      "C-stat: 0.5\n",
      "\n",
      "0.8 option\n",
      "C-stat: 0.5714285714285714\n",
      "\n",
      "0.5 option\n",
      "C-stat: 0.5714285714285714\n",
      "\n",
      "---------------------------\n",
      "第7次\n",
      "None option\n",
      "C-stat: 0.5714285714285714\n",
      "\n",
      "auto option\n",
      "C-stat: 0.6428571428571429\n",
      "\n",
      "log2 option\n",
      "C-stat: 0.5714285714285714\n",
      "\n",
      "0.8 option\n",
      "C-stat: 0.5\n",
      "\n",
      "0.5 option\n",
      "C-stat: 0.5714285714285714\n",
      "\n",
      "---------------------------\n",
      "第8次\n",
      "None option\n",
      "C-stat: 0.5\n",
      "\n",
      "auto option\n",
      "C-stat: 0.5714285714285714\n",
      "\n",
      "log2 option\n",
      "C-stat: 0.5714285714285714\n",
      "\n",
      "0.8 option\n",
      "C-stat: 0.5\n",
      "\n",
      "0.5 option\n",
      "C-stat: 0.6428571428571429\n",
      "\n",
      "---------------------------\n",
      "第9次\n",
      "None option\n",
      "C-stat: 0.5714285714285714\n",
      "\n",
      "auto option\n",
      "C-stat: 0.42857142857142855\n",
      "\n",
      "log2 option\n",
      "C-stat: 0.5\n",
      "\n",
      "0.8 option\n",
      "C-stat: 0.6428571428571429\n",
      "\n",
      "0.5 option\n",
      "C-stat: 0.5\n",
      "\n",
      "---------------------------\n",
      "第10次\n",
      "None option\n",
      "C-stat: 0.5\n",
      "\n",
      "auto option\n",
      "C-stat: 0.5714285714285714\n",
      "\n",
      "log2 option\n",
      "C-stat: 0.42857142857142855\n",
      "\n",
      "0.8 option\n",
      "C-stat: 0.42857142857142855\n",
      "\n",
      "0.5 option\n",
      "C-stat: 0.5714285714285714\n",
      "\n",
      "---------------------------\n"
     ]
    },
    {
     "data": {
      "image/png": "[encoded data removed]",
      "text/plain": [
       "<Figure size 432x288 with 1 Axes>"
      ]
     },
     "metadata": {
      "needs_background": "light"
     },
     "output_type": "display_data"
    }
   ],
   "source": [
    "for i in range(10):\n",
    "    result_feature = []\n",
    "    max_features_options = [None, \"auto\", \"log2\", 0.8, 0.5 ]\n",
    "    print(\"第\"+str(i+1)+\"次\")\n",
    "    for max_features in max_features_options:\n",
    "        model = RandomForestClassifier(25, oob_score = True, n_jobs = -1, max_features = max_features)\n",
    "        model.fit( train_feature_ori , train_y_ori )\n",
    "        print( max_features, \"option\" )\n",
    "        acc = model.score(test_feature_ori, test_y_ori)\n",
    "        print( \"C-stat:\", acc )\n",
    "        result_feature.append(acc)\n",
    "        print(\"\")\n",
    "    pd.Series(result_feature, max_features_options).plot(kind=\"barh\",xlim=(.4,.7))\n",
    "    print(\"---------------------------\")"
   ]
  },
  {
   "cell_type": "code",
   "execution_count": null,
   "metadata": {},
   "outputs": [],
   "source": []
  },
  {
   "cell_type": "code",
   "execution_count": null,
   "metadata": {},
   "outputs": [],
   "source": []
  },
  {
   "cell_type": "code",
   "execution_count": null,
   "metadata": {},
   "outputs": [],
   "source": []
  },
  {
   "cell_type": "code",
   "execution_count": null,
   "metadata": {},
   "outputs": [],
   "source": []
  },
  {
   "cell_type": "code",
   "execution_count": null,
   "metadata": {},
   "outputs": [],
   "source": []
  },
  {
   "cell_type": "code",
   "execution_count": null,
   "metadata": {},
   "outputs": [],
   "source": []
  },
  {
   "cell_type": "code",
   "execution_count": null,
   "metadata": {},
   "outputs": [],
   "source": []
  }
 ],
 "metadata": {
  "kernelspec": {
   "display_name": "Python 3",
   "language": "python",
   "name": "python3"
  },
  "language_info": {
   "codemirror_mode": {
    "name": "ipython",
    "version": 3
   },
   "file_extension": ".py",
   "mimetype": "text/x-python",
   "name": "python",
   "nbconvert_exporter": "python",
   "pygments_lexer": "ipython3",
   "version": "3.6.9"
  }
 },
 "nbformat": 4,
 "nbformat_minor": 2
}
