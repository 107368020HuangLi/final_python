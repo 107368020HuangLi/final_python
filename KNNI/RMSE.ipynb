{
 "cells": [
  {
   "cell_type": "code",
   "execution_count": 1,
   "metadata": {},
   "outputs": [],
   "source": [
    "import numpy as np\n",
    "import pandas as pd\n",
    "from sklearn import preprocessing\n",
    "import tensorflow as tf \n",
    "from tensorflow import keras\n",
    "import math"
   ]
  },
  {
   "cell_type": "code",
   "execution_count": 2,
   "metadata": {},
   "outputs": [],
   "source": [
    "real = pd.read_csv('test_1.csv')\n",
    "predict_mean = pd.read_csv('lost_216_mean.csv')\n",
    "predict_K3 = pd.read_csv('lost_216_K3.csv')\n",
    "predict_K7 = pd.read_csv('lost_216_K7.csv')\n",
    "predict_K11_dis = pd.read_csv('lost_216_K11.csv')\n",
    "predict_K11 = pd.read_csv('lost_216_K11_weight.csv')\n",
    "real = np.array(real)\n",
    "predict_mean = np.array(predict_mean)\n",
    "predict_K3 = np.array(predict_K3)\n",
    "predict_K7 = np.array(predict_K7)\n",
    "predict_K11_dis = np.array(predict_K11_dis)\n",
    "predict_K11 = np.array(predict_K11)"
   ]
  },
  {
   "cell_type": "code",
   "execution_count": 3,
   "metadata": {},
   "outputs": [
    {
     "data": {
      "text/plain": [
       "1.0122416226207003"
      ]
     },
     "execution_count": 3,
     "metadata": {},
     "output_type": "execute_result"
    }
   ],
   "source": [
    "RMSE_mean = math.sqrt( ( np.sum( ( real - predict_mean ) * ( real - predict_mean ) ) / 216 ) )\n",
    "RMSE_mean"
   ]
  },
  {
   "cell_type": "code",
   "execution_count": 4,
   "metadata": {},
   "outputs": [
    {
     "data": {
      "text/plain": [
       "1.058478285956873"
      ]
     },
     "execution_count": 4,
     "metadata": {},
     "output_type": "execute_result"
    }
   ],
   "source": [
    "RMSE_K3 = math.sqrt( ( np.sum( ( real - predict_K3 ) * ( real - predict_K3 ) ) / 216 ) )\n",
    "RMSE_K3"
   ]
  },
  {
   "cell_type": "code",
   "execution_count": 5,
   "metadata": {},
   "outputs": [
    {
     "data": {
      "text/plain": [
       "1.0284878553395769"
      ]
     },
     "execution_count": 5,
     "metadata": {},
     "output_type": "execute_result"
    }
   ],
   "source": [
    "RMSE_K7 = math.sqrt( ( np.sum( ( real - predict_K7 ) * ( real - predict_K7 ) ) / 216 ) )\n",
    "RMSE_K7"
   ]
  },
  {
   "cell_type": "code",
   "execution_count": 6,
   "metadata": {},
   "outputs": [
    {
     "data": {
      "text/plain": [
       "1.0042347275534753"
      ]
     },
     "execution_count": 6,
     "metadata": {},
     "output_type": "execute_result"
    }
   ],
   "source": [
    "RMSE_K11_dis = math.sqrt( ( np.sum( ( real - predict_K11_dis ) * ( real - predict_K11_dis ) ) / 216 ) )\n",
    "RMSE_K11_dis"
   ]
  },
  {
   "cell_type": "code",
   "execution_count": 7,
   "metadata": {},
   "outputs": [
    {
     "data": {
      "text/plain": [
       "1.0106954286186887"
      ]
     },
     "execution_count": 7,
     "metadata": {},
     "output_type": "execute_result"
    }
   ],
   "source": [
    "RMSE_K11 = math.sqrt( ( np.sum( ( real - predict_K11 ) * ( real - predict_K11 ) ) / 216 ) )\n",
    "RMSE_K11"
   ]
  },
  {
   "cell_type": "code",
   "execution_count": null,
   "metadata": {},
   "outputs": [],
   "source": []
  }
 ],
 "metadata": {
  "kernelspec": {
   "display_name": "Python 3",
   "language": "python",
   "name": "python3"
  },
  "language_info": {
   "codemirror_mode": {
    "name": "ipython",
    "version": 3
   },
   "file_extension": ".py",
   "mimetype": "text/x-python",
   "name": "python",
   "nbconvert_exporter": "python",
   "pygments_lexer": "ipython3",
   "version": "3.6.9"
  }
 },
 "nbformat": 4,
 "nbformat_minor": 2
}
