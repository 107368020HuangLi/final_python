{
 "cells": [
  {
   "cell_type": "code",
   "execution_count": 1,
   "metadata": {},
   "outputs": [],
   "source": [
    "import sklearn.impute\n",
    "from sklearn import impute\n",
    "from sklearn.experimental import enable_iterative_imputer\n",
    "from sklearn.impute import KNNImputer,SimpleImputer,IterativeImputer"
   ]
  },
  {
   "cell_type": "code",
   "execution_count": 2,
   "metadata": {},
   "outputs": [],
   "source": [
    "import numpy as np\n",
    "import pandas as pd\n",
    "from sklearn import preprocessing\n",
    "import tensorflow as tf \n",
    "from tensorflow import keras\n",
    "#from sklearn import cross_validation, ensemble, preprocessing, metrics\n",
    "#from sklearn.ensemble import RandomForestClassifier   ##分類\n",
    "#from sklearn.ensemble import RandomForestRegressor    ##回歸\n",
    "#from sklearn.metrics import roc_auc_score\n",
    "#還是要固定訓練資料和測試資料筆數\n",
    "#from sklearn.tree import DecisionTreeClassifier   ##分類\n",
    "from sklearn.preprocessing import StandardScaler"
   ]
  },
  {
   "cell_type": "code",
   "execution_count": 3,
   "metadata": {},
   "outputs": [],
   "source": [
    "train = pd.read_csv('0406KNN_no_miss.csv')"
   ]
  },
  {
   "cell_type": "code",
   "execution_count": 4,
   "metadata": {},
   "outputs": [],
   "source": [
    "#train"
   ]
  },
  {
   "cell_type": "code",
   "execution_count": 5,
   "metadata": {},
   "outputs": [],
   "source": [
    "scaler = StandardScaler()\n",
    "#standardized_features_fit = scaler.fit(features)\n",
    "#standardized_features_transform = scaler.transform(features)\n",
    "standardized_features = scaler.fit_transform(train)\n",
    "standardized_features = pd.DataFrame(standardized_features)"
   ]
  },
  {
   "cell_type": "code",
   "execution_count": 6,
   "metadata": {},
   "outputs": [],
   "source": [
    "standardized_features.to_csv('test/testzz.csv',index=False)"
   ]
  },
  {
   "cell_type": "code",
   "execution_count": 7,
   "metadata": {},
   "outputs": [],
   "source": [
    "nan_mat =  np.random.random( standardized_features.shape ) < 0.2"
   ]
  },
  {
   "cell_type": "code",
   "execution_count": 8,
   "metadata": {},
   "outputs": [],
   "source": [
    "#random_2_8 = np.random.choice(a = [True,False],replace = True, p=[0.2,0.8])\n",
    "#random_3_7 = np.random.choice(a = [True,False],replace = True, p=[0.3,0.7])\n",
    "#random_7_3 = np.random.choice(a = [True,False],replace = True, p=[0.7,0.3])\n",
    "#random_8_2 = np.random.choice(a = [True,False],replace = True, p=[0.8,0.2])\n",
    "#random_9_1 = np.random.choice(a = [True,False],replace = True, p=[0.9,0.1])\n",
    "#random_1_9 = np.random.choice(a = [True,False],replace = True, p=[0.1,0.9])"
   ]
  },
  {
   "cell_type": "code",
   "execution_count": 9,
   "metadata": {},
   "outputs": [],
   "source": [
    "for i in range(standardized_features.shape[0]) :\n",
    "    random_1_9_9 = np.random.choice(a = [True,False],replace = True, p=[0.2,0.8])   \n",
    "    random_9_1_9 = np.random.choice(a = [True,False],replace = True, p=[0.8,0.2])\n",
    "    random_5_5_5 = np.random.choice(a = [True,False],replace = True, p=[0.5,0.5])   \n",
    "    random_05_95_5 = np.random.choice(a = [True,False],replace = True, p=[0.05,0.95])\n",
    "    \n",
    "    random_2_8_2 = np.random.choice(a = [True,False],replace = True, p=[0.2,0.8]) \n",
    "    random_4_6_5 = np.random.choice(a = [True,False],replace = True, p=[0.4,0.6])   \n",
    "    \n",
    "    random_9_1_10 = np.random.choice(a = [True,False],replace = True, p=[0.9,0.1])\n",
    "    \n",
    "    random_05_95_0 = np.random.choice(a = [True,False],replace = True, p=[0.05,0.95])\n",
    "    random_03_97_1 = np.random.choice(a = [True,False],replace = True, p=[0.03,0.97])\n",
    "    \n",
    "    \n",
    "    random_95_05_4 = np.random.choice(a = [True,False],replace = True, p=[0.95,0.05])\n",
    "    random_95_05_6 = np.random.choice(a = [True,False],replace = True, p=[0.95,0.05])\n",
    "    random_95_05_7 = np.random.choice(a = [True,False],replace = True, p=[0.95,0.05])\n",
    "    random_95_05_8 = np.random.choice(a = [True,False],replace = True, p=[0.95,0.05])\n",
    "    random_9_1_9 = np.random.choice(a = [True,False],replace = True, p=[0.9,0.1])\n",
    "    random_95_05_10 = np.random.choice(a = [True,False],replace = True, p=[0.95,0.05])\n",
    "    \n",
    "    \n",
    "    random_05_95_4 = np.random.choice(a = [True,False],replace = True, p=[0.05,0.95])\n",
    "    random_05_95_6 = np.random.choice(a = [True,False],replace = True, p=[0.05,0.95])\n",
    "    random_05_95_7 = np.random.choice(a = [True,False],replace = True, p=[0.05,0.95])\n",
    "    random_05_95_8 = np.random.choice(a = [True,False],replace = True, p=[0.05,0.95])\n",
    "    random_1_9_9 = np.random.choice(a = [True,False],replace = True, p=[0.1,0.9])\n",
    "    random_05_95_10 = np.random.choice(a = [True,False],replace = True, p=[0.05,0.95])\n",
    "    \n",
    "    nan_mat[i][0] = random_05_95_0\n",
    "    nan_mat[i][1] = random_03_97_1\n",
    "    \n",
    "    nan_mat[i][2] = random_2_8_2\n",
    "    nan_mat[i][3] = False\n",
    "    nan_mat[i][4] = False\n",
    "    \n",
    "#    nan_mat[i][5] = random_4_6_5\n",
    "    nan_mat[i][6] = False\n",
    "    nan_mat[i][7] = False\n",
    "    nan_mat[i][8] = False\n",
    "    nan_mat[i][9] = False\n",
    "    nan_mat[i][10] = False\n",
    "    \n",
    "    if( (nan_mat[i][2] == True)  ):\n",
    "        nan_mat[i][3] = True\n",
    "        nan_mat[i][4] = random_95_05_4\n",
    "        nan_mat[i][5] = random_05_95_5\n",
    "        \n",
    "    if( (nan_mat[i][2] == False)  ):\n",
    "        nan_mat[i][3] = False\n",
    "        nan_mat[i][4] = random_05_95_4\n",
    "        nan_mat[i][5] = random_5_5_5\n",
    "        \n",
    "    if( (nan_mat[i][5] == True) ):\n",
    "        nan_mat[i][6] = random_95_05_6\n",
    "        nan_mat[i][7] = random_95_05_7\n",
    "        nan_mat[i][8] = random_95_05_8\n",
    "        nan_mat[i][9] = random_9_1_9       \n",
    "        nan_mat[i][10] = random_95_05_10\n",
    "    if( (nan_mat[i][5] == False) ):\n",
    "        nan_mat[i][6] = random_05_95_6\n",
    "        nan_mat[i][7] = random_05_95_7\n",
    "        nan_mat[i][8] = random_05_95_8\n",
    "        nan_mat[i][9] = random_1_9_9       \n",
    "        nan_mat[i][10] = random_05_95_10\n",
    "        "
   ]
  },
  {
   "cell_type": "code",
   "execution_count": 10,
   "metadata": {},
   "outputs": [],
   "source": [
    "#nan_mat"
   ]
  },
  {
   "cell_type": "code",
   "execution_count": 11,
   "metadata": {},
   "outputs": [],
   "source": [
    "#nan_mat.sum()"
   ]
  },
  {
   "cell_type": "code",
   "execution_count": 12,
   "metadata": {},
   "outputs": [],
   "source": [
    "standardized_features = standardized_features.mask(nan_mat)"
   ]
  },
  {
   "cell_type": "code",
   "execution_count": 13,
   "metadata": {},
   "outputs": [],
   "source": [
    "if nan_mat.sum() >= 210 and nan_mat.sum() <= 220:\n",
    "    standardized_features.to_csv('0406KNN_1/KNN_output_missing_' + str(nan_mat.sum()) + '.csv',index=False)"
   ]
  },
  {
   "cell_type": "code",
   "execution_count": null,
   "metadata": {},
   "outputs": [],
   "source": []
  },
  {
   "cell_type": "code",
   "execution_count": 14,
   "metadata": {},
   "outputs": [],
   "source": [
    "features_knn3 = KNNImputer(n_neighbors = 3).fit_transform(standardized_features)"
   ]
  },
  {
   "cell_type": "code",
   "execution_count": 15,
   "metadata": {},
   "outputs": [],
   "source": [
    "out3 = pd.DataFrame(features_knn3)"
   ]
  },
  {
   "cell_type": "code",
   "execution_count": 16,
   "metadata": {},
   "outputs": [],
   "source": [
    "if nan_mat.sum() >= 210 and nan_mat.sum() <= 220:\n",
    "    out3.to_csv('0406KNN_1/lost_'+ str(nan_mat.sum()) +'_K3.csv',index=False)"
   ]
  },
  {
   "cell_type": "code",
   "execution_count": null,
   "metadata": {},
   "outputs": [],
   "source": []
  },
  {
   "cell_type": "code",
   "execution_count": 17,
   "metadata": {},
   "outputs": [],
   "source": [
    "features_knn7 = KNNImputer(n_neighbors = 7).fit_transform(standardized_features)"
   ]
  },
  {
   "cell_type": "code",
   "execution_count": 18,
   "metadata": {},
   "outputs": [],
   "source": [
    "out7 = pd.DataFrame(features_knn7)"
   ]
  },
  {
   "cell_type": "code",
   "execution_count": 19,
   "metadata": {},
   "outputs": [],
   "source": [
    "if nan_mat.sum() >= 210 and nan_mat.sum() <= 220:\n",
    "    out7.to_csv('0406KNN_1/lost_'+ str(nan_mat.sum()) +'_K7.csv',index=False)"
   ]
  },
  {
   "cell_type": "code",
   "execution_count": null,
   "metadata": {},
   "outputs": [],
   "source": []
  },
  {
   "cell_type": "code",
   "execution_count": 20,
   "metadata": {},
   "outputs": [],
   "source": [
    "features_knn11_weight = KNNImputer(n_neighbors=11).fit_transform(standardized_features)"
   ]
  },
  {
   "cell_type": "code",
   "execution_count": 21,
   "metadata": {},
   "outputs": [],
   "source": [
    "out11_weight = pd.DataFrame(features_knn11_weight)"
   ]
  },
  {
   "cell_type": "code",
   "execution_count": 22,
   "metadata": {},
   "outputs": [],
   "source": [
    "if nan_mat.sum() >= 210 and nan_mat.sum() <= 220:    \n",
    "     out11_weight.to_csv('0406KNN_1/lost_'+ str(nan_mat.sum()) +'_K11_weight.csv',index=False)"
   ]
  },
  {
   "cell_type": "code",
   "execution_count": null,
   "metadata": {},
   "outputs": [],
   "source": []
  },
  {
   "cell_type": "code",
   "execution_count": 23,
   "metadata": {},
   "outputs": [],
   "source": [
    "features_knn11 = KNNImputer(n_neighbors=11,weights = 'distance').fit_transform(standardized_features)"
   ]
  },
  {
   "cell_type": "code",
   "execution_count": 24,
   "metadata": {},
   "outputs": [],
   "source": [
    "out11 = pd.DataFrame(features_knn11)"
   ]
  },
  {
   "cell_type": "code",
   "execution_count": 25,
   "metadata": {},
   "outputs": [],
   "source": [
    "if nan_mat.sum() >= 210 and nan_mat.sum() <= 220:    \n",
    "     out11.to_csv('0406KNN_1/lost_'+ str(nan_mat.sum()) +'_K11.csv',index=False)"
   ]
  },
  {
   "cell_type": "code",
   "execution_count": null,
   "metadata": {},
   "outputs": [],
   "source": []
  },
  {
   "cell_type": "code",
   "execution_count": 26,
   "metadata": {},
   "outputs": [],
   "source": [
    "features_mean = SimpleImputer(strategy= 'mean').fit_transform(standardized_features)"
   ]
  },
  {
   "cell_type": "code",
   "execution_count": 27,
   "metadata": {},
   "outputs": [],
   "source": [
    "mean = pd.DataFrame(features_mean)"
   ]
  },
  {
   "cell_type": "code",
   "execution_count": 28,
   "metadata": {},
   "outputs": [],
   "source": [
    "if nan_mat.sum() >= 210 and nan_mat.sum() <= 220:    \n",
    "    mean.to_csv('0406KNN_1/lost_'+ str(nan_mat.sum()) +'_mean.csv',index=False)"
   ]
  },
  {
   "cell_type": "code",
   "execution_count": null,
   "metadata": {},
   "outputs": [],
   "source": []
  },
  {
   "cell_type": "code",
   "execution_count": 29,
   "metadata": {},
   "outputs": [
    {
     "data": {
      "text/plain": [
       "217"
      ]
     },
     "execution_count": 29,
     "metadata": {},
     "output_type": "execute_result"
    }
   ],
   "source": [
    "nan_mat.sum()"
   ]
  },
  {
   "cell_type": "code",
   "execution_count": null,
   "metadata": {},
   "outputs": [],
   "source": []
  }
 ],
 "metadata": {
  "kernelspec": {
   "display_name": "Python 3",
   "language": "python",
   "name": "python3"
  },
  "language_info": {
   "codemirror_mode": {
    "name": "ipython",
    "version": 3
   },
   "file_extension": ".py",
   "mimetype": "text/x-python",
   "name": "python",
   "nbconvert_exporter": "python",
   "pygments_lexer": "ipython3",
   "version": "3.6.9"
  }
 },
 "nbformat": 4,
 "nbformat_minor": 2
}
